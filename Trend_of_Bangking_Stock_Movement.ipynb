{
  "nbformat": 4,
  "nbformat_minor": 0,
  "metadata": {
    "colab": {
      "provenance": [],
      "collapsed_sections": [
        "MrkfiNvZjLx3",
        "KIcuuIEPqgBA",
        "HhYdls1rs7zJ",
        "kJsR0QCAgiQ0",
        "IyRpWZ3U58Qv",
        "Apvoeqgk51R2",
        "oOdw4PNv1Ebv",
        "CF2PBlmN14AV",
        "B0uvDheUs5Al",
        "IEXnsuB2GbBU",
        "PICNRuvAMrSQ",
        "xQuNtF-HihGK",
        "dletGY4p85r3",
        "dJqbK5c_9C9_",
        "7RC-ssGAjTPM",
        "1o5UNyb-y65o",
        "w0zkNpp-vv3m",
        "SOClmU5cw31I",
        "1CHk2Jz_40A3",
        "itUyeZFQ0MAl",
        "b9DOOj8m2zzG",
        "XfjWWFv86s0i"
      ]
    },
    "kernelspec": {
      "name": "python3",
      "display_name": "Python 3"
    },
    "language_info": {
      "name": "python"
    }
  },
  "cells": [
    {
      "cell_type": "markdown",
      "source": [
        "# Perkenalan\n",
        "\n",
        "Nama : Hilal Amirudin\n",
        "\n",
        "Batch : RMT 019\n",
        "\n",
        "Objektiv : Laporan Trend pergerakan saham perbankan\n",
        "\n",
        "Dashboard Notebook : https://lookerstudio.google.com/reporting/2b8ed0b1-ec4e-45ea-be98-53c953d1c7c7"
      ],
      "metadata": {
        "id": "dlucR9jaoau-"
      }
    },
    {
      "cell_type": "markdown",
      "source": [
        "# Pendahuluan"
      ],
      "metadata": {
        "id": "MrkfiNvZjLx3"
      }
    },
    {
      "cell_type": "markdown",
      "source": [
        "## Latar Belakang"
      ],
      "metadata": {
        "id": "KIcuuIEPqgBA"
      }
    },
    {
      "cell_type": "markdown",
      "source": [
        "Investasi dan trading di pasar saham sangat tergantung pada kemampuan untuk memahami trend pergerakan data saham. Dalam dunia investasi dan trading, pemahaman yang baik tentang tren pasar dapat membantu investor dan trader untuk mengambil keputusan yang cerdas dan menguntungkan.\n",
        "\n",
        "Saya adalah seorang Data Analyst yang diminta oleh Candy Crush Sekuritas untuk membuat laporan trend pergerakan harga saham sektor perbankan. Tugas ini sangat penting dalam membantu Candy Crush Sekuritas membuat keputusan trading dan investasi yang cerdas dan menguntungkan di pasar saham."
      ],
      "metadata": {
        "id": "cPl32jU9qmxi"
      }
    },
    {
      "cell_type": "markdown",
      "source": [
        "## Tujuan"
      ],
      "metadata": {
        "id": "HhYdls1rs7zJ"
      }
    },
    {
      "cell_type": "markdown",
      "source": [
        "\n",
        "\n",
        "*   Mengklasifikasi jenis perusahaan di sektor perbankan\n",
        "*   Mengetahui Jenis saham dengan market cap terbesar\n",
        "*   Mengetahui pergerakan harga secara tahunan\n",
        "\n"
      ],
      "metadata": {
        "id": "4vHYqMI3s9-c"
      }
    },
    {
      "cell_type": "markdown",
      "source": [
        "## Rumusan Masalah"
      ],
      "metadata": {
        "id": "kJsR0QCAgiQ0"
      }
    },
    {
      "cell_type": "markdown",
      "source": [
        "Perusahaan Candy Crush Sekuritas berencana untuk berinvestasi di sektor perbankan karena mempertimbangkan suku bunga acuan Bank Indonesia yang masih tinggi dan akan memberikan keuntungan besar bagi industri perbankan dari sisi Net Interest Marginnya. perusahaan berencana memilih 1 perusahaan perbankan sebagai portofolionya dan mengharapkan keuntungan dimasa yang akan datang\n",
        "\n",
        "Maka dari itu Candy Crush sekuritas perlu mengetahui data pergerakan saham sektor perbankan dalam di Bursa Efek Indonesia\n",
        "\n",
        "Ada beberapa pertanyaan yang akan kita jawab pada proses analisis:\n",
        "\n",
        "1. Berapa jumlah presentase sektor perbankan/finance di Bursa Efek Indonesia?\n",
        "2. Sebutkan 4 saham perbankan dengan kapitalisasi terbesar?\n",
        "3. Sebutkan 4 saham perbankan dengan jumlah saham beredar terbanyak?\n",
        "4. Sebutkan 4 saham perbankan yang paling lama dan paling baru lsting di Bursa Efek Indonesia?\n",
        "5. Bagaimana pergerakan harga saham perbankan dengan kapitalisasi pasar terbesar?\n",
        "6. Apakah jumlah saham beredar memiliki prefensi dengan kapitalisasi pasar?\n"
      ],
      "metadata": {
        "id": "jsEc67JNmYZv"
      }
    },
    {
      "cell_type": "markdown",
      "source": [
        "# Import Library"
      ],
      "metadata": {
        "id": "IyRpWZ3U58Qv"
      }
    },
    {
      "cell_type": "code",
      "source": [
        "import pandas as pd\n",
        "from scipy import stats\n",
        "import numpy as np\n",
        "import matplotlib\n",
        "import matplotlib.pyplot as plt\n",
        "import seaborn as sns\n",
        "import sqlite3 as sql"
      ],
      "metadata": {
        "id": "jMMLIVmM5_Bl"
      },
      "execution_count": 252,
      "outputs": []
    },
    {
      "cell_type": "markdown",
      "source": [
        "# Data Loading"
      ],
      "metadata": {
        "id": "Apvoeqgk51R2"
      }
    },
    {
      "cell_type": "markdown",
      "source": [
        "Sumber data : https://www.kaggle.com/datasets/muamkh/ihsgstockdata"
      ],
      "metadata": {
        "id": "_mOqm9K8T2a-"
      }
    },
    {
      "cell_type": "markdown",
      "source": [
        "Penjelasan struktur dataset pada Data_saham\n",
        "\n",
        "*   Code = Stock code\n",
        "*   Name = Company name\n",
        "*   ListingDate = Listing date of stock on Indonesia Stock Exchange\n",
        "*   Shares = Amount of shares\n",
        "*   ListingBoard = Board category (Main Board, Development Board or Acceleration)\n",
        "*   Sector = Sector Category based on IDX-IC.\n",
        "*   LastPrice = Last stock price\n",
        "*   MarketCap = Market Capitalization.\n",
        "*   MinutesFirstAdded = Date the data first retrieved in minute range\n",
        "*   MinutesLastAdded = Date the data last retrieved in minute range\n",
        "*   HourlyFirstAdded = Date the data first retrieved in hourly range\n",
        "*   HourlyLastAdded = Date the data last retrieved in hourly range\n",
        "*   DailyFirstAdded = Date the data first retrieved in daily range\n",
        "*   DailyLastAdded = Date the data last retrieved in daily range"
      ],
      "metadata": {
        "id": "0jLhszrX9fuY"
      }
    },
    {
      "cell_type": "code",
      "source": [
        "Data_saham = pd.read_csv('/content/drive/MyDrive/ihsgstockdata/DaftarSaham.csv')\n",
        "Data_saham"
      ],
      "metadata": {
        "colab": {
          "base_uri": "https://localhost:8080/",
          "height": 0
        },
        "id": "YRtVHoDj8rMd",
        "outputId": "0a8e6dcd-fcae-4cb1-a16d-19b33666602a"
      },
      "execution_count": 253,
      "outputs": [
        {
          "output_type": "execute_result",
          "data": {
            "text/plain": [
              "     Code                          Name          ListingDate        Shares  \\\n",
              "0    AALI       Astra Agro Lestari Tbk.           1997-12-09  1.924688e+09   \n",
              "1    ABBA             Mahaka Media Tbk.           2002-04-03  3.935893e+09   \n",
              "2    ABDA  Asuransi Bina Dana Arta Tbk.           1989-07-06  6.208067e+08   \n",
              "3    ABMM            ABM Investama Tbk.           2011-12-06  2.753165e+09   \n",
              "4    ACES   Ace Hardware Indonesia Tbk.           2007-11-06  1.715000e+10   \n",
              "..    ...                           ...                  ...           ...   \n",
              "824  ZATA       Bersama Zatta Jaya Tbk.  2022-11-10 00:00:00  8.496000e+09   \n",
              "825  ZBRA     Dosni Roha Indonesia Tbk.           1991-08-01  2.510706e+09   \n",
              "826  ZINC        Kapuas Prima Coal Tbk.           2017-10-16  2.525000e+10   \n",
              "827  ZONE            Mega Perintis Tbk.           2018-12-12  8.701715e+08   \n",
              "828  ZYRX  Zyrexindo Mandiri Buana Tbk.           2021-03-30  1.333333e+09   \n",
              "\n",
              "     ListingBoard                  Sector  LastPrice     MarketCap  \\\n",
              "0           Utama  Consumer Non-Cyclicals     8000.0  1.539751e+13   \n",
              "1    Pengembangan      Consumer Cyclicals      142.0  5.588968e+11   \n",
              "2    Pengembangan              Financials     6700.0  4.159405e+12   \n",
              "3           Utama             Industrials     3050.0  8.397153e+12   \n",
              "4           Utama      Consumer Cyclicals      490.0  8.403500e+12   \n",
              "..            ...                     ...        ...           ...   \n",
              "824         Utama      Consumer Cyclicals      112.0  9.515520e+11   \n",
              "825  Pengembangan             Industrials      540.0  1.355781e+12   \n",
              "826  Pengembangan         Basic Materials       50.0  1.262500e+12   \n",
              "827  Pengembangan      Consumer Cyclicals     1205.0  1.048557e+12   \n",
              "828  Pengembangan              Technology      310.0  4.133333e+11   \n",
              "\n",
              "       MinutesFirstAdded   MinutesLastUpdated     HourlyFirstAdded  \\\n",
              "0    2021-11-01 09:00:00  2023-01-06 15:59:00  2020-04-16 09:00:00   \n",
              "1    2021-11-01 09:00:00  2023-01-06 15:59:00  2020-04-16 09:00:00   \n",
              "2    2021-11-01 09:00:00  2022-11-11 15:59:00  2020-04-16 09:00:00   \n",
              "3    2021-11-01 09:00:00  2023-01-06 15:59:00  2020-04-16 09:00:00   \n",
              "4    2021-11-01 09:00:00  2023-01-06 15:59:00  2020-04-16 09:00:00   \n",
              "..                   ...                  ...                  ...   \n",
              "824  2022-11-10 09:00:00  2023-01-06 15:59:00  2022-11-10 09:00:00   \n",
              "825  2021-11-01 09:00:00  2023-01-06 15:59:00  2020-04-16 09:00:00   \n",
              "826  2021-11-01 09:00:00  2023-01-06 15:59:00  2020-04-16 09:00:00   \n",
              "827  2021-11-01 09:00:00  2023-01-06 15:59:00  2020-04-16 09:00:00   \n",
              "828  2021-11-01 09:00:00  2023-01-06 15:59:00  2021-03-30 09:00:00   \n",
              "\n",
              "       HourlyLastUpdated DailyFirstAdded DailyLastUpdated  \n",
              "0    2023-01-06 15:00:00      2001-04-16       2023-01-06  \n",
              "1    2023-01-06 15:00:00      2002-04-03       2023-01-06  \n",
              "2    2022-11-11 16:00:00      2001-04-16       2023-01-06  \n",
              "3    2023-01-06 15:00:00      2011-12-06       2023-01-06  \n",
              "4    2023-01-06 15:00:00      2007-11-06       2023-01-06  \n",
              "..                   ...             ...              ...  \n",
              "824  2023-01-06 15:00:00      2022-11-11       2023-01-06  \n",
              "825  2023-01-06 15:00:00      2001-04-16       2023-01-06  \n",
              "826  2023-01-06 15:00:00      2017-10-16       2023-01-06  \n",
              "827  2023-01-06 15:00:00      2018-12-12       2023-01-06  \n",
              "828  2023-01-06 15:00:00      2021-03-30       2023-01-06  \n",
              "\n",
              "[829 rows x 14 columns]"
            ],
            "text/html": [
              "\n",
              "  <div id=\"df-f158fb57-5196-4109-8f58-ee7054567bc1\">\n",
              "    <div class=\"colab-df-container\">\n",
              "      <div>\n",
              "<style scoped>\n",
              "    .dataframe tbody tr th:only-of-type {\n",
              "        vertical-align: middle;\n",
              "    }\n",
              "\n",
              "    .dataframe tbody tr th {\n",
              "        vertical-align: top;\n",
              "    }\n",
              "\n",
              "    .dataframe thead th {\n",
              "        text-align: right;\n",
              "    }\n",
              "</style>\n",
              "<table border=\"1\" class=\"dataframe\">\n",
              "  <thead>\n",
              "    <tr style=\"text-align: right;\">\n",
              "      <th></th>\n",
              "      <th>Code</th>\n",
              "      <th>Name</th>\n",
              "      <th>ListingDate</th>\n",
              "      <th>Shares</th>\n",
              "      <th>ListingBoard</th>\n",
              "      <th>Sector</th>\n",
              "      <th>LastPrice</th>\n",
              "      <th>MarketCap</th>\n",
              "      <th>MinutesFirstAdded</th>\n",
              "      <th>MinutesLastUpdated</th>\n",
              "      <th>HourlyFirstAdded</th>\n",
              "      <th>HourlyLastUpdated</th>\n",
              "      <th>DailyFirstAdded</th>\n",
              "      <th>DailyLastUpdated</th>\n",
              "    </tr>\n",
              "  </thead>\n",
              "  <tbody>\n",
              "    <tr>\n",
              "      <th>0</th>\n",
              "      <td>AALI</td>\n",
              "      <td>Astra Agro Lestari Tbk.</td>\n",
              "      <td>1997-12-09</td>\n",
              "      <td>1.924688e+09</td>\n",
              "      <td>Utama</td>\n",
              "      <td>Consumer Non-Cyclicals</td>\n",
              "      <td>8000.0</td>\n",
              "      <td>1.539751e+13</td>\n",
              "      <td>2021-11-01 09:00:00</td>\n",
              "      <td>2023-01-06 15:59:00</td>\n",
              "      <td>2020-04-16 09:00:00</td>\n",
              "      <td>2023-01-06 15:00:00</td>\n",
              "      <td>2001-04-16</td>\n",
              "      <td>2023-01-06</td>\n",
              "    </tr>\n",
              "    <tr>\n",
              "      <th>1</th>\n",
              "      <td>ABBA</td>\n",
              "      <td>Mahaka Media Tbk.</td>\n",
              "      <td>2002-04-03</td>\n",
              "      <td>3.935893e+09</td>\n",
              "      <td>Pengembangan</td>\n",
              "      <td>Consumer Cyclicals</td>\n",
              "      <td>142.0</td>\n",
              "      <td>5.588968e+11</td>\n",
              "      <td>2021-11-01 09:00:00</td>\n",
              "      <td>2023-01-06 15:59:00</td>\n",
              "      <td>2020-04-16 09:00:00</td>\n",
              "      <td>2023-01-06 15:00:00</td>\n",
              "      <td>2002-04-03</td>\n",
              "      <td>2023-01-06</td>\n",
              "    </tr>\n",
              "    <tr>\n",
              "      <th>2</th>\n",
              "      <td>ABDA</td>\n",
              "      <td>Asuransi Bina Dana Arta Tbk.</td>\n",
              "      <td>1989-07-06</td>\n",
              "      <td>6.208067e+08</td>\n",
              "      <td>Pengembangan</td>\n",
              "      <td>Financials</td>\n",
              "      <td>6700.0</td>\n",
              "      <td>4.159405e+12</td>\n",
              "      <td>2021-11-01 09:00:00</td>\n",
              "      <td>2022-11-11 15:59:00</td>\n",
              "      <td>2020-04-16 09:00:00</td>\n",
              "      <td>2022-11-11 16:00:00</td>\n",
              "      <td>2001-04-16</td>\n",
              "      <td>2023-01-06</td>\n",
              "    </tr>\n",
              "    <tr>\n",
              "      <th>3</th>\n",
              "      <td>ABMM</td>\n",
              "      <td>ABM Investama Tbk.</td>\n",
              "      <td>2011-12-06</td>\n",
              "      <td>2.753165e+09</td>\n",
              "      <td>Utama</td>\n",
              "      <td>Industrials</td>\n",
              "      <td>3050.0</td>\n",
              "      <td>8.397153e+12</td>\n",
              "      <td>2021-11-01 09:00:00</td>\n",
              "      <td>2023-01-06 15:59:00</td>\n",
              "      <td>2020-04-16 09:00:00</td>\n",
              "      <td>2023-01-06 15:00:00</td>\n",
              "      <td>2011-12-06</td>\n",
              "      <td>2023-01-06</td>\n",
              "    </tr>\n",
              "    <tr>\n",
              "      <th>4</th>\n",
              "      <td>ACES</td>\n",
              "      <td>Ace Hardware Indonesia Tbk.</td>\n",
              "      <td>2007-11-06</td>\n",
              "      <td>1.715000e+10</td>\n",
              "      <td>Utama</td>\n",
              "      <td>Consumer Cyclicals</td>\n",
              "      <td>490.0</td>\n",
              "      <td>8.403500e+12</td>\n",
              "      <td>2021-11-01 09:00:00</td>\n",
              "      <td>2023-01-06 15:59:00</td>\n",
              "      <td>2020-04-16 09:00:00</td>\n",
              "      <td>2023-01-06 15:00:00</td>\n",
              "      <td>2007-11-06</td>\n",
              "      <td>2023-01-06</td>\n",
              "    </tr>\n",
              "    <tr>\n",
              "      <th>...</th>\n",
              "      <td>...</td>\n",
              "      <td>...</td>\n",
              "      <td>...</td>\n",
              "      <td>...</td>\n",
              "      <td>...</td>\n",
              "      <td>...</td>\n",
              "      <td>...</td>\n",
              "      <td>...</td>\n",
              "      <td>...</td>\n",
              "      <td>...</td>\n",
              "      <td>...</td>\n",
              "      <td>...</td>\n",
              "      <td>...</td>\n",
              "      <td>...</td>\n",
              "    </tr>\n",
              "    <tr>\n",
              "      <th>824</th>\n",
              "      <td>ZATA</td>\n",
              "      <td>Bersama Zatta Jaya Tbk.</td>\n",
              "      <td>2022-11-10 00:00:00</td>\n",
              "      <td>8.496000e+09</td>\n",
              "      <td>Utama</td>\n",
              "      <td>Consumer Cyclicals</td>\n",
              "      <td>112.0</td>\n",
              "      <td>9.515520e+11</td>\n",
              "      <td>2022-11-10 09:00:00</td>\n",
              "      <td>2023-01-06 15:59:00</td>\n",
              "      <td>2022-11-10 09:00:00</td>\n",
              "      <td>2023-01-06 15:00:00</td>\n",
              "      <td>2022-11-11</td>\n",
              "      <td>2023-01-06</td>\n",
              "    </tr>\n",
              "    <tr>\n",
              "      <th>825</th>\n",
              "      <td>ZBRA</td>\n",
              "      <td>Dosni Roha Indonesia Tbk.</td>\n",
              "      <td>1991-08-01</td>\n",
              "      <td>2.510706e+09</td>\n",
              "      <td>Pengembangan</td>\n",
              "      <td>Industrials</td>\n",
              "      <td>540.0</td>\n",
              "      <td>1.355781e+12</td>\n",
              "      <td>2021-11-01 09:00:00</td>\n",
              "      <td>2023-01-06 15:59:00</td>\n",
              "      <td>2020-04-16 09:00:00</td>\n",
              "      <td>2023-01-06 15:00:00</td>\n",
              "      <td>2001-04-16</td>\n",
              "      <td>2023-01-06</td>\n",
              "    </tr>\n",
              "    <tr>\n",
              "      <th>826</th>\n",
              "      <td>ZINC</td>\n",
              "      <td>Kapuas Prima Coal Tbk.</td>\n",
              "      <td>2017-10-16</td>\n",
              "      <td>2.525000e+10</td>\n",
              "      <td>Pengembangan</td>\n",
              "      <td>Basic Materials</td>\n",
              "      <td>50.0</td>\n",
              "      <td>1.262500e+12</td>\n",
              "      <td>2021-11-01 09:00:00</td>\n",
              "      <td>2023-01-06 15:59:00</td>\n",
              "      <td>2020-04-16 09:00:00</td>\n",
              "      <td>2023-01-06 15:00:00</td>\n",
              "      <td>2017-10-16</td>\n",
              "      <td>2023-01-06</td>\n",
              "    </tr>\n",
              "    <tr>\n",
              "      <th>827</th>\n",
              "      <td>ZONE</td>\n",
              "      <td>Mega Perintis Tbk.</td>\n",
              "      <td>2018-12-12</td>\n",
              "      <td>8.701715e+08</td>\n",
              "      <td>Pengembangan</td>\n",
              "      <td>Consumer Cyclicals</td>\n",
              "      <td>1205.0</td>\n",
              "      <td>1.048557e+12</td>\n",
              "      <td>2021-11-01 09:00:00</td>\n",
              "      <td>2023-01-06 15:59:00</td>\n",
              "      <td>2020-04-16 09:00:00</td>\n",
              "      <td>2023-01-06 15:00:00</td>\n",
              "      <td>2018-12-12</td>\n",
              "      <td>2023-01-06</td>\n",
              "    </tr>\n",
              "    <tr>\n",
              "      <th>828</th>\n",
              "      <td>ZYRX</td>\n",
              "      <td>Zyrexindo Mandiri Buana Tbk.</td>\n",
              "      <td>2021-03-30</td>\n",
              "      <td>1.333333e+09</td>\n",
              "      <td>Pengembangan</td>\n",
              "      <td>Technology</td>\n",
              "      <td>310.0</td>\n",
              "      <td>4.133333e+11</td>\n",
              "      <td>2021-11-01 09:00:00</td>\n",
              "      <td>2023-01-06 15:59:00</td>\n",
              "      <td>2021-03-30 09:00:00</td>\n",
              "      <td>2023-01-06 15:00:00</td>\n",
              "      <td>2021-03-30</td>\n",
              "      <td>2023-01-06</td>\n",
              "    </tr>\n",
              "  </tbody>\n",
              "</table>\n",
              "<p>829 rows × 14 columns</p>\n",
              "</div>\n",
              "      <button class=\"colab-df-convert\" onclick=\"convertToInteractive('df-f158fb57-5196-4109-8f58-ee7054567bc1')\"\n",
              "              title=\"Convert this dataframe to an interactive table.\"\n",
              "              style=\"display:none;\">\n",
              "        \n",
              "  <svg xmlns=\"http://www.w3.org/2000/svg\" height=\"24px\"viewBox=\"0 0 24 24\"\n",
              "       width=\"24px\">\n",
              "    <path d=\"M0 0h24v24H0V0z\" fill=\"none\"/>\n",
              "    <path d=\"M18.56 5.44l.94 2.06.94-2.06 2.06-.94-2.06-.94-.94-2.06-.94 2.06-2.06.94zm-11 1L8.5 8.5l.94-2.06 2.06-.94-2.06-.94L8.5 2.5l-.94 2.06-2.06.94zm10 10l.94 2.06.94-2.06 2.06-.94-2.06-.94-.94-2.06-.94 2.06-2.06.94z\"/><path d=\"M17.41 7.96l-1.37-1.37c-.4-.4-.92-.59-1.43-.59-.52 0-1.04.2-1.43.59L10.3 9.45l-7.72 7.72c-.78.78-.78 2.05 0 2.83L4 21.41c.39.39.9.59 1.41.59.51 0 1.02-.2 1.41-.59l7.78-7.78 2.81-2.81c.8-.78.8-2.07 0-2.86zM5.41 20L4 18.59l7.72-7.72 1.47 1.35L5.41 20z\"/>\n",
              "  </svg>\n",
              "      </button>\n",
              "      \n",
              "  <style>\n",
              "    .colab-df-container {\n",
              "      display:flex;\n",
              "      flex-wrap:wrap;\n",
              "      gap: 12px;\n",
              "    }\n",
              "\n",
              "    .colab-df-convert {\n",
              "      background-color: #E8F0FE;\n",
              "      border: none;\n",
              "      border-radius: 50%;\n",
              "      cursor: pointer;\n",
              "      display: none;\n",
              "      fill: #1967D2;\n",
              "      height: 32px;\n",
              "      padding: 0 0 0 0;\n",
              "      width: 32px;\n",
              "    }\n",
              "\n",
              "    .colab-df-convert:hover {\n",
              "      background-color: #E2EBFA;\n",
              "      box-shadow: 0px 1px 2px rgba(60, 64, 67, 0.3), 0px 1px 3px 1px rgba(60, 64, 67, 0.15);\n",
              "      fill: #174EA6;\n",
              "    }\n",
              "\n",
              "    [theme=dark] .colab-df-convert {\n",
              "      background-color: #3B4455;\n",
              "      fill: #D2E3FC;\n",
              "    }\n",
              "\n",
              "    [theme=dark] .colab-df-convert:hover {\n",
              "      background-color: #434B5C;\n",
              "      box-shadow: 0px 1px 3px 1px rgba(0, 0, 0, 0.15);\n",
              "      filter: drop-shadow(0px 1px 2px rgba(0, 0, 0, 0.3));\n",
              "      fill: #FFFFFF;\n",
              "    }\n",
              "  </style>\n",
              "\n",
              "      <script>\n",
              "        const buttonEl =\n",
              "          document.querySelector('#df-f158fb57-5196-4109-8f58-ee7054567bc1 button.colab-df-convert');\n",
              "        buttonEl.style.display =\n",
              "          google.colab.kernel.accessAllowed ? 'block' : 'none';\n",
              "\n",
              "        async function convertToInteractive(key) {\n",
              "          const element = document.querySelector('#df-f158fb57-5196-4109-8f58-ee7054567bc1');\n",
              "          const dataTable =\n",
              "            await google.colab.kernel.invokeFunction('convertToInteractive',\n",
              "                                                     [key], {});\n",
              "          if (!dataTable) return;\n",
              "\n",
              "          const docLinkHtml = 'Like what you see? Visit the ' +\n",
              "            '<a target=\"_blank\" href=https://colab.research.google.com/notebooks/data_table.ipynb>data table notebook</a>'\n",
              "            + ' to learn more about interactive tables.';\n",
              "          element.innerHTML = '';\n",
              "          dataTable['output_type'] = 'display_data';\n",
              "          await google.colab.output.renderOutput(dataTable, element);\n",
              "          const docLink = document.createElement('div');\n",
              "          docLink.innerHTML = docLinkHtml;\n",
              "          element.appendChild(docLink);\n",
              "        }\n",
              "      </script>\n",
              "    </div>\n",
              "  </div>\n",
              "  "
            ]
          },
          "metadata": {},
          "execution_count": 253
        }
      ]
    },
    {
      "cell_type": "code",
      "source": [
        "Data_saham.head()"
      ],
      "metadata": {
        "colab": {
          "base_uri": "https://localhost:8080/",
          "height": 0
        },
        "id": "7gkjVyoUpqxV",
        "outputId": "cd673590-b631-42b6-9b9a-4ebf302897e9"
      },
      "execution_count": 254,
      "outputs": [
        {
          "output_type": "execute_result",
          "data": {
            "text/plain": [
              "   Code                          Name ListingDate        Shares  ListingBoard  \\\n",
              "0  AALI       Astra Agro Lestari Tbk.  1997-12-09  1.924688e+09         Utama   \n",
              "1  ABBA             Mahaka Media Tbk.  2002-04-03  3.935893e+09  Pengembangan   \n",
              "2  ABDA  Asuransi Bina Dana Arta Tbk.  1989-07-06  6.208067e+08  Pengembangan   \n",
              "3  ABMM            ABM Investama Tbk.  2011-12-06  2.753165e+09         Utama   \n",
              "4  ACES   Ace Hardware Indonesia Tbk.  2007-11-06  1.715000e+10         Utama   \n",
              "\n",
              "                   Sector  LastPrice     MarketCap    MinutesFirstAdded  \\\n",
              "0  Consumer Non-Cyclicals     8000.0  1.539751e+13  2021-11-01 09:00:00   \n",
              "1      Consumer Cyclicals      142.0  5.588968e+11  2021-11-01 09:00:00   \n",
              "2              Financials     6700.0  4.159405e+12  2021-11-01 09:00:00   \n",
              "3             Industrials     3050.0  8.397153e+12  2021-11-01 09:00:00   \n",
              "4      Consumer Cyclicals      490.0  8.403500e+12  2021-11-01 09:00:00   \n",
              "\n",
              "    MinutesLastUpdated     HourlyFirstAdded    HourlyLastUpdated  \\\n",
              "0  2023-01-06 15:59:00  2020-04-16 09:00:00  2023-01-06 15:00:00   \n",
              "1  2023-01-06 15:59:00  2020-04-16 09:00:00  2023-01-06 15:00:00   \n",
              "2  2022-11-11 15:59:00  2020-04-16 09:00:00  2022-11-11 16:00:00   \n",
              "3  2023-01-06 15:59:00  2020-04-16 09:00:00  2023-01-06 15:00:00   \n",
              "4  2023-01-06 15:59:00  2020-04-16 09:00:00  2023-01-06 15:00:00   \n",
              "\n",
              "  DailyFirstAdded DailyLastUpdated  \n",
              "0      2001-04-16       2023-01-06  \n",
              "1      2002-04-03       2023-01-06  \n",
              "2      2001-04-16       2023-01-06  \n",
              "3      2011-12-06       2023-01-06  \n",
              "4      2007-11-06       2023-01-06  "
            ],
            "text/html": [
              "\n",
              "  <div id=\"df-f506de35-e62e-48c8-b875-32b72daa1fef\">\n",
              "    <div class=\"colab-df-container\">\n",
              "      <div>\n",
              "<style scoped>\n",
              "    .dataframe tbody tr th:only-of-type {\n",
              "        vertical-align: middle;\n",
              "    }\n",
              "\n",
              "    .dataframe tbody tr th {\n",
              "        vertical-align: top;\n",
              "    }\n",
              "\n",
              "    .dataframe thead th {\n",
              "        text-align: right;\n",
              "    }\n",
              "</style>\n",
              "<table border=\"1\" class=\"dataframe\">\n",
              "  <thead>\n",
              "    <tr style=\"text-align: right;\">\n",
              "      <th></th>\n",
              "      <th>Code</th>\n",
              "      <th>Name</th>\n",
              "      <th>ListingDate</th>\n",
              "      <th>Shares</th>\n",
              "      <th>ListingBoard</th>\n",
              "      <th>Sector</th>\n",
              "      <th>LastPrice</th>\n",
              "      <th>MarketCap</th>\n",
              "      <th>MinutesFirstAdded</th>\n",
              "      <th>MinutesLastUpdated</th>\n",
              "      <th>HourlyFirstAdded</th>\n",
              "      <th>HourlyLastUpdated</th>\n",
              "      <th>DailyFirstAdded</th>\n",
              "      <th>DailyLastUpdated</th>\n",
              "    </tr>\n",
              "  </thead>\n",
              "  <tbody>\n",
              "    <tr>\n",
              "      <th>0</th>\n",
              "      <td>AALI</td>\n",
              "      <td>Astra Agro Lestari Tbk.</td>\n",
              "      <td>1997-12-09</td>\n",
              "      <td>1.924688e+09</td>\n",
              "      <td>Utama</td>\n",
              "      <td>Consumer Non-Cyclicals</td>\n",
              "      <td>8000.0</td>\n",
              "      <td>1.539751e+13</td>\n",
              "      <td>2021-11-01 09:00:00</td>\n",
              "      <td>2023-01-06 15:59:00</td>\n",
              "      <td>2020-04-16 09:00:00</td>\n",
              "      <td>2023-01-06 15:00:00</td>\n",
              "      <td>2001-04-16</td>\n",
              "      <td>2023-01-06</td>\n",
              "    </tr>\n",
              "    <tr>\n",
              "      <th>1</th>\n",
              "      <td>ABBA</td>\n",
              "      <td>Mahaka Media Tbk.</td>\n",
              "      <td>2002-04-03</td>\n",
              "      <td>3.935893e+09</td>\n",
              "      <td>Pengembangan</td>\n",
              "      <td>Consumer Cyclicals</td>\n",
              "      <td>142.0</td>\n",
              "      <td>5.588968e+11</td>\n",
              "      <td>2021-11-01 09:00:00</td>\n",
              "      <td>2023-01-06 15:59:00</td>\n",
              "      <td>2020-04-16 09:00:00</td>\n",
              "      <td>2023-01-06 15:00:00</td>\n",
              "      <td>2002-04-03</td>\n",
              "      <td>2023-01-06</td>\n",
              "    </tr>\n",
              "    <tr>\n",
              "      <th>2</th>\n",
              "      <td>ABDA</td>\n",
              "      <td>Asuransi Bina Dana Arta Tbk.</td>\n",
              "      <td>1989-07-06</td>\n",
              "      <td>6.208067e+08</td>\n",
              "      <td>Pengembangan</td>\n",
              "      <td>Financials</td>\n",
              "      <td>6700.0</td>\n",
              "      <td>4.159405e+12</td>\n",
              "      <td>2021-11-01 09:00:00</td>\n",
              "      <td>2022-11-11 15:59:00</td>\n",
              "      <td>2020-04-16 09:00:00</td>\n",
              "      <td>2022-11-11 16:00:00</td>\n",
              "      <td>2001-04-16</td>\n",
              "      <td>2023-01-06</td>\n",
              "    </tr>\n",
              "    <tr>\n",
              "      <th>3</th>\n",
              "      <td>ABMM</td>\n",
              "      <td>ABM Investama Tbk.</td>\n",
              "      <td>2011-12-06</td>\n",
              "      <td>2.753165e+09</td>\n",
              "      <td>Utama</td>\n",
              "      <td>Industrials</td>\n",
              "      <td>3050.0</td>\n",
              "      <td>8.397153e+12</td>\n",
              "      <td>2021-11-01 09:00:00</td>\n",
              "      <td>2023-01-06 15:59:00</td>\n",
              "      <td>2020-04-16 09:00:00</td>\n",
              "      <td>2023-01-06 15:00:00</td>\n",
              "      <td>2011-12-06</td>\n",
              "      <td>2023-01-06</td>\n",
              "    </tr>\n",
              "    <tr>\n",
              "      <th>4</th>\n",
              "      <td>ACES</td>\n",
              "      <td>Ace Hardware Indonesia Tbk.</td>\n",
              "      <td>2007-11-06</td>\n",
              "      <td>1.715000e+10</td>\n",
              "      <td>Utama</td>\n",
              "      <td>Consumer Cyclicals</td>\n",
              "      <td>490.0</td>\n",
              "      <td>8.403500e+12</td>\n",
              "      <td>2021-11-01 09:00:00</td>\n",
              "      <td>2023-01-06 15:59:00</td>\n",
              "      <td>2020-04-16 09:00:00</td>\n",
              "      <td>2023-01-06 15:00:00</td>\n",
              "      <td>2007-11-06</td>\n",
              "      <td>2023-01-06</td>\n",
              "    </tr>\n",
              "  </tbody>\n",
              "</table>\n",
              "</div>\n",
              "      <button class=\"colab-df-convert\" onclick=\"convertToInteractive('df-f506de35-e62e-48c8-b875-32b72daa1fef')\"\n",
              "              title=\"Convert this dataframe to an interactive table.\"\n",
              "              style=\"display:none;\">\n",
              "        \n",
              "  <svg xmlns=\"http://www.w3.org/2000/svg\" height=\"24px\"viewBox=\"0 0 24 24\"\n",
              "       width=\"24px\">\n",
              "    <path d=\"M0 0h24v24H0V0z\" fill=\"none\"/>\n",
              "    <path d=\"M18.56 5.44l.94 2.06.94-2.06 2.06-.94-2.06-.94-.94-2.06-.94 2.06-2.06.94zm-11 1L8.5 8.5l.94-2.06 2.06-.94-2.06-.94L8.5 2.5l-.94 2.06-2.06.94zm10 10l.94 2.06.94-2.06 2.06-.94-2.06-.94-.94-2.06-.94 2.06-2.06.94z\"/><path d=\"M17.41 7.96l-1.37-1.37c-.4-.4-.92-.59-1.43-.59-.52 0-1.04.2-1.43.59L10.3 9.45l-7.72 7.72c-.78.78-.78 2.05 0 2.83L4 21.41c.39.39.9.59 1.41.59.51 0 1.02-.2 1.41-.59l7.78-7.78 2.81-2.81c.8-.78.8-2.07 0-2.86zM5.41 20L4 18.59l7.72-7.72 1.47 1.35L5.41 20z\"/>\n",
              "  </svg>\n",
              "      </button>\n",
              "      \n",
              "  <style>\n",
              "    .colab-df-container {\n",
              "      display:flex;\n",
              "      flex-wrap:wrap;\n",
              "      gap: 12px;\n",
              "    }\n",
              "\n",
              "    .colab-df-convert {\n",
              "      background-color: #E8F0FE;\n",
              "      border: none;\n",
              "      border-radius: 50%;\n",
              "      cursor: pointer;\n",
              "      display: none;\n",
              "      fill: #1967D2;\n",
              "      height: 32px;\n",
              "      padding: 0 0 0 0;\n",
              "      width: 32px;\n",
              "    }\n",
              "\n",
              "    .colab-df-convert:hover {\n",
              "      background-color: #E2EBFA;\n",
              "      box-shadow: 0px 1px 2px rgba(60, 64, 67, 0.3), 0px 1px 3px 1px rgba(60, 64, 67, 0.15);\n",
              "      fill: #174EA6;\n",
              "    }\n",
              "\n",
              "    [theme=dark] .colab-df-convert {\n",
              "      background-color: #3B4455;\n",
              "      fill: #D2E3FC;\n",
              "    }\n",
              "\n",
              "    [theme=dark] .colab-df-convert:hover {\n",
              "      background-color: #434B5C;\n",
              "      box-shadow: 0px 1px 3px 1px rgba(0, 0, 0, 0.15);\n",
              "      filter: drop-shadow(0px 1px 2px rgba(0, 0, 0, 0.3));\n",
              "      fill: #FFFFFF;\n",
              "    }\n",
              "  </style>\n",
              "\n",
              "      <script>\n",
              "        const buttonEl =\n",
              "          document.querySelector('#df-f506de35-e62e-48c8-b875-32b72daa1fef button.colab-df-convert');\n",
              "        buttonEl.style.display =\n",
              "          google.colab.kernel.accessAllowed ? 'block' : 'none';\n",
              "\n",
              "        async function convertToInteractive(key) {\n",
              "          const element = document.querySelector('#df-f506de35-e62e-48c8-b875-32b72daa1fef');\n",
              "          const dataTable =\n",
              "            await google.colab.kernel.invokeFunction('convertToInteractive',\n",
              "                                                     [key], {});\n",
              "          if (!dataTable) return;\n",
              "\n",
              "          const docLinkHtml = 'Like what you see? Visit the ' +\n",
              "            '<a target=\"_blank\" href=https://colab.research.google.com/notebooks/data_table.ipynb>data table notebook</a>'\n",
              "            + ' to learn more about interactive tables.';\n",
              "          element.innerHTML = '';\n",
              "          dataTable['output_type'] = 'display_data';\n",
              "          await google.colab.output.renderOutput(dataTable, element);\n",
              "          const docLink = document.createElement('div');\n",
              "          docLink.innerHTML = docLinkHtml;\n",
              "          element.appendChild(docLink);\n",
              "        }\n",
              "      </script>\n",
              "    </div>\n",
              "  </div>\n",
              "  "
            ]
          },
          "metadata": {},
          "execution_count": 254
        }
      ]
    },
    {
      "cell_type": "code",
      "source": [
        "Data_saham.tail()"
      ],
      "metadata": {
        "colab": {
          "base_uri": "https://localhost:8080/",
          "height": 0
        },
        "id": "KyMqV461pvyp",
        "outputId": "236b7804-2d5c-44c9-a9db-296ecf7c4c0d"
      },
      "execution_count": 255,
      "outputs": [
        {
          "output_type": "execute_result",
          "data": {
            "text/plain": [
              "     Code                          Name          ListingDate        Shares  \\\n",
              "824  ZATA       Bersama Zatta Jaya Tbk.  2022-11-10 00:00:00  8.496000e+09   \n",
              "825  ZBRA     Dosni Roha Indonesia Tbk.           1991-08-01  2.510706e+09   \n",
              "826  ZINC        Kapuas Prima Coal Tbk.           2017-10-16  2.525000e+10   \n",
              "827  ZONE            Mega Perintis Tbk.           2018-12-12  8.701715e+08   \n",
              "828  ZYRX  Zyrexindo Mandiri Buana Tbk.           2021-03-30  1.333333e+09   \n",
              "\n",
              "     ListingBoard              Sector  LastPrice     MarketCap  \\\n",
              "824         Utama  Consumer Cyclicals      112.0  9.515520e+11   \n",
              "825  Pengembangan         Industrials      540.0  1.355781e+12   \n",
              "826  Pengembangan     Basic Materials       50.0  1.262500e+12   \n",
              "827  Pengembangan  Consumer Cyclicals     1205.0  1.048557e+12   \n",
              "828  Pengembangan          Technology      310.0  4.133333e+11   \n",
              "\n",
              "       MinutesFirstAdded   MinutesLastUpdated     HourlyFirstAdded  \\\n",
              "824  2022-11-10 09:00:00  2023-01-06 15:59:00  2022-11-10 09:00:00   \n",
              "825  2021-11-01 09:00:00  2023-01-06 15:59:00  2020-04-16 09:00:00   \n",
              "826  2021-11-01 09:00:00  2023-01-06 15:59:00  2020-04-16 09:00:00   \n",
              "827  2021-11-01 09:00:00  2023-01-06 15:59:00  2020-04-16 09:00:00   \n",
              "828  2021-11-01 09:00:00  2023-01-06 15:59:00  2021-03-30 09:00:00   \n",
              "\n",
              "       HourlyLastUpdated DailyFirstAdded DailyLastUpdated  \n",
              "824  2023-01-06 15:00:00      2022-11-11       2023-01-06  \n",
              "825  2023-01-06 15:00:00      2001-04-16       2023-01-06  \n",
              "826  2023-01-06 15:00:00      2017-10-16       2023-01-06  \n",
              "827  2023-01-06 15:00:00      2018-12-12       2023-01-06  \n",
              "828  2023-01-06 15:00:00      2021-03-30       2023-01-06  "
            ],
            "text/html": [
              "\n",
              "  <div id=\"df-09b26d35-86b6-482f-9390-44c4cd854249\">\n",
              "    <div class=\"colab-df-container\">\n",
              "      <div>\n",
              "<style scoped>\n",
              "    .dataframe tbody tr th:only-of-type {\n",
              "        vertical-align: middle;\n",
              "    }\n",
              "\n",
              "    .dataframe tbody tr th {\n",
              "        vertical-align: top;\n",
              "    }\n",
              "\n",
              "    .dataframe thead th {\n",
              "        text-align: right;\n",
              "    }\n",
              "</style>\n",
              "<table border=\"1\" class=\"dataframe\">\n",
              "  <thead>\n",
              "    <tr style=\"text-align: right;\">\n",
              "      <th></th>\n",
              "      <th>Code</th>\n",
              "      <th>Name</th>\n",
              "      <th>ListingDate</th>\n",
              "      <th>Shares</th>\n",
              "      <th>ListingBoard</th>\n",
              "      <th>Sector</th>\n",
              "      <th>LastPrice</th>\n",
              "      <th>MarketCap</th>\n",
              "      <th>MinutesFirstAdded</th>\n",
              "      <th>MinutesLastUpdated</th>\n",
              "      <th>HourlyFirstAdded</th>\n",
              "      <th>HourlyLastUpdated</th>\n",
              "      <th>DailyFirstAdded</th>\n",
              "      <th>DailyLastUpdated</th>\n",
              "    </tr>\n",
              "  </thead>\n",
              "  <tbody>\n",
              "    <tr>\n",
              "      <th>824</th>\n",
              "      <td>ZATA</td>\n",
              "      <td>Bersama Zatta Jaya Tbk.</td>\n",
              "      <td>2022-11-10 00:00:00</td>\n",
              "      <td>8.496000e+09</td>\n",
              "      <td>Utama</td>\n",
              "      <td>Consumer Cyclicals</td>\n",
              "      <td>112.0</td>\n",
              "      <td>9.515520e+11</td>\n",
              "      <td>2022-11-10 09:00:00</td>\n",
              "      <td>2023-01-06 15:59:00</td>\n",
              "      <td>2022-11-10 09:00:00</td>\n",
              "      <td>2023-01-06 15:00:00</td>\n",
              "      <td>2022-11-11</td>\n",
              "      <td>2023-01-06</td>\n",
              "    </tr>\n",
              "    <tr>\n",
              "      <th>825</th>\n",
              "      <td>ZBRA</td>\n",
              "      <td>Dosni Roha Indonesia Tbk.</td>\n",
              "      <td>1991-08-01</td>\n",
              "      <td>2.510706e+09</td>\n",
              "      <td>Pengembangan</td>\n",
              "      <td>Industrials</td>\n",
              "      <td>540.0</td>\n",
              "      <td>1.355781e+12</td>\n",
              "      <td>2021-11-01 09:00:00</td>\n",
              "      <td>2023-01-06 15:59:00</td>\n",
              "      <td>2020-04-16 09:00:00</td>\n",
              "      <td>2023-01-06 15:00:00</td>\n",
              "      <td>2001-04-16</td>\n",
              "      <td>2023-01-06</td>\n",
              "    </tr>\n",
              "    <tr>\n",
              "      <th>826</th>\n",
              "      <td>ZINC</td>\n",
              "      <td>Kapuas Prima Coal Tbk.</td>\n",
              "      <td>2017-10-16</td>\n",
              "      <td>2.525000e+10</td>\n",
              "      <td>Pengembangan</td>\n",
              "      <td>Basic Materials</td>\n",
              "      <td>50.0</td>\n",
              "      <td>1.262500e+12</td>\n",
              "      <td>2021-11-01 09:00:00</td>\n",
              "      <td>2023-01-06 15:59:00</td>\n",
              "      <td>2020-04-16 09:00:00</td>\n",
              "      <td>2023-01-06 15:00:00</td>\n",
              "      <td>2017-10-16</td>\n",
              "      <td>2023-01-06</td>\n",
              "    </tr>\n",
              "    <tr>\n",
              "      <th>827</th>\n",
              "      <td>ZONE</td>\n",
              "      <td>Mega Perintis Tbk.</td>\n",
              "      <td>2018-12-12</td>\n",
              "      <td>8.701715e+08</td>\n",
              "      <td>Pengembangan</td>\n",
              "      <td>Consumer Cyclicals</td>\n",
              "      <td>1205.0</td>\n",
              "      <td>1.048557e+12</td>\n",
              "      <td>2021-11-01 09:00:00</td>\n",
              "      <td>2023-01-06 15:59:00</td>\n",
              "      <td>2020-04-16 09:00:00</td>\n",
              "      <td>2023-01-06 15:00:00</td>\n",
              "      <td>2018-12-12</td>\n",
              "      <td>2023-01-06</td>\n",
              "    </tr>\n",
              "    <tr>\n",
              "      <th>828</th>\n",
              "      <td>ZYRX</td>\n",
              "      <td>Zyrexindo Mandiri Buana Tbk.</td>\n",
              "      <td>2021-03-30</td>\n",
              "      <td>1.333333e+09</td>\n",
              "      <td>Pengembangan</td>\n",
              "      <td>Technology</td>\n",
              "      <td>310.0</td>\n",
              "      <td>4.133333e+11</td>\n",
              "      <td>2021-11-01 09:00:00</td>\n",
              "      <td>2023-01-06 15:59:00</td>\n",
              "      <td>2021-03-30 09:00:00</td>\n",
              "      <td>2023-01-06 15:00:00</td>\n",
              "      <td>2021-03-30</td>\n",
              "      <td>2023-01-06</td>\n",
              "    </tr>\n",
              "  </tbody>\n",
              "</table>\n",
              "</div>\n",
              "      <button class=\"colab-df-convert\" onclick=\"convertToInteractive('df-09b26d35-86b6-482f-9390-44c4cd854249')\"\n",
              "              title=\"Convert this dataframe to an interactive table.\"\n",
              "              style=\"display:none;\">\n",
              "        \n",
              "  <svg xmlns=\"http://www.w3.org/2000/svg\" height=\"24px\"viewBox=\"0 0 24 24\"\n",
              "       width=\"24px\">\n",
              "    <path d=\"M0 0h24v24H0V0z\" fill=\"none\"/>\n",
              "    <path d=\"M18.56 5.44l.94 2.06.94-2.06 2.06-.94-2.06-.94-.94-2.06-.94 2.06-2.06.94zm-11 1L8.5 8.5l.94-2.06 2.06-.94-2.06-.94L8.5 2.5l-.94 2.06-2.06.94zm10 10l.94 2.06.94-2.06 2.06-.94-2.06-.94-.94-2.06-.94 2.06-2.06.94z\"/><path d=\"M17.41 7.96l-1.37-1.37c-.4-.4-.92-.59-1.43-.59-.52 0-1.04.2-1.43.59L10.3 9.45l-7.72 7.72c-.78.78-.78 2.05 0 2.83L4 21.41c.39.39.9.59 1.41.59.51 0 1.02-.2 1.41-.59l7.78-7.78 2.81-2.81c.8-.78.8-2.07 0-2.86zM5.41 20L4 18.59l7.72-7.72 1.47 1.35L5.41 20z\"/>\n",
              "  </svg>\n",
              "      </button>\n",
              "      \n",
              "  <style>\n",
              "    .colab-df-container {\n",
              "      display:flex;\n",
              "      flex-wrap:wrap;\n",
              "      gap: 12px;\n",
              "    }\n",
              "\n",
              "    .colab-df-convert {\n",
              "      background-color: #E8F0FE;\n",
              "      border: none;\n",
              "      border-radius: 50%;\n",
              "      cursor: pointer;\n",
              "      display: none;\n",
              "      fill: #1967D2;\n",
              "      height: 32px;\n",
              "      padding: 0 0 0 0;\n",
              "      width: 32px;\n",
              "    }\n",
              "\n",
              "    .colab-df-convert:hover {\n",
              "      background-color: #E2EBFA;\n",
              "      box-shadow: 0px 1px 2px rgba(60, 64, 67, 0.3), 0px 1px 3px 1px rgba(60, 64, 67, 0.15);\n",
              "      fill: #174EA6;\n",
              "    }\n",
              "\n",
              "    [theme=dark] .colab-df-convert {\n",
              "      background-color: #3B4455;\n",
              "      fill: #D2E3FC;\n",
              "    }\n",
              "\n",
              "    [theme=dark] .colab-df-convert:hover {\n",
              "      background-color: #434B5C;\n",
              "      box-shadow: 0px 1px 3px 1px rgba(0, 0, 0, 0.15);\n",
              "      filter: drop-shadow(0px 1px 2px rgba(0, 0, 0, 0.3));\n",
              "      fill: #FFFFFF;\n",
              "    }\n",
              "  </style>\n",
              "\n",
              "      <script>\n",
              "        const buttonEl =\n",
              "          document.querySelector('#df-09b26d35-86b6-482f-9390-44c4cd854249 button.colab-df-convert');\n",
              "        buttonEl.style.display =\n",
              "          google.colab.kernel.accessAllowed ? 'block' : 'none';\n",
              "\n",
              "        async function convertToInteractive(key) {\n",
              "          const element = document.querySelector('#df-09b26d35-86b6-482f-9390-44c4cd854249');\n",
              "          const dataTable =\n",
              "            await google.colab.kernel.invokeFunction('convertToInteractive',\n",
              "                                                     [key], {});\n",
              "          if (!dataTable) return;\n",
              "\n",
              "          const docLinkHtml = 'Like what you see? Visit the ' +\n",
              "            '<a target=\"_blank\" href=https://colab.research.google.com/notebooks/data_table.ipynb>data table notebook</a>'\n",
              "            + ' to learn more about interactive tables.';\n",
              "          element.innerHTML = '';\n",
              "          dataTable['output_type'] = 'display_data';\n",
              "          await google.colab.output.renderOutput(dataTable, element);\n",
              "          const docLink = document.createElement('div');\n",
              "          docLink.innerHTML = docLinkHtml;\n",
              "          element.appendChild(docLink);\n",
              "        }\n",
              "      </script>\n",
              "    </div>\n",
              "  </div>\n",
              "  "
            ]
          },
          "metadata": {},
          "execution_count": 255
        }
      ]
    },
    {
      "cell_type": "markdown",
      "source": [
        "# Data Cleaning"
      ],
      "metadata": {
        "id": "oOdw4PNv1Ebv"
      }
    },
    {
      "cell_type": "code",
      "source": [
        "# Kita perlu mengetahui terlebih dahulu tipe data pada dataset\n",
        "\n",
        "Data_saham.info()"
      ],
      "metadata": {
        "colab": {
          "base_uri": "https://localhost:8080/"
        },
        "id": "bGtmc84aB7GZ",
        "outputId": "54e5900c-441c-41df-ba43-b32b1012d731"
      },
      "execution_count": 256,
      "outputs": [
        {
          "output_type": "stream",
          "name": "stdout",
          "text": [
            "<class 'pandas.core.frame.DataFrame'>\n",
            "RangeIndex: 829 entries, 0 to 828\n",
            "Data columns (total 14 columns):\n",
            " #   Column              Non-Null Count  Dtype  \n",
            "---  ------              --------------  -----  \n",
            " 0   Code                829 non-null    object \n",
            " 1   Name                829 non-null    object \n",
            " 2   ListingDate         829 non-null    object \n",
            " 3   Shares              829 non-null    float64\n",
            " 4   ListingBoard        829 non-null    object \n",
            " 5   Sector              829 non-null    object \n",
            " 6   LastPrice           824 non-null    float64\n",
            " 7   MarketCap           824 non-null    float64\n",
            " 8   MinutesFirstAdded   787 non-null    object \n",
            " 9   MinutesLastUpdated  787 non-null    object \n",
            " 10  HourlyFirstAdded    806 non-null    object \n",
            " 11  HourlyLastUpdated   806 non-null    object \n",
            " 12  DailyFirstAdded     824 non-null    object \n",
            " 13  DailyLastUpdated    824 non-null    object \n",
            "dtypes: float64(3), object(11)\n",
            "memory usage: 90.8+ KB\n"
          ]
        }
      ]
    },
    {
      "cell_type": "code",
      "source": [
        "# dikarenakan tipe data dari Listing seharusnya berupa tanggal maka kita akan rubah tipe data dari object ke tanggal\n",
        "\n",
        "Data_saham['ListingDate'] = pd.to_datetime(Data_saham['ListingDate'])"
      ],
      "metadata": {
        "id": "ankQDcf7SPAa"
      },
      "execution_count": 257,
      "outputs": []
    },
    {
      "cell_type": "code",
      "source": [
        "# Lalu dicek apakah sudah berubah\n",
        "\n",
        "Data_saham.info()"
      ],
      "metadata": {
        "colab": {
          "base_uri": "https://localhost:8080/"
        },
        "id": "LCEuawF3SzEu",
        "outputId": "c94fb877-1e34-4eb9-9c63-f7cbb373067c"
      },
      "execution_count": 258,
      "outputs": [
        {
          "output_type": "stream",
          "name": "stdout",
          "text": [
            "<class 'pandas.core.frame.DataFrame'>\n",
            "RangeIndex: 829 entries, 0 to 828\n",
            "Data columns (total 14 columns):\n",
            " #   Column              Non-Null Count  Dtype         \n",
            "---  ------              --------------  -----         \n",
            " 0   Code                829 non-null    object        \n",
            " 1   Name                829 non-null    object        \n",
            " 2   ListingDate         829 non-null    datetime64[ns]\n",
            " 3   Shares              829 non-null    float64       \n",
            " 4   ListingBoard        829 non-null    object        \n",
            " 5   Sector              829 non-null    object        \n",
            " 6   LastPrice           824 non-null    float64       \n",
            " 7   MarketCap           824 non-null    float64       \n",
            " 8   MinutesFirstAdded   787 non-null    object        \n",
            " 9   MinutesLastUpdated  787 non-null    object        \n",
            " 10  HourlyFirstAdded    806 non-null    object        \n",
            " 11  HourlyLastUpdated   806 non-null    object        \n",
            " 12  DailyFirstAdded     824 non-null    object        \n",
            " 13  DailyLastUpdated    824 non-null    object        \n",
            "dtypes: datetime64[ns](1), float64(3), object(10)\n",
            "memory usage: 90.8+ KB\n"
          ]
        }
      ]
    },
    {
      "cell_type": "code",
      "source": [
        "# Mengecek missing value pada dataset\n",
        "\n",
        "Data_saham.isnull().sum()"
      ],
      "metadata": {
        "colab": {
          "base_uri": "https://localhost:8080/"
        },
        "id": "Abu0F8Mt1JqS",
        "outputId": "31d4d1cc-7f1b-4767-8a16-1e7aa00e543b"
      },
      "execution_count": 259,
      "outputs": [
        {
          "output_type": "execute_result",
          "data": {
            "text/plain": [
              "Code                   0\n",
              "Name                   0\n",
              "ListingDate            0\n",
              "Shares                 0\n",
              "ListingBoard           0\n",
              "Sector                 0\n",
              "LastPrice              5\n",
              "MarketCap              5\n",
              "MinutesFirstAdded     42\n",
              "MinutesLastUpdated    42\n",
              "HourlyFirstAdded      23\n",
              "HourlyLastUpdated     23\n",
              "DailyFirstAdded        5\n",
              "DailyLastUpdated       5\n",
              "dtype: int64"
            ]
          },
          "metadata": {},
          "execution_count": 259
        }
      ]
    },
    {
      "cell_type": "markdown",
      "source": [
        "terdapat missing value pada kolom Last Price dan MarketCap. kita akan membiarkan data tersebut kosong dikarenankan data tersebut berkaitan erat dengan waktu perdaganan suatu saham dan tidak bisa diisi menggunakan mean, median, adatu modus karena akan menghilangkan variable real data"
      ],
      "metadata": {
        "id": "7yNU3M9z1Xgq"
      }
    },
    {
      "cell_type": "markdown",
      "source": [
        "# Analisis dan perhitungan"
      ],
      "metadata": {
        "id": "CF2PBlmN14AV"
      }
    },
    {
      "cell_type": "markdown",
      "source": [
        "## Analisis Sektor Industri"
      ],
      "metadata": {
        "id": "B0uvDheUs5Al"
      }
    },
    {
      "cell_type": "markdown",
      "source": [
        "Bursa Efek Indonesia terdiri dari berbagai jenis saham dari bergabagi jenis sektor. hal ini sangat penting bagi investor untuk menyesuaikan pilihan sahamnya pada sektor industri tertentu sesuai dengan analisis kondisi makro ekonomi"
      ],
      "metadata": {
        "id": "3q2NHEODTKp4"
      }
    },
    {
      "cell_type": "code",
      "source": [
        "# Jumlah saham berbagai macam sektor di Bursa Efek Indonesia\n",
        "\n",
        "Data_saham['Sector'].value_counts()"
      ],
      "metadata": {
        "id": "_99ELuiwzj4o",
        "colab": {
          "base_uri": "https://localhost:8080/"
        },
        "outputId": "d5f2dcd5-4c4d-4b62-feb8-c404445b1510"
      },
      "execution_count": 260,
      "outputs": [
        {
          "output_type": "execute_result",
          "data": {
            "text/plain": [
              "Consumer Cyclicals           142\n",
              "Consumer Non-Cyclicals       115\n",
              "Financials                   106\n",
              "Basic Materials               96\n",
              "Properties & Real Estate      84\n",
              "Energy                        75\n",
              "Infrastructures               62\n",
              "Industrials                   56\n",
              "Technology                    34\n",
              "Transportation & Logistic     31\n",
              "Healthcare                    28\n",
              "Name: Sector, dtype: int64"
            ]
          },
          "metadata": {},
          "execution_count": 260
        }
      ]
    },
    {
      "cell_type": "code",
      "source": [
        "# melihat presentase persebaran sektor di Bursa Efek Indonesia menggunakan pie chart\n",
        "\n",
        "Data_saham['Sector'].value_counts().plot(kind='pie',\n",
        "                                        figsize=(6, 6),\n",
        "                                        title='Sektor di Bursa Efek',\n",
        "                                        autopct='%1.1f%%')"
      ],
      "metadata": {
        "colab": {
          "base_uri": "https://localhost:8080/",
          "height": 0
        },
        "id": "5iPVVev_KZ3E",
        "outputId": "d258612c-d3af-4dc0-ddff-93e747499c22"
      },
      "execution_count": 261,
      "outputs": [
        {
          "output_type": "execute_result",
          "data": {
            "text/plain": [
              "<Axes: title={'center': 'Sektor di Bursa Efek'}, ylabel='Sector'>"
            ]
          },
          "metadata": {},
          "execution_count": 261
        },
        {
          "output_type": "display_data",
          "data": {
            "text/plain": [
              "<Figure size 600x600 with 1 Axes>"
            ],
            "image/png": "[encoded data removed]"
          },
          "metadata": {}
        }
      ]
    },
    {
      "cell_type": "markdown",
      "source": [
        "Sektor Consumer Cyclicals merupakan sektor industri dengan proporsi emiten/saham terbanyak sebesar 17.1%\n",
        "\n",
        "---\n",
        "Sektor Consumer Non-Cyclicals merupakan sektor industri dengan proporsi emiten/saham kedua sebesar 13.9%\n",
        "\n",
        "---\n",
        "Sektor Financial merupakan sektor industri dengan proporsi emiten/saham ketiga terbanyak sebesar 12.8%\n",
        "\n",
        "---\n",
        "Pemilihan sektor Financials atau keuangan dirasa cocok dikarena porsi persebaran sahamnya di Bursa Efek Indonesia terbesar ketiga"
      ],
      "metadata": {
        "id": "6UbkcvJ2Tljs"
      }
    },
    {
      "cell_type": "markdown",
      "source": [
        "## Saham Sektor Finance"
      ],
      "metadata": {
        "id": "IEXnsuB2GbBU"
      }
    },
    {
      "cell_type": "markdown",
      "source": [
        "Dikarenakan candy crunch sekuritas ingin berinvestasi pada sektor perbankan, maka kita akan memilih sektor Finance yang di dalamnya terdapat emiten/saham dari perusahaan perbankan."
      ],
      "metadata": {
        "id": "t8c0FQ4kUrMz"
      }
    },
    {
      "cell_type": "code",
      "source": [
        "# menarik data dari Data_Saham hanya untuk sektor hanya Financials\n",
        "\n",
        "sektorfinance = Data_saham[Data_saham['Sector'] == 'Financials']\n",
        "sektorfinance"
      ],
      "metadata": {
        "colab": {
          "base_uri": "https://localhost:8080/",
          "height": 0
        },
        "id": "BBOZ2NuAC6dR",
        "outputId": "d42e7ff6-823c-4ae3-8630-5ba2de46be70"
      },
      "execution_count": 262,
      "outputs": [
        {
          "output_type": "execute_result",
          "data": {
            "text/plain": [
              "     Code                            Name ListingDate        Shares  \\\n",
              "2    ABDA    Asuransi Bina Dana Arta Tbk.  1989-07-06  6.208067e+08   \n",
              "9    ADMF  Adira Dinamika Multi Finance T  2004-03-31  1.000000e+09   \n",
              "15   AGRO        Bank Raya Indonesia Tbk.  2003-08-08  2.252005e+10   \n",
              "16   AGRS         Bank IBK Indonesia Tbk.  2014-12-22  1.748160e+10   \n",
              "17   AHAP  Asuransi Harta Aman Pratama Tb  1990-09-14  2.940000e+09   \n",
              "..    ...                             ...         ...           ...   \n",
              "797  VINS         Victoria Insurance Tbk.  2015-09-28  1.460574e+09   \n",
              "800  VRNA       Verena Multi Finance Tbk.  2008-06-25  5.687354e+09   \n",
              "801  VTNY  Venteny Fortuna International   2022-12-15  6.265193e+09   \n",
              "815  WOMF  Wahana Ottomitra Multiartha Tb  2004-12-13  3.481481e+09   \n",
              "823  YULE  Yulie Sekuritas Indonesia Tbk.  2004-12-10  1.785000e+09   \n",
              "\n",
              "     ListingBoard      Sector  LastPrice     MarketCap    MinutesFirstAdded  \\\n",
              "2    Pengembangan  Financials     6700.0  4.159405e+12  2021-11-01 09:00:00   \n",
              "9           Utama  Financials     8850.0  8.850000e+12  2021-11-01 09:00:00   \n",
              "15          Utama  Financials      406.0  9.143142e+12  2021-11-01 09:00:00   \n",
              "16   Pengembangan  Financials       89.0  1.555863e+12  2021-11-01 09:00:00   \n",
              "17   Pengembangan  Financials       64.0  1.881600e+11  2021-11-01 09:00:00   \n",
              "..            ...         ...        ...           ...                  ...   \n",
              "797  Pengembangan  Financials      133.0  1.942563e+11  2021-11-01 09:00:00   \n",
              "800  Pengembangan  Financials       99.0  5.630480e+11  2021-11-01 09:00:00   \n",
              "801  Pengembangan  Financials      444.0  2.781746e+12  2022-12-15 09:00:00   \n",
              "815         Utama  Financials      256.0  8.912593e+11  2021-11-01 09:00:00   \n",
              "823  Pengembangan  Financials     2230.0  3.980550e+12  2021-11-01 09:00:00   \n",
              "\n",
              "      MinutesLastUpdated     HourlyFirstAdded    HourlyLastUpdated  \\\n",
              "2    2022-11-11 15:59:00  2020-04-16 09:00:00  2022-11-11 16:00:00   \n",
              "9    2023-01-06 15:59:00  2020-04-16 09:00:00  2023-01-06 15:00:00   \n",
              "15   2023-01-06 15:59:00  2020-04-16 09:00:00  2023-01-06 15:00:00   \n",
              "16   2023-01-06 15:59:00  2020-04-16 09:00:00  2023-01-06 15:00:00   \n",
              "17   2023-01-06 15:59:00  2020-04-16 09:00:00  2023-01-06 15:00:00   \n",
              "..                   ...                  ...                  ...   \n",
              "797  2023-01-06 15:59:00  2020-04-16 09:00:00  2023-01-06 15:00:00   \n",
              "800  2023-01-06 15:59:00  2020-04-16 09:00:00  2023-01-06 15:00:00   \n",
              "801  2023-01-06 15:59:00  2022-12-15 09:00:00  2023-01-06 15:00:00   \n",
              "815  2023-01-06 15:59:00  2020-04-16 09:00:00  2023-01-06 15:00:00   \n",
              "823  2023-01-06 15:59:00  2020-04-16 09:00:00  2023-01-06 15:00:00   \n",
              "\n",
              "    DailyFirstAdded DailyLastUpdated  \n",
              "2        2001-04-16       2023-01-06  \n",
              "9        2004-03-31       2023-01-06  \n",
              "15       2003-08-08       2023-01-06  \n",
              "16       2014-12-22       2023-01-06  \n",
              "17       2001-04-16       2023-01-06  \n",
              "..              ...              ...  \n",
              "797      2015-09-28       2023-01-06  \n",
              "800      2008-06-25       2023-01-06  \n",
              "801      2022-12-15       2023-01-06  \n",
              "815      2004-12-13       2023-01-06  \n",
              "823      2004-12-10       2023-01-06  \n",
              "\n",
              "[106 rows x 14 columns]"
            ],
            "text/html": [
              "\n",
              "  <div id=\"df-c39e9d17-5b64-4c8b-bfd9-e19a22f3147e\">\n",
              "    <div class=\"colab-df-container\">\n",
              "      <div>\n",
              "<style scoped>\n",
              "    .dataframe tbody tr th:only-of-type {\n",
              "        vertical-align: middle;\n",
              "    }\n",
              "\n",
              "    .dataframe tbody tr th {\n",
              "        vertical-align: top;\n",
              "    }\n",
              "\n",
              "    .dataframe thead th {\n",
              "        text-align: right;\n",
              "    }\n",
              "</style>\n",
              "<table border=\"1\" class=\"dataframe\">\n",
              "  <thead>\n",
              "    <tr style=\"text-align: right;\">\n",
              "      <th></th>\n",
              "      <th>Code</th>\n",
              "      <th>Name</th>\n",
              "      <th>ListingDate</th>\n",
              "      <th>Shares</th>\n",
              "      <th>ListingBoard</th>\n",
              "      <th>Sector</th>\n",
              "      <th>LastPrice</th>\n",
              "      <th>MarketCap</th>\n",
              "      <th>MinutesFirstAdded</th>\n",
              "      <th>MinutesLastUpdated</th>\n",
              "      <th>HourlyFirstAdded</th>\n",
              "      <th>HourlyLastUpdated</th>\n",
              "      <th>DailyFirstAdded</th>\n",
              "      <th>DailyLastUpdated</th>\n",
              "    </tr>\n",
              "  </thead>\n",
              "  <tbody>\n",
              "    <tr>\n",
              "      <th>2</th>\n",
              "      <td>ABDA</td>\n",
              "      <td>Asuransi Bina Dana Arta Tbk.</td>\n",
              "      <td>1989-07-06</td>\n",
              "      <td>6.208067e+08</td>\n",
              "      <td>Pengembangan</td>\n",
              "      <td>Financials</td>\n",
              "      <td>6700.0</td>\n",
              "      <td>4.159405e+12</td>\n",
              "      <td>2021-11-01 09:00:00</td>\n",
              "      <td>2022-11-11 15:59:00</td>\n",
              "      <td>2020-04-16 09:00:00</td>\n",
              "      <td>2022-11-11 16:00:00</td>\n",
              "      <td>2001-04-16</td>\n",
              "      <td>2023-01-06</td>\n",
              "    </tr>\n",
              "    <tr>\n",
              "      <th>9</th>\n",
              "      <td>ADMF</td>\n",
              "      <td>Adira Dinamika Multi Finance T</td>\n",
              "      <td>2004-03-31</td>\n",
              "      <td>1.000000e+09</td>\n",
              "      <td>Utama</td>\n",
              "      <td>Financials</td>\n",
              "      <td>8850.0</td>\n",
              "      <td>8.850000e+12</td>\n",
              "      <td>2021-11-01 09:00:00</td>\n",
              "      <td>2023-01-06 15:59:00</td>\n",
              "      <td>2020-04-16 09:00:00</td>\n",
              "      <td>2023-01-06 15:00:00</td>\n",
              "      <td>2004-03-31</td>\n",
              "      <td>2023-01-06</td>\n",
              "    </tr>\n",
              "    <tr>\n",
              "      <th>15</th>\n",
              "      <td>AGRO</td>\n",
              "      <td>Bank Raya Indonesia Tbk.</td>\n",
              "      <td>2003-08-08</td>\n",
              "      <td>2.252005e+10</td>\n",
              "      <td>Utama</td>\n",
              "      <td>Financials</td>\n",
              "      <td>406.0</td>\n",
              "      <td>9.143142e+12</td>\n",
              "      <td>2021-11-01 09:00:00</td>\n",
              "      <td>2023-01-06 15:59:00</td>\n",
              "      <td>2020-04-16 09:00:00</td>\n",
              "      <td>2023-01-06 15:00:00</td>\n",
              "      <td>2003-08-08</td>\n",
              "      <td>2023-01-06</td>\n",
              "    </tr>\n",
              "    <tr>\n",
              "      <th>16</th>\n",
              "      <td>AGRS</td>\n",
              "      <td>Bank IBK Indonesia Tbk.</td>\n",
              "      <td>2014-12-22</td>\n",
              "      <td>1.748160e+10</td>\n",
              "      <td>Pengembangan</td>\n",
              "      <td>Financials</td>\n",
              "      <td>89.0</td>\n",
              "      <td>1.555863e+12</td>\n",
              "      <td>2021-11-01 09:00:00</td>\n",
              "      <td>2023-01-06 15:59:00</td>\n",
              "      <td>2020-04-16 09:00:00</td>\n",
              "      <td>2023-01-06 15:00:00</td>\n",
              "      <td>2014-12-22</td>\n",
              "      <td>2023-01-06</td>\n",
              "    </tr>\n",
              "    <tr>\n",
              "      <th>17</th>\n",
              "      <td>AHAP</td>\n",
              "      <td>Asuransi Harta Aman Pratama Tb</td>\n",
              "      <td>1990-09-14</td>\n",
              "      <td>2.940000e+09</td>\n",
              "      <td>Pengembangan</td>\n",
              "      <td>Financials</td>\n",
              "      <td>64.0</td>\n",
              "      <td>1.881600e+11</td>\n",
              "      <td>2021-11-01 09:00:00</td>\n",
              "      <td>2023-01-06 15:59:00</td>\n",
              "      <td>2020-04-16 09:00:00</td>\n",
              "      <td>2023-01-06 15:00:00</td>\n",
              "      <td>2001-04-16</td>\n",
              "      <td>2023-01-06</td>\n",
              "    </tr>\n",
              "    <tr>\n",
              "      <th>...</th>\n",
              "      <td>...</td>\n",
              "      <td>...</td>\n",
              "      <td>...</td>\n",
              "      <td>...</td>\n",
              "      <td>...</td>\n",
              "      <td>...</td>\n",
              "      <td>...</td>\n",
              "      <td>...</td>\n",
              "      <td>...</td>\n",
              "      <td>...</td>\n",
              "      <td>...</td>\n",
              "      <td>...</td>\n",
              "      <td>...</td>\n",
              "      <td>...</td>\n",
              "    </tr>\n",
              "    <tr>\n",
              "      <th>797</th>\n",
              "      <td>VINS</td>\n",
              "      <td>Victoria Insurance Tbk.</td>\n",
              "      <td>2015-09-28</td>\n",
              "      <td>1.460574e+09</td>\n",
              "      <td>Pengembangan</td>\n",
              "      <td>Financials</td>\n",
              "      <td>133.0</td>\n",
              "      <td>1.942563e+11</td>\n",
              "      <td>2021-11-01 09:00:00</td>\n",
              "      <td>2023-01-06 15:59:00</td>\n",
              "      <td>2020-04-16 09:00:00</td>\n",
              "      <td>2023-01-06 15:00:00</td>\n",
              "      <td>2015-09-28</td>\n",
              "      <td>2023-01-06</td>\n",
              "    </tr>\n",
              "    <tr>\n",
              "      <th>800</th>\n",
              "      <td>VRNA</td>\n",
              "      <td>Verena Multi Finance Tbk.</td>\n",
              "      <td>2008-06-25</td>\n",
              "      <td>5.687354e+09</td>\n",
              "      <td>Pengembangan</td>\n",
              "      <td>Financials</td>\n",
              "      <td>99.0</td>\n",
              "      <td>5.630480e+11</td>\n",
              "      <td>2021-11-01 09:00:00</td>\n",
              "      <td>2023-01-06 15:59:00</td>\n",
              "      <td>2020-04-16 09:00:00</td>\n",
              "      <td>2023-01-06 15:00:00</td>\n",
              "      <td>2008-06-25</td>\n",
              "      <td>2023-01-06</td>\n",
              "    </tr>\n",
              "    <tr>\n",
              "      <th>801</th>\n",
              "      <td>VTNY</td>\n",
              "      <td>Venteny Fortuna International</td>\n",
              "      <td>2022-12-15</td>\n",
              "      <td>6.265193e+09</td>\n",
              "      <td>Pengembangan</td>\n",
              "      <td>Financials</td>\n",
              "      <td>444.0</td>\n",
              "      <td>2.781746e+12</td>\n",
              "      <td>2022-12-15 09:00:00</td>\n",
              "      <td>2023-01-06 15:59:00</td>\n",
              "      <td>2022-12-15 09:00:00</td>\n",
              "      <td>2023-01-06 15:00:00</td>\n",
              "      <td>2022-12-15</td>\n",
              "      <td>2023-01-06</td>\n",
              "    </tr>\n",
              "    <tr>\n",
              "      <th>815</th>\n",
              "      <td>WOMF</td>\n",
              "      <td>Wahana Ottomitra Multiartha Tb</td>\n",
              "      <td>2004-12-13</td>\n",
              "      <td>3.481481e+09</td>\n",
              "      <td>Utama</td>\n",
              "      <td>Financials</td>\n",
              "      <td>256.0</td>\n",
              "      <td>8.912593e+11</td>\n",
              "      <td>2021-11-01 09:00:00</td>\n",
              "      <td>2023-01-06 15:59:00</td>\n",
              "      <td>2020-04-16 09:00:00</td>\n",
              "      <td>2023-01-06 15:00:00</td>\n",
              "      <td>2004-12-13</td>\n",
              "      <td>2023-01-06</td>\n",
              "    </tr>\n",
              "    <tr>\n",
              "      <th>823</th>\n",
              "      <td>YULE</td>\n",
              "      <td>Yulie Sekuritas Indonesia Tbk.</td>\n",
              "      <td>2004-12-10</td>\n",
              "      <td>1.785000e+09</td>\n",
              "      <td>Pengembangan</td>\n",
              "      <td>Financials</td>\n",
              "      <td>2230.0</td>\n",
              "      <td>3.980550e+12</td>\n",
              "      <td>2021-11-01 09:00:00</td>\n",
              "      <td>2023-01-06 15:59:00</td>\n",
              "      <td>2020-04-16 09:00:00</td>\n",
              "      <td>2023-01-06 15:00:00</td>\n",
              "      <td>2004-12-10</td>\n",
              "      <td>2023-01-06</td>\n",
              "    </tr>\n",
              "  </tbody>\n",
              "</table>\n",
              "<p>106 rows × 14 columns</p>\n",
              "</div>\n",
              "      <button class=\"colab-df-convert\" onclick=\"convertToInteractive('df-c39e9d17-5b64-4c8b-bfd9-e19a22f3147e')\"\n",
              "              title=\"Convert this dataframe to an interactive table.\"\n",
              "              style=\"display:none;\">\n",
              "        \n",
              "  <svg xmlns=\"http://www.w3.org/2000/svg\" height=\"24px\"viewBox=\"0 0 24 24\"\n",
              "       width=\"24px\">\n",
              "    <path d=\"M0 0h24v24H0V0z\" fill=\"none\"/>\n",
              "    <path d=\"M18.56 5.44l.94 2.06.94-2.06 2.06-.94-2.06-.94-.94-2.06-.94 2.06-2.06.94zm-11 1L8.5 8.5l.94-2.06 2.06-.94-2.06-.94L8.5 2.5l-.94 2.06-2.06.94zm10 10l.94 2.06.94-2.06 2.06-.94-2.06-.94-.94-2.06-.94 2.06-2.06.94z\"/><path d=\"M17.41 7.96l-1.37-1.37c-.4-.4-.92-.59-1.43-.59-.52 0-1.04.2-1.43.59L10.3 9.45l-7.72 7.72c-.78.78-.78 2.05 0 2.83L4 21.41c.39.39.9.59 1.41.59.51 0 1.02-.2 1.41-.59l7.78-7.78 2.81-2.81c.8-.78.8-2.07 0-2.86zM5.41 20L4 18.59l7.72-7.72 1.47 1.35L5.41 20z\"/>\n",
              "  </svg>\n",
              "      </button>\n",
              "      \n",
              "  <style>\n",
              "    .colab-df-container {\n",
              "      display:flex;\n",
              "      flex-wrap:wrap;\n",
              "      gap: 12px;\n",
              "    }\n",
              "\n",
              "    .colab-df-convert {\n",
              "      background-color: #E8F0FE;\n",
              "      border: none;\n",
              "      border-radius: 50%;\n",
              "      cursor: pointer;\n",
              "      display: none;\n",
              "      fill: #1967D2;\n",
              "      height: 32px;\n",
              "      padding: 0 0 0 0;\n",
              "      width: 32px;\n",
              "    }\n",
              "\n",
              "    .colab-df-convert:hover {\n",
              "      background-color: #E2EBFA;\n",
              "      box-shadow: 0px 1px 2px rgba(60, 64, 67, 0.3), 0px 1px 3px 1px rgba(60, 64, 67, 0.15);\n",
              "      fill: #174EA6;\n",
              "    }\n",
              "\n",
              "    [theme=dark] .colab-df-convert {\n",
              "      background-color: #3B4455;\n",
              "      fill: #D2E3FC;\n",
              "    }\n",
              "\n",
              "    [theme=dark] .colab-df-convert:hover {\n",
              "      background-color: #434B5C;\n",
              "      box-shadow: 0px 1px 3px 1px rgba(0, 0, 0, 0.15);\n",
              "      filter: drop-shadow(0px 1px 2px rgba(0, 0, 0, 0.3));\n",
              "      fill: #FFFFFF;\n",
              "    }\n",
              "  </style>\n",
              "\n",
              "      <script>\n",
              "        const buttonEl =\n",
              "          document.querySelector('#df-c39e9d17-5b64-4c8b-bfd9-e19a22f3147e button.colab-df-convert');\n",
              "        buttonEl.style.display =\n",
              "          google.colab.kernel.accessAllowed ? 'block' : 'none';\n",
              "\n",
              "        async function convertToInteractive(key) {\n",
              "          const element = document.querySelector('#df-c39e9d17-5b64-4c8b-bfd9-e19a22f3147e');\n",
              "          const dataTable =\n",
              "            await google.colab.kernel.invokeFunction('convertToInteractive',\n",
              "                                                     [key], {});\n",
              "          if (!dataTable) return;\n",
              "\n",
              "          const docLinkHtml = 'Like what you see? Visit the ' +\n",
              "            '<a target=\"_blank\" href=https://colab.research.google.com/notebooks/data_table.ipynb>data table notebook</a>'\n",
              "            + ' to learn more about interactive tables.';\n",
              "          element.innerHTML = '';\n",
              "          dataTable['output_type'] = 'display_data';\n",
              "          await google.colab.output.renderOutput(dataTable, element);\n",
              "          const docLink = document.createElement('div');\n",
              "          docLink.innerHTML = docLinkHtml;\n",
              "          element.appendChild(docLink);\n",
              "        }\n",
              "      </script>\n",
              "    </div>\n",
              "  </div>\n",
              "  "
            ]
          },
          "metadata": {},
          "execution_count": 262
        }
      ]
    },
    {
      "cell_type": "markdown",
      "source": [
        "Setelah mengetahui berbagai macam jenis perusahaan yang ada di dalam sektor financial. maka kita perlu mengetahui terlebih dahulu kapitalisasi pasar dari saham/emiten tersebut.\n",
        "\n",
        "---\n",
        "\n",
        "Hal ini sangat penting dikarenakan Kapitalisasi pasar dapat digunakan sebagai salah satu parameter untuk menilai ukuran perusahaan dan tingkat likuiditasnya di pasar modal.\n",
        "\n",
        "---\n",
        "\n",
        "Perusahaan dengan Kapitalisasi pasar yang besar cenderung dianggap sebagai perusahaan yang stabil dan memiliki potensi keuntungan yang lebih tinggi, namun juga memiliki risiko yang lebih besar. Sebaliknya, perusahaan dengan Kapitalisasi pasar yang kecil cenderung lebih rentan terhadap fluktuasi pasar, namun juga memiliki potensi keuntungan yang tinggi."
      ],
      "metadata": {
        "id": "_B2OarUqWBS2"
      }
    },
    {
      "cell_type": "markdown",
      "source": [
        "## Saham perbankan dengan kapitalisasi pasar terbesar"
      ],
      "metadata": {
        "id": "PICNRuvAMrSQ"
      }
    },
    {
      "cell_type": "code",
      "source": [
        "# kita akan melakukan groupkan dari dataset 'sektorfinance' berdasrkan nama saham 'code' dan kapitalisasi pasarnya 'MarketCap'\n",
        "\n",
        "marketcapindo = sektorfinance.groupby('Code')['MarketCap'].max()\n",
        "marketcapindo"
      ],
      "metadata": {
        "colab": {
          "base_uri": "https://localhost:8080/"
        },
        "id": "ro8welDxBwXN",
        "outputId": "cee602f7-133a-4b88-bae3-5b995d8c5bc9"
      },
      "execution_count": 263,
      "outputs": [
        {
          "output_type": "execute_result",
          "data": {
            "text/plain": [
              "Code\n",
              "ABDA    4.159405e+12\n",
              "ADMF    8.850000e+12\n",
              "AGRO    9.143142e+12\n",
              "AGRS    1.555863e+12\n",
              "AHAP    1.881600e+11\n",
              "            ...     \n",
              "VINS    1.942563e+11\n",
              "VRNA    5.630480e+11\n",
              "VTNY    2.781746e+12\n",
              "WOMF    8.912593e+11\n",
              "YULE    3.980550e+12\n",
              "Name: MarketCap, Length: 106, dtype: float64"
            ]
          },
          "metadata": {},
          "execution_count": 263
        }
      ]
    },
    {
      "cell_type": "code",
      "source": [
        "# Karena data dari 'marketcapindo' terlalu banyak dan tidak berurutan makan kita akan mengurutkan data terbesar dari kapitalisasi pasarnya\n",
        "\n",
        "marketcapindo = sektorfinance.groupby('Code')['MarketCap'].max().sort_values(ascending=False).head(10)"
      ],
      "metadata": {
        "id": "uBzL1ktDLivn"
      },
      "execution_count": 264,
      "outputs": []
    },
    {
      "cell_type": "code",
      "source": [
        "# agar lebih mudah untuk dilihat kita akan mengubahnya dalam bentuk grafik\n",
        "\n",
        "marketcapindo.plot(kind='barh',\n",
        "                 figsize=(6, 6),\n",
        "                 title='Market Cap Sektor Finance')"
      ],
      "metadata": {
        "colab": {
          "base_uri": "https://localhost:8080/",
          "height": 0
        },
        "id": "_ZXnYOAPK1T5",
        "outputId": "18e13d26-75cd-4972-a1b4-cf474076f1bf"
      },
      "execution_count": 265,
      "outputs": [
        {
          "output_type": "execute_result",
          "data": {
            "text/plain": [
              "<Axes: title={'center': 'Market Cap Sektor Finance'}, ylabel='Code'>"
            ]
          },
          "metadata": {},
          "execution_count": 265
        },
        {
          "output_type": "display_data",
          "data": {
            "text/plain": [
              "<Figure size 600x600 with 1 Axes>"
            ],
            "image/png": "[encoded data removed]"
          },
          "metadata": {}
        }
      ]
    },
    {
      "cell_type": "markdown",
      "source": [
        "Dapat dilihat pada sektor Financial 4 saham dengan kapitalisasi terbesar merupakan saham perbankan.\n",
        "\n",
        "1. Bank BCA (BBCA)\n",
        "2. Bank Rakyat Indonesia (BBRI)\n",
        "3. Bank Mandiri (BMRI)\n",
        "4. Bank Negara Indonesia (BBNI)"
      ],
      "metadata": {
        "id": "htZqknRyiJWD"
      }
    },
    {
      "cell_type": "markdown",
      "source": [
        "## Saham Perbankan dengan Jumlah Saham Beredar Terbesar"
      ],
      "metadata": {
        "id": "xQuNtF-HihGK"
      }
    },
    {
      "cell_type": "markdown",
      "source": [
        "Dikarenakan Kapitalisasi Pasar berkaitan erat dengan Jumlah saham beredar maka kita perlu mengetahui jumlah saham beredar perusahaan perbankan di sektor finance"
      ],
      "metadata": {
        "id": "3uOxX13oZ5Ku"
      }
    },
    {
      "cell_type": "code",
      "source": [
        "# kita akan melakukan groupkan dari dataset 'sektorfinance' berdasrkan nama saham 'code' dan jumlah saham beredarnya 'shares'\n",
        "\n",
        "Saham_Beredar = sektorfinance.groupby('Code')['Shares'].max()\n",
        "Saham_Beredar"
      ],
      "metadata": {
        "colab": {
          "base_uri": "https://localhost:8080/"
        },
        "id": "06iZMzzJiqhn",
        "outputId": "8ec0486b-6263-47df-8e56-c09f2400b5e5"
      },
      "execution_count": 266,
      "outputs": [
        {
          "output_type": "execute_result",
          "data": {
            "text/plain": [
              "Code\n",
              "ABDA    6.208067e+08\n",
              "ADMF    1.000000e+09\n",
              "AGRO    2.252005e+10\n",
              "AGRS    1.748160e+10\n",
              "AHAP    2.940000e+09\n",
              "            ...     \n",
              "VINS    1.460574e+09\n",
              "VRNA    5.687354e+09\n",
              "VTNY    6.265193e+09\n",
              "WOMF    3.481481e+09\n",
              "YULE    1.785000e+09\n",
              "Name: Shares, Length: 106, dtype: float64"
            ]
          },
          "metadata": {},
          "execution_count": 266
        }
      ]
    },
    {
      "cell_type": "code",
      "source": [
        "# Karena data dari 'Saham_Beredar' terlalu banyak dan tidak berurutan makan kita akan mengurutkan data terbesar dari jumlah saham beredarnya\n",
        "\n",
        "Saham_Beredar = sektorfinance.groupby('Code')['Shares'].max().sort_values(ascending=False).head(10)"
      ],
      "metadata": {
        "id": "HDgFcQ0kMOZ8"
      },
      "execution_count": 267,
      "outputs": []
    },
    {
      "cell_type": "code",
      "source": [
        "# kita akan membuatnya dalam bentuk table agar mudah dilihat\n",
        "\n",
        "Saham_Beredar1 = Saham_Beredar.to_frame()\n",
        "Saham_Beredar1"
      ],
      "metadata": {
        "colab": {
          "base_uri": "https://localhost:8080/",
          "height": 0
        },
        "id": "Yk4-roDebgvk",
        "outputId": "9408d41d-5447-4644-b742-f4d2f5a7bf42"
      },
      "execution_count": 268,
      "outputs": [
        {
          "output_type": "execute_result",
          "data": {
            "text/plain": [
              "            Shares\n",
              "Code              \n",
              "BBRI  1.500434e+11\n",
              "BBCA  1.220423e+11\n",
              "BNII  7.535743e+10\n",
              "BBKP  6.701989e+10\n",
              "CASA  5.447627e+10\n",
              "BEKS  5.135173e+10\n",
              "BMRI  4.620000e+10\n",
              "BCAP  4.261885e+10\n",
              "BRIS  4.071792e+10\n",
              "PNBS  3.842550e+10"
            ],
            "text/html": [
              "\n",
              "  <div id=\"df-11c2c62f-3496-4be3-baa1-1c6faeec3f51\">\n",
              "    <div class=\"colab-df-container\">\n",
              "      <div>\n",
              "<style scoped>\n",
              "    .dataframe tbody tr th:only-of-type {\n",
              "        vertical-align: middle;\n",
              "    }\n",
              "\n",
              "    .dataframe tbody tr th {\n",
              "        vertical-align: top;\n",
              "    }\n",
              "\n",
              "    .dataframe thead th {\n",
              "        text-align: right;\n",
              "    }\n",
              "</style>\n",
              "<table border=\"1\" class=\"dataframe\">\n",
              "  <thead>\n",
              "    <tr style=\"text-align: right;\">\n",
              "      <th></th>\n",
              "      <th>Shares</th>\n",
              "    </tr>\n",
              "    <tr>\n",
              "      <th>Code</th>\n",
              "      <th></th>\n",
              "    </tr>\n",
              "  </thead>\n",
              "  <tbody>\n",
              "    <tr>\n",
              "      <th>BBRI</th>\n",
              "      <td>1.500434e+11</td>\n",
              "    </tr>\n",
              "    <tr>\n",
              "      <th>BBCA</th>\n",
              "      <td>1.220423e+11</td>\n",
              "    </tr>\n",
              "    <tr>\n",
              "      <th>BNII</th>\n",
              "      <td>7.535743e+10</td>\n",
              "    </tr>\n",
              "    <tr>\n",
              "      <th>BBKP</th>\n",
              "      <td>6.701989e+10</td>\n",
              "    </tr>\n",
              "    <tr>\n",
              "      <th>CASA</th>\n",
              "      <td>5.447627e+10</td>\n",
              "    </tr>\n",
              "    <tr>\n",
              "      <th>BEKS</th>\n",
              "      <td>5.135173e+10</td>\n",
              "    </tr>\n",
              "    <tr>\n",
              "      <th>BMRI</th>\n",
              "      <td>4.620000e+10</td>\n",
              "    </tr>\n",
              "    <tr>\n",
              "      <th>BCAP</th>\n",
              "      <td>4.261885e+10</td>\n",
              "    </tr>\n",
              "    <tr>\n",
              "      <th>BRIS</th>\n",
              "      <td>4.071792e+10</td>\n",
              "    </tr>\n",
              "    <tr>\n",
              "      <th>PNBS</th>\n",
              "      <td>3.842550e+10</td>\n",
              "    </tr>\n",
              "  </tbody>\n",
              "</table>\n",
              "</div>\n",
              "      <button class=\"colab-df-convert\" onclick=\"convertToInteractive('df-11c2c62f-3496-4be3-baa1-1c6faeec3f51')\"\n",
              "              title=\"Convert this dataframe to an interactive table.\"\n",
              "              style=\"display:none;\">\n",
              "        \n",
              "  <svg xmlns=\"http://www.w3.org/2000/svg\" height=\"24px\"viewBox=\"0 0 24 24\"\n",
              "       width=\"24px\">\n",
              "    <path d=\"M0 0h24v24H0V0z\" fill=\"none\"/>\n",
              "    <path d=\"M18.56 5.44l.94 2.06.94-2.06 2.06-.94-2.06-.94-.94-2.06-.94 2.06-2.06.94zm-11 1L8.5 8.5l.94-2.06 2.06-.94-2.06-.94L8.5 2.5l-.94 2.06-2.06.94zm10 10l.94 2.06.94-2.06 2.06-.94-2.06-.94-.94-2.06-.94 2.06-2.06.94z\"/><path d=\"M17.41 7.96l-1.37-1.37c-.4-.4-.92-.59-1.43-.59-.52 0-1.04.2-1.43.59L10.3 9.45l-7.72 7.72c-.78.78-.78 2.05 0 2.83L4 21.41c.39.39.9.59 1.41.59.51 0 1.02-.2 1.41-.59l7.78-7.78 2.81-2.81c.8-.78.8-2.07 0-2.86zM5.41 20L4 18.59l7.72-7.72 1.47 1.35L5.41 20z\"/>\n",
              "  </svg>\n",
              "      </button>\n",
              "      \n",
              "  <style>\n",
              "    .colab-df-container {\n",
              "      display:flex;\n",
              "      flex-wrap:wrap;\n",
              "      gap: 12px;\n",
              "    }\n",
              "\n",
              "    .colab-df-convert {\n",
              "      background-color: #E8F0FE;\n",
              "      border: none;\n",
              "      border-radius: 50%;\n",
              "      cursor: pointer;\n",
              "      display: none;\n",
              "      fill: #1967D2;\n",
              "      height: 32px;\n",
              "      padding: 0 0 0 0;\n",
              "      width: 32px;\n",
              "    }\n",
              "\n",
              "    .colab-df-convert:hover {\n",
              "      background-color: #E2EBFA;\n",
              "      box-shadow: 0px 1px 2px rgba(60, 64, 67, 0.3), 0px 1px 3px 1px rgba(60, 64, 67, 0.15);\n",
              "      fill: #174EA6;\n",
              "    }\n",
              "\n",
              "    [theme=dark] .colab-df-convert {\n",
              "      background-color: #3B4455;\n",
              "      fill: #D2E3FC;\n",
              "    }\n",
              "\n",
              "    [theme=dark] .colab-df-convert:hover {\n",
              "      background-color: #434B5C;\n",
              "      box-shadow: 0px 1px 3px 1px rgba(0, 0, 0, 0.15);\n",
              "      filter: drop-shadow(0px 1px 2px rgba(0, 0, 0, 0.3));\n",
              "      fill: #FFFFFF;\n",
              "    }\n",
              "  </style>\n",
              "\n",
              "      <script>\n",
              "        const buttonEl =\n",
              "          document.querySelector('#df-11c2c62f-3496-4be3-baa1-1c6faeec3f51 button.colab-df-convert');\n",
              "        buttonEl.style.display =\n",
              "          google.colab.kernel.accessAllowed ? 'block' : 'none';\n",
              "\n",
              "        async function convertToInteractive(key) {\n",
              "          const element = document.querySelector('#df-11c2c62f-3496-4be3-baa1-1c6faeec3f51');\n",
              "          const dataTable =\n",
              "            await google.colab.kernel.invokeFunction('convertToInteractive',\n",
              "                                                     [key], {});\n",
              "          if (!dataTable) return;\n",
              "\n",
              "          const docLinkHtml = 'Like what you see? Visit the ' +\n",
              "            '<a target=\"_blank\" href=https://colab.research.google.com/notebooks/data_table.ipynb>data table notebook</a>'\n",
              "            + ' to learn more about interactive tables.';\n",
              "          element.innerHTML = '';\n",
              "          dataTable['output_type'] = 'display_data';\n",
              "          await google.colab.output.renderOutput(dataTable, element);\n",
              "          const docLink = document.createElement('div');\n",
              "          docLink.innerHTML = docLinkHtml;\n",
              "          element.appendChild(docLink);\n",
              "        }\n",
              "      </script>\n",
              "    </div>\n",
              "  </div>\n",
              "  "
            ]
          },
          "metadata": {},
          "execution_count": 268
        }
      ]
    },
    {
      "cell_type": "code",
      "source": [
        "# agar lebih mudah untuk dilihat kita akan mengubahnya data table 'Saham_Beredar1' dalam bentuk grafik\n",
        "\n",
        "Saham_Beredar1.plot(kind='barh',\n",
        "                 figsize=(6, 6),\n",
        "                 title='Jumlah Saham Beredar Sektor Finance')"
      ],
      "metadata": {
        "colab": {
          "base_uri": "https://localhost:8080/",
          "height": 0
        },
        "id": "H4YtgRRHjD8e",
        "outputId": "19781dfc-f2af-43eb-ab1b-0a466402a15b"
      },
      "execution_count": 269,
      "outputs": [
        {
          "output_type": "execute_result",
          "data": {
            "text/plain": [
              "<Axes: title={'center': 'Jumlah Saham Beredar Sektor Finance'}, ylabel='Code'>"
            ]
          },
          "metadata": {},
          "execution_count": 269
        },
        {
          "output_type": "display_data",
          "data": {
            "text/plain": [
              "<Figure size 600x600 with 1 Axes>"
            ],
            "image/png": "[encoded data removed]"
          },
          "metadata": {}
        }
      ]
    },
    {
      "cell_type": "markdown",
      "source": [
        "Dari Grafik jumlah saham perbankan di Bursa efek Indonesia yang terbesar didominasi oleh saham berikut:\n",
        "\n",
        "1.   Bank Rakyat Indonesia (BBRI)\n",
        "2.   Bank Central Asia (BBCA)\n",
        "3.   Bank Negara Indonesia (BBNI)\n",
        "4.   Bank KB Bukopin (BBKP)"
      ],
      "metadata": {
        "id": "C9g9cltrQ3o7"
      }
    },
    {
      "cell_type": "markdown",
      "source": [
        "## Penerbitan Saham perbankan di Bursa Efek Indonesia"
      ],
      "metadata": {
        "id": "dletGY4p85r3"
      }
    },
    {
      "cell_type": "markdown",
      "source": [
        "Selain Faktor Kapitalisasi Pasar dan Jumlah Saham beredar. terdapat satu parameter berupa umur saham. Saham yang telah lama terdaftar di bursa saham dan memiliki sejarah kinerja yang baik dapat memberikan indikasi bahwa saham tersebut stabil dan memiliki potensi untuk memberikan keuntungan dalam jangka panjang. "
      ],
      "metadata": {
        "id": "Ouh9S4M0gTuF"
      }
    },
    {
      "cell_type": "markdown",
      "source": [
        "## Saham terlama sektor finance di Bursa Efek Indonesia"
      ],
      "metadata": {
        "id": "dJqbK5c_9C9_"
      }
    },
    {
      "cell_type": "code",
      "source": [
        "# kita akan melakukan grouping saham 'code' dan 'Listingdate' nilai ter minimal\n",
        "\n",
        "Saham_Lama = sektorfinance.groupby('Code')['ListingDate'].min()\n",
        "Saham_Lama"
      ],
      "metadata": {
        "colab": {
          "base_uri": "https://localhost:8080/"
        },
        "id": "iUC3KYea777C",
        "outputId": "c5c3ad15-fa10-43c6-818b-4a18ab57145f"
      },
      "execution_count": 270,
      "outputs": [
        {
          "output_type": "execute_result",
          "data": {
            "text/plain": [
              "Code\n",
              "ABDA   1989-07-06\n",
              "ADMF   2004-03-31\n",
              "AGRO   2003-08-08\n",
              "AGRS   2014-12-22\n",
              "AHAP   1990-09-14\n",
              "          ...    \n",
              "VINS   2015-09-28\n",
              "VRNA   2008-06-25\n",
              "VTNY   2022-12-15\n",
              "WOMF   2004-12-13\n",
              "YULE   2004-12-10\n",
              "Name: ListingDate, Length: 106, dtype: datetime64[ns]"
            ]
          },
          "metadata": {},
          "execution_count": 270
        }
      ]
    },
    {
      "cell_type": "code",
      "source": [
        "# karena data yang ditampilkan banyak maka kita akan mengambil 10 data saja\n",
        "\n",
        "Saham_Lama = sektorfinance.groupby('Code')['ListingDate'].min().sort_values(ascending=True).head(10)"
      ],
      "metadata": {
        "id": "DTdVpDMQfoCm"
      },
      "execution_count": 271,
      "outputs": []
    },
    {
      "cell_type": "code",
      "source": [
        "# lalu kita baut dalam bentuk table dataset\n",
        "\n",
        "Saham_lama = Saham_Lama.to_frame()\n",
        "Saham_lama"
      ],
      "metadata": {
        "colab": {
          "base_uri": "https://localhost:8080/",
          "height": 0
        },
        "id": "D6Crviot_HJb",
        "outputId": "39302343-9425-4997-f185-95ebce746c84"
      },
      "execution_count": 272,
      "outputs": [
        {
          "output_type": "execute_result",
          "data": {
            "text/plain": [
              "     ListingDate\n",
              "Code            \n",
              "PNBN  1982-12-29\n",
              "PNLF  1983-06-14\n",
              "PNIN  1983-09-20\n",
              "ABDA  1989-07-06\n",
              "MREI  1989-09-04\n",
              "GSMF  1989-10-23\n",
              "BNII  1989-11-21\n",
              "ASBI  1989-11-29\n",
              "BNGA  1989-11-29\n",
              "BDMN  1989-12-06"
            ],
            "text/html": [
              "\n",
              "  <div id=\"df-0ec8e4cd-fc89-47ca-8058-4a1702f70cee\">\n",
              "    <div class=\"colab-df-container\">\n",
              "      <div>\n",
              "<style scoped>\n",
              "    .dataframe tbody tr th:only-of-type {\n",
              "        vertical-align: middle;\n",
              "    }\n",
              "\n",
              "    .dataframe tbody tr th {\n",
              "        vertical-align: top;\n",
              "    }\n",
              "\n",
              "    .dataframe thead th {\n",
              "        text-align: right;\n",
              "    }\n",
              "</style>\n",
              "<table border=\"1\" class=\"dataframe\">\n",
              "  <thead>\n",
              "    <tr style=\"text-align: right;\">\n",
              "      <th></th>\n",
              "      <th>ListingDate</th>\n",
              "    </tr>\n",
              "    <tr>\n",
              "      <th>Code</th>\n",
              "      <th></th>\n",
              "    </tr>\n",
              "  </thead>\n",
              "  <tbody>\n",
              "    <tr>\n",
              "      <th>PNBN</th>\n",
              "      <td>1982-12-29</td>\n",
              "    </tr>\n",
              "    <tr>\n",
              "      <th>PNLF</th>\n",
              "      <td>1983-06-14</td>\n",
              "    </tr>\n",
              "    <tr>\n",
              "      <th>PNIN</th>\n",
              "      <td>1983-09-20</td>\n",
              "    </tr>\n",
              "    <tr>\n",
              "      <th>ABDA</th>\n",
              "      <td>1989-07-06</td>\n",
              "    </tr>\n",
              "    <tr>\n",
              "      <th>MREI</th>\n",
              "      <td>1989-09-04</td>\n",
              "    </tr>\n",
              "    <tr>\n",
              "      <th>GSMF</th>\n",
              "      <td>1989-10-23</td>\n",
              "    </tr>\n",
              "    <tr>\n",
              "      <th>BNII</th>\n",
              "      <td>1989-11-21</td>\n",
              "    </tr>\n",
              "    <tr>\n",
              "      <th>ASBI</th>\n",
              "      <td>1989-11-29</td>\n",
              "    </tr>\n",
              "    <tr>\n",
              "      <th>BNGA</th>\n",
              "      <td>1989-11-29</td>\n",
              "    </tr>\n",
              "    <tr>\n",
              "      <th>BDMN</th>\n",
              "      <td>1989-12-06</td>\n",
              "    </tr>\n",
              "  </tbody>\n",
              "</table>\n",
              "</div>\n",
              "      <button class=\"colab-df-convert\" onclick=\"convertToInteractive('df-0ec8e4cd-fc89-47ca-8058-4a1702f70cee')\"\n",
              "              title=\"Convert this dataframe to an interactive table.\"\n",
              "              style=\"display:none;\">\n",
              "        \n",
              "  <svg xmlns=\"http://www.w3.org/2000/svg\" height=\"24px\"viewBox=\"0 0 24 24\"\n",
              "       width=\"24px\">\n",
              "    <path d=\"M0 0h24v24H0V0z\" fill=\"none\"/>\n",
              "    <path d=\"M18.56 5.44l.94 2.06.94-2.06 2.06-.94-2.06-.94-.94-2.06-.94 2.06-2.06.94zm-11 1L8.5 8.5l.94-2.06 2.06-.94-2.06-.94L8.5 2.5l-.94 2.06-2.06.94zm10 10l.94 2.06.94-2.06 2.06-.94-2.06-.94-.94-2.06-.94 2.06-2.06.94z\"/><path d=\"M17.41 7.96l-1.37-1.37c-.4-.4-.92-.59-1.43-.59-.52 0-1.04.2-1.43.59L10.3 9.45l-7.72 7.72c-.78.78-.78 2.05 0 2.83L4 21.41c.39.39.9.59 1.41.59.51 0 1.02-.2 1.41-.59l7.78-7.78 2.81-2.81c.8-.78.8-2.07 0-2.86zM5.41 20L4 18.59l7.72-7.72 1.47 1.35L5.41 20z\"/>\n",
              "  </svg>\n",
              "      </button>\n",
              "      \n",
              "  <style>\n",
              "    .colab-df-container {\n",
              "      display:flex;\n",
              "      flex-wrap:wrap;\n",
              "      gap: 12px;\n",
              "    }\n",
              "\n",
              "    .colab-df-convert {\n",
              "      background-color: #E8F0FE;\n",
              "      border: none;\n",
              "      border-radius: 50%;\n",
              "      cursor: pointer;\n",
              "      display: none;\n",
              "      fill: #1967D2;\n",
              "      height: 32px;\n",
              "      padding: 0 0 0 0;\n",
              "      width: 32px;\n",
              "    }\n",
              "\n",
              "    .colab-df-convert:hover {\n",
              "      background-color: #E2EBFA;\n",
              "      box-shadow: 0px 1px 2px rgba(60, 64, 67, 0.3), 0px 1px 3px 1px rgba(60, 64, 67, 0.15);\n",
              "      fill: #174EA6;\n",
              "    }\n",
              "\n",
              "    [theme=dark] .colab-df-convert {\n",
              "      background-color: #3B4455;\n",
              "      fill: #D2E3FC;\n",
              "    }\n",
              "\n",
              "    [theme=dark] .colab-df-convert:hover {\n",
              "      background-color: #434B5C;\n",
              "      box-shadow: 0px 1px 3px 1px rgba(0, 0, 0, 0.15);\n",
              "      filter: drop-shadow(0px 1px 2px rgba(0, 0, 0, 0.3));\n",
              "      fill: #FFFFFF;\n",
              "    }\n",
              "  </style>\n",
              "\n",
              "      <script>\n",
              "        const buttonEl =\n",
              "          document.querySelector('#df-0ec8e4cd-fc89-47ca-8058-4a1702f70cee button.colab-df-convert');\n",
              "        buttonEl.style.display =\n",
              "          google.colab.kernel.accessAllowed ? 'block' : 'none';\n",
              "\n",
              "        async function convertToInteractive(key) {\n",
              "          const element = document.querySelector('#df-0ec8e4cd-fc89-47ca-8058-4a1702f70cee');\n",
              "          const dataTable =\n",
              "            await google.colab.kernel.invokeFunction('convertToInteractive',\n",
              "                                                     [key], {});\n",
              "          if (!dataTable) return;\n",
              "\n",
              "          const docLinkHtml = 'Like what you see? Visit the ' +\n",
              "            '<a target=\"_blank\" href=https://colab.research.google.com/notebooks/data_table.ipynb>data table notebook</a>'\n",
              "            + ' to learn more about interactive tables.';\n",
              "          element.innerHTML = '';\n",
              "          dataTable['output_type'] = 'display_data';\n",
              "          await google.colab.output.renderOutput(dataTable, element);\n",
              "          const docLink = document.createElement('div');\n",
              "          docLink.innerHTML = docLinkHtml;\n",
              "          element.appendChild(docLink);\n",
              "        }\n",
              "      </script>\n",
              "    </div>\n",
              "  </div>\n",
              "  "
            ]
          },
          "metadata": {},
          "execution_count": 272
        }
      ]
    },
    {
      "cell_type": "code",
      "source": [
        "Saham_lama.info()"
      ],
      "metadata": {
        "colab": {
          "base_uri": "https://localhost:8080/"
        },
        "id": "tcb4Dq1lrrI-",
        "outputId": "042cdc0c-ca3d-475f-f6dc-59055bf8292c"
      },
      "execution_count": 273,
      "outputs": [
        {
          "output_type": "stream",
          "name": "stdout",
          "text": [
            "<class 'pandas.core.frame.DataFrame'>\n",
            "Index: 10 entries, PNBN to BDMN\n",
            "Data columns (total 1 columns):\n",
            " #   Column       Non-Null Count  Dtype         \n",
            "---  ------       --------------  -----         \n",
            " 0   ListingDate  10 non-null     datetime64[ns]\n",
            "dtypes: datetime64[ns](1)\n",
            "memory usage: 160.0+ bytes\n"
          ]
        }
      ]
    },
    {
      "cell_type": "markdown",
      "source": [
        "setelah dicek ternyata tipe data pada Listingdate adalah objek"
      ],
      "metadata": {
        "id": "GQhL-yipsAqI"
      }
    },
    {
      "cell_type": "code",
      "source": [
        "# kita rubah tipe data dari object ke datetime\n",
        "\n",
        "Saham_lama['ListingDate'] = pd.to_datetime(Saham_lama['ListingDate'])"
      ],
      "metadata": {
        "id": "7EqQzrjNryq8"
      },
      "execution_count": 274,
      "outputs": []
    },
    {
      "cell_type": "code",
      "source": [
        "#kita pilihhanya berdasarkan tahun saja\n",
        "\n",
        "Saham_lama['ListingDate'] = Saham_lama['ListingDate'].dt.year"
      ],
      "metadata": {
        "id": "t6428iRvrhHC"
      },
      "execution_count": 275,
      "outputs": []
    },
    {
      "cell_type": "code",
      "source": [
        "Saham_lama"
      ],
      "metadata": {
        "colab": {
          "base_uri": "https://localhost:8080/",
          "height": 0
        },
        "id": "ZHvfl_pUr5JB",
        "outputId": "23d00c55-e608-4db6-b578-5c09390b5843"
      },
      "execution_count": 276,
      "outputs": [
        {
          "output_type": "execute_result",
          "data": {
            "text/plain": [
              "      ListingDate\n",
              "Code             \n",
              "PNBN         1982\n",
              "PNLF         1983\n",
              "PNIN         1983\n",
              "ABDA         1989\n",
              "MREI         1989\n",
              "GSMF         1989\n",
              "BNII         1989\n",
              "ASBI         1989\n",
              "BNGA         1989\n",
              "BDMN         1989"
            ],
            "text/html": [
              "\n",
              "  <div id=\"df-85758624-70f8-4a69-8054-6b49ad7958da\">\n",
              "    <div class=\"colab-df-container\">\n",
              "      <div>\n",
              "<style scoped>\n",
              "    .dataframe tbody tr th:only-of-type {\n",
              "        vertical-align: middle;\n",
              "    }\n",
              "\n",
              "    .dataframe tbody tr th {\n",
              "        vertical-align: top;\n",
              "    }\n",
              "\n",
              "    .dataframe thead th {\n",
              "        text-align: right;\n",
              "    }\n",
              "</style>\n",
              "<table border=\"1\" class=\"dataframe\">\n",
              "  <thead>\n",
              "    <tr style=\"text-align: right;\">\n",
              "      <th></th>\n",
              "      <th>ListingDate</th>\n",
              "    </tr>\n",
              "    <tr>\n",
              "      <th>Code</th>\n",
              "      <th></th>\n",
              "    </tr>\n",
              "  </thead>\n",
              "  <tbody>\n",
              "    <tr>\n",
              "      <th>PNBN</th>\n",
              "      <td>1982</td>\n",
              "    </tr>\n",
              "    <tr>\n",
              "      <th>PNLF</th>\n",
              "      <td>1983</td>\n",
              "    </tr>\n",
              "    <tr>\n",
              "      <th>PNIN</th>\n",
              "      <td>1983</td>\n",
              "    </tr>\n",
              "    <tr>\n",
              "      <th>ABDA</th>\n",
              "      <td>1989</td>\n",
              "    </tr>\n",
              "    <tr>\n",
              "      <th>MREI</th>\n",
              "      <td>1989</td>\n",
              "    </tr>\n",
              "    <tr>\n",
              "      <th>GSMF</th>\n",
              "      <td>1989</td>\n",
              "    </tr>\n",
              "    <tr>\n",
              "      <th>BNII</th>\n",
              "      <td>1989</td>\n",
              "    </tr>\n",
              "    <tr>\n",
              "      <th>ASBI</th>\n",
              "      <td>1989</td>\n",
              "    </tr>\n",
              "    <tr>\n",
              "      <th>BNGA</th>\n",
              "      <td>1989</td>\n",
              "    </tr>\n",
              "    <tr>\n",
              "      <th>BDMN</th>\n",
              "      <td>1989</td>\n",
              "    </tr>\n",
              "  </tbody>\n",
              "</table>\n",
              "</div>\n",
              "      <button class=\"colab-df-convert\" onclick=\"convertToInteractive('df-85758624-70f8-4a69-8054-6b49ad7958da')\"\n",
              "              title=\"Convert this dataframe to an interactive table.\"\n",
              "              style=\"display:none;\">\n",
              "        \n",
              "  <svg xmlns=\"http://www.w3.org/2000/svg\" height=\"24px\"viewBox=\"0 0 24 24\"\n",
              "       width=\"24px\">\n",
              "    <path d=\"M0 0h24v24H0V0z\" fill=\"none\"/>\n",
              "    <path d=\"M18.56 5.44l.94 2.06.94-2.06 2.06-.94-2.06-.94-.94-2.06-.94 2.06-2.06.94zm-11 1L8.5 8.5l.94-2.06 2.06-.94-2.06-.94L8.5 2.5l-.94 2.06-2.06.94zm10 10l.94 2.06.94-2.06 2.06-.94-2.06-.94-.94-2.06-.94 2.06-2.06.94z\"/><path d=\"M17.41 7.96l-1.37-1.37c-.4-.4-.92-.59-1.43-.59-.52 0-1.04.2-1.43.59L10.3 9.45l-7.72 7.72c-.78.78-.78 2.05 0 2.83L4 21.41c.39.39.9.59 1.41.59.51 0 1.02-.2 1.41-.59l7.78-7.78 2.81-2.81c.8-.78.8-2.07 0-2.86zM5.41 20L4 18.59l7.72-7.72 1.47 1.35L5.41 20z\"/>\n",
              "  </svg>\n",
              "      </button>\n",
              "      \n",
              "  <style>\n",
              "    .colab-df-container {\n",
              "      display:flex;\n",
              "      flex-wrap:wrap;\n",
              "      gap: 12px;\n",
              "    }\n",
              "\n",
              "    .colab-df-convert {\n",
              "      background-color: #E8F0FE;\n",
              "      border: none;\n",
              "      border-radius: 50%;\n",
              "      cursor: pointer;\n",
              "      display: none;\n",
              "      fill: #1967D2;\n",
              "      height: 32px;\n",
              "      padding: 0 0 0 0;\n",
              "      width: 32px;\n",
              "    }\n",
              "\n",
              "    .colab-df-convert:hover {\n",
              "      background-color: #E2EBFA;\n",
              "      box-shadow: 0px 1px 2px rgba(60, 64, 67, 0.3), 0px 1px 3px 1px rgba(60, 64, 67, 0.15);\n",
              "      fill: #174EA6;\n",
              "    }\n",
              "\n",
              "    [theme=dark] .colab-df-convert {\n",
              "      background-color: #3B4455;\n",
              "      fill: #D2E3FC;\n",
              "    }\n",
              "\n",
              "    [theme=dark] .colab-df-convert:hover {\n",
              "      background-color: #434B5C;\n",
              "      box-shadow: 0px 1px 3px 1px rgba(0, 0, 0, 0.15);\n",
              "      filter: drop-shadow(0px 1px 2px rgba(0, 0, 0, 0.3));\n",
              "      fill: #FFFFFF;\n",
              "    }\n",
              "  </style>\n",
              "\n",
              "      <script>\n",
              "        const buttonEl =\n",
              "          document.querySelector('#df-85758624-70f8-4a69-8054-6b49ad7958da button.colab-df-convert');\n",
              "        buttonEl.style.display =\n",
              "          google.colab.kernel.accessAllowed ? 'block' : 'none';\n",
              "\n",
              "        async function convertToInteractive(key) {\n",
              "          const element = document.querySelector('#df-85758624-70f8-4a69-8054-6b49ad7958da');\n",
              "          const dataTable =\n",
              "            await google.colab.kernel.invokeFunction('convertToInteractive',\n",
              "                                                     [key], {});\n",
              "          if (!dataTable) return;\n",
              "\n",
              "          const docLinkHtml = 'Like what you see? Visit the ' +\n",
              "            '<a target=\"_blank\" href=https://colab.research.google.com/notebooks/data_table.ipynb>data table notebook</a>'\n",
              "            + ' to learn more about interactive tables.';\n",
              "          element.innerHTML = '';\n",
              "          dataTable['output_type'] = 'display_data';\n",
              "          await google.colab.output.renderOutput(dataTable, element);\n",
              "          const docLink = document.createElement('div');\n",
              "          docLink.innerHTML = docLinkHtml;\n",
              "          element.appendChild(docLink);\n",
              "        }\n",
              "      </script>\n",
              "    </div>\n",
              "  </div>\n",
              "  "
            ]
          },
          "metadata": {},
          "execution_count": 276
        }
      ]
    },
    {
      "cell_type": "markdown",
      "source": [
        "Dapat disimpulkan rata-rata saham perbankan seperti PNBN, BNII, BNGA, dan BDMN merupakan saham yang sudah lama listing di Bursa Efek Indonesia\n",
        "\n",
        "* PT Bank Pan Indonesia Tbk (PNBN) atau disebut Bank Panin\n",
        "* PT Bank Maybank Indonesia Tbk (BNII) atau disebut Maybank\n",
        "* PT Bank CIMB Niaga Tbk (BNGA)\n",
        "* PT Bank Danamon Indonesia Tbk (BDMN)"
      ],
      "metadata": {
        "id": "NZP7iq_8tElB"
      }
    },
    {
      "cell_type": "markdown",
      "source": [
        "## Saham terbaru sektor finance di Bursa Efek Indonesia"
      ],
      "metadata": {
        "id": "7RC-ssGAjTPM"
      }
    },
    {
      "cell_type": "code",
      "source": [
        "# kita akan melakukan grouping saham 'code' dan 'Listingdate' nilai ter maximal\n",
        "\n",
        "Saham_Baru = sektorfinance.groupby('Code')['ListingDate'].max()\n",
        "Saham_Baru"
      ],
      "metadata": {
        "colab": {
          "base_uri": "https://localhost:8080/"
        },
        "id": "xajdoS3UjVr4",
        "outputId": "274e3d60-cdb1-417d-80e2-522233ffe645"
      },
      "execution_count": 277,
      "outputs": [
        {
          "output_type": "execute_result",
          "data": {
            "text/plain": [
              "Code\n",
              "ABDA   1989-07-06\n",
              "ADMF   2004-03-31\n",
              "AGRO   2003-08-08\n",
              "AGRS   2014-12-22\n",
              "AHAP   1990-09-14\n",
              "          ...    \n",
              "VINS   2015-09-28\n",
              "VRNA   2008-06-25\n",
              "VTNY   2022-12-15\n",
              "WOMF   2004-12-13\n",
              "YULE   2004-12-10\n",
              "Name: ListingDate, Length: 106, dtype: datetime64[ns]"
            ]
          },
          "metadata": {},
          "execution_count": 277
        }
      ]
    },
    {
      "cell_type": "code",
      "source": [
        "# karena data yang ditampilkan banyak maka kita akan mengambil 10 data saja\n",
        "\n",
        "Saham_Baru = sektorfinance.groupby('Code')['ListingDate'].max().sort_values(ascending=False).head(10)"
      ],
      "metadata": {
        "id": "8-JZaDg_jpYQ"
      },
      "execution_count": 278,
      "outputs": []
    },
    {
      "cell_type": "code",
      "source": [
        "# lalu kita baut dalam bentuk table dataset\n",
        "\n",
        "Saham_baru1 = Saham_Baru.to_frame()\n",
        "Saham_baru1"
      ],
      "metadata": {
        "colab": {
          "base_uri": "https://localhost:8080/",
          "height": 0
        },
        "id": "eQvPz5tSj3Mx",
        "outputId": "8808d946-5f9f-4bce-a92e-100d091da22d"
      },
      "execution_count": 279,
      "outputs": [
        {
          "output_type": "execute_result",
          "data": {
            "text/plain": [
              "     ListingDate\n",
              "Code            \n",
              "VTNY  2022-12-15\n",
              "MASB  2021-06-30\n",
              "BANK  2021-02-01\n",
              "BBSI  2020-09-07\n",
              "BHAT  2020-04-15\n",
              "AMOR  2020-01-14\n",
              "AMAR  2020-01-09\n",
              "LIFE  2019-07-09\n",
              "FUJI  2019-07-09\n",
              "SFAN  2019-06-19"
            ],
            "text/html": [
              "\n",
              "  <div id=\"df-36a5d218-8ebd-4267-a8f3-6c80a5c816c9\">\n",
              "    <div class=\"colab-df-container\">\n",
              "      <div>\n",
              "<style scoped>\n",
              "    .dataframe tbody tr th:only-of-type {\n",
              "        vertical-align: middle;\n",
              "    }\n",
              "\n",
              "    .dataframe tbody tr th {\n",
              "        vertical-align: top;\n",
              "    }\n",
              "\n",
              "    .dataframe thead th {\n",
              "        text-align: right;\n",
              "    }\n",
              "</style>\n",
              "<table border=\"1\" class=\"dataframe\">\n",
              "  <thead>\n",
              "    <tr style=\"text-align: right;\">\n",
              "      <th></th>\n",
              "      <th>ListingDate</th>\n",
              "    </tr>\n",
              "    <tr>\n",
              "      <th>Code</th>\n",
              "      <th></th>\n",
              "    </tr>\n",
              "  </thead>\n",
              "  <tbody>\n",
              "    <tr>\n",
              "      <th>VTNY</th>\n",
              "      <td>2022-12-15</td>\n",
              "    </tr>\n",
              "    <tr>\n",
              "      <th>MASB</th>\n",
              "      <td>2021-06-30</td>\n",
              "    </tr>\n",
              "    <tr>\n",
              "      <th>BANK</th>\n",
              "      <td>2021-02-01</td>\n",
              "    </tr>\n",
              "    <tr>\n",
              "      <th>BBSI</th>\n",
              "      <td>2020-09-07</td>\n",
              "    </tr>\n",
              "    <tr>\n",
              "      <th>BHAT</th>\n",
              "      <td>2020-04-15</td>\n",
              "    </tr>\n",
              "    <tr>\n",
              "      <th>AMOR</th>\n",
              "      <td>2020-01-14</td>\n",
              "    </tr>\n",
              "    <tr>\n",
              "      <th>AMAR</th>\n",
              "      <td>2020-01-09</td>\n",
              "    </tr>\n",
              "    <tr>\n",
              "      <th>LIFE</th>\n",
              "      <td>2019-07-09</td>\n",
              "    </tr>\n",
              "    <tr>\n",
              "      <th>FUJI</th>\n",
              "      <td>2019-07-09</td>\n",
              "    </tr>\n",
              "    <tr>\n",
              "      <th>SFAN</th>\n",
              "      <td>2019-06-19</td>\n",
              "    </tr>\n",
              "  </tbody>\n",
              "</table>\n",
              "</div>\n",
              "      <button class=\"colab-df-convert\" onclick=\"convertToInteractive('df-36a5d218-8ebd-4267-a8f3-6c80a5c816c9')\"\n",
              "              title=\"Convert this dataframe to an interactive table.\"\n",
              "              style=\"display:none;\">\n",
              "        \n",
              "  <svg xmlns=\"http://www.w3.org/2000/svg\" height=\"24px\"viewBox=\"0 0 24 24\"\n",
              "       width=\"24px\">\n",
              "    <path d=\"M0 0h24v24H0V0z\" fill=\"none\"/>\n",
              "    <path d=\"M18.56 5.44l.94 2.06.94-2.06 2.06-.94-2.06-.94-.94-2.06-.94 2.06-2.06.94zm-11 1L8.5 8.5l.94-2.06 2.06-.94-2.06-.94L8.5 2.5l-.94 2.06-2.06.94zm10 10l.94 2.06.94-2.06 2.06-.94-2.06-.94-.94-2.06-.94 2.06-2.06.94z\"/><path d=\"M17.41 7.96l-1.37-1.37c-.4-.4-.92-.59-1.43-.59-.52 0-1.04.2-1.43.59L10.3 9.45l-7.72 7.72c-.78.78-.78 2.05 0 2.83L4 21.41c.39.39.9.59 1.41.59.51 0 1.02-.2 1.41-.59l7.78-7.78 2.81-2.81c.8-.78.8-2.07 0-2.86zM5.41 20L4 18.59l7.72-7.72 1.47 1.35L5.41 20z\"/>\n",
              "  </svg>\n",
              "      </button>\n",
              "      \n",
              "  <style>\n",
              "    .colab-df-container {\n",
              "      display:flex;\n",
              "      flex-wrap:wrap;\n",
              "      gap: 12px;\n",
              "    }\n",
              "\n",
              "    .colab-df-convert {\n",
              "      background-color: #E8F0FE;\n",
              "      border: none;\n",
              "      border-radius: 50%;\n",
              "      cursor: pointer;\n",
              "      display: none;\n",
              "      fill: #1967D2;\n",
              "      height: 32px;\n",
              "      padding: 0 0 0 0;\n",
              "      width: 32px;\n",
              "    }\n",
              "\n",
              "    .colab-df-convert:hover {\n",
              "      background-color: #E2EBFA;\n",
              "      box-shadow: 0px 1px 2px rgba(60, 64, 67, 0.3), 0px 1px 3px 1px rgba(60, 64, 67, 0.15);\n",
              "      fill: #174EA6;\n",
              "    }\n",
              "\n",
              "    [theme=dark] .colab-df-convert {\n",
              "      background-color: #3B4455;\n",
              "      fill: #D2E3FC;\n",
              "    }\n",
              "\n",
              "    [theme=dark] .colab-df-convert:hover {\n",
              "      background-color: #434B5C;\n",
              "      box-shadow: 0px 1px 3px 1px rgba(0, 0, 0, 0.15);\n",
              "      filter: drop-shadow(0px 1px 2px rgba(0, 0, 0, 0.3));\n",
              "      fill: #FFFFFF;\n",
              "    }\n",
              "  </style>\n",
              "\n",
              "      <script>\n",
              "        const buttonEl =\n",
              "          document.querySelector('#df-36a5d218-8ebd-4267-a8f3-6c80a5c816c9 button.colab-df-convert');\n",
              "        buttonEl.style.display =\n",
              "          google.colab.kernel.accessAllowed ? 'block' : 'none';\n",
              "\n",
              "        async function convertToInteractive(key) {\n",
              "          const element = document.querySelector('#df-36a5d218-8ebd-4267-a8f3-6c80a5c816c9');\n",
              "          const dataTable =\n",
              "            await google.colab.kernel.invokeFunction('convertToInteractive',\n",
              "                                                     [key], {});\n",
              "          if (!dataTable) return;\n",
              "\n",
              "          const docLinkHtml = 'Like what you see? Visit the ' +\n",
              "            '<a target=\"_blank\" href=https://colab.research.google.com/notebooks/data_table.ipynb>data table notebook</a>'\n",
              "            + ' to learn more about interactive tables.';\n",
              "          element.innerHTML = '';\n",
              "          dataTable['output_type'] = 'display_data';\n",
              "          await google.colab.output.renderOutput(dataTable, element);\n",
              "          const docLink = document.createElement('div');\n",
              "          docLink.innerHTML = docLinkHtml;\n",
              "          element.appendChild(docLink);\n",
              "        }\n",
              "      </script>\n",
              "    </div>\n",
              "  </div>\n",
              "  "
            ]
          },
          "metadata": {},
          "execution_count": 279
        }
      ]
    },
    {
      "cell_type": "code",
      "source": [
        "# pada kolom listingdate terdapat jam yang kemungkinan datanya belum berubah ke tipe data datetime\n",
        "# kita cek tipe datanya\n",
        "Saham_baru1.info()"
      ],
      "metadata": {
        "colab": {
          "base_uri": "https://localhost:8080/"
        },
        "id": "ltFT1da2mpUC",
        "outputId": "43abf022-4c64-4070-8e7b-7b07e14b7a41"
      },
      "execution_count": 280,
      "outputs": [
        {
          "output_type": "stream",
          "name": "stdout",
          "text": [
            "<class 'pandas.core.frame.DataFrame'>\n",
            "Index: 10 entries, VTNY to SFAN\n",
            "Data columns (total 1 columns):\n",
            " #   Column       Non-Null Count  Dtype         \n",
            "---  ------       --------------  -----         \n",
            " 0   ListingDate  10 non-null     datetime64[ns]\n",
            "dtypes: datetime64[ns](1)\n",
            "memory usage: 160.0+ bytes\n"
          ]
        }
      ]
    },
    {
      "cell_type": "code",
      "source": [
        "# kita rubah tipe data dari object ke datetime\n",
        "Saham_baru1['ListingDate'] = pd.to_datetime(Saham_baru1['ListingDate'])"
      ],
      "metadata": {
        "id": "fsibAdpBm7Bj"
      },
      "execution_count": 281,
      "outputs": []
    },
    {
      "cell_type": "code",
      "source": [
        "# karena terdapat waktu pada kolom date frame maka kita akan menghilangkannya dan merubahnya hanya menjadi tahun\n",
        "\n",
        "Saham_baru1['ListingDate'] = Saham_baru1['ListingDate'].dt.year"
      ],
      "metadata": {
        "id": "R-Coi9yVl17G"
      },
      "execution_count": 282,
      "outputs": []
    },
    {
      "cell_type": "code",
      "source": [
        "Saham_baru1"
      ],
      "metadata": {
        "colab": {
          "base_uri": "https://localhost:8080/",
          "height": 0
        },
        "id": "nFpodYhpnHht",
        "outputId": "1e428572-4df1-47fb-e541-cb5ce0c9f9d4"
      },
      "execution_count": 283,
      "outputs": [
        {
          "output_type": "execute_result",
          "data": {
            "text/plain": [
              "      ListingDate\n",
              "Code             \n",
              "VTNY         2022\n",
              "MASB         2021\n",
              "BANK         2021\n",
              "BBSI         2020\n",
              "BHAT         2020\n",
              "AMOR         2020\n",
              "AMAR         2020\n",
              "LIFE         2019\n",
              "FUJI         2019\n",
              "SFAN         2019"
            ],
            "text/html": [
              "\n",
              "  <div id=\"df-490991ff-b051-4142-8ec7-02ae63c49c66\">\n",
              "    <div class=\"colab-df-container\">\n",
              "      <div>\n",
              "<style scoped>\n",
              "    .dataframe tbody tr th:only-of-type {\n",
              "        vertical-align: middle;\n",
              "    }\n",
              "\n",
              "    .dataframe tbody tr th {\n",
              "        vertical-align: top;\n",
              "    }\n",
              "\n",
              "    .dataframe thead th {\n",
              "        text-align: right;\n",
              "    }\n",
              "</style>\n",
              "<table border=\"1\" class=\"dataframe\">\n",
              "  <thead>\n",
              "    <tr style=\"text-align: right;\">\n",
              "      <th></th>\n",
              "      <th>ListingDate</th>\n",
              "    </tr>\n",
              "    <tr>\n",
              "      <th>Code</th>\n",
              "      <th></th>\n",
              "    </tr>\n",
              "  </thead>\n",
              "  <tbody>\n",
              "    <tr>\n",
              "      <th>VTNY</th>\n",
              "      <td>2022</td>\n",
              "    </tr>\n",
              "    <tr>\n",
              "      <th>MASB</th>\n",
              "      <td>2021</td>\n",
              "    </tr>\n",
              "    <tr>\n",
              "      <th>BANK</th>\n",
              "      <td>2021</td>\n",
              "    </tr>\n",
              "    <tr>\n",
              "      <th>BBSI</th>\n",
              "      <td>2020</td>\n",
              "    </tr>\n",
              "    <tr>\n",
              "      <th>BHAT</th>\n",
              "      <td>2020</td>\n",
              "    </tr>\n",
              "    <tr>\n",
              "      <th>AMOR</th>\n",
              "      <td>2020</td>\n",
              "    </tr>\n",
              "    <tr>\n",
              "      <th>AMAR</th>\n",
              "      <td>2020</td>\n",
              "    </tr>\n",
              "    <tr>\n",
              "      <th>LIFE</th>\n",
              "      <td>2019</td>\n",
              "    </tr>\n",
              "    <tr>\n",
              "      <th>FUJI</th>\n",
              "      <td>2019</td>\n",
              "    </tr>\n",
              "    <tr>\n",
              "      <th>SFAN</th>\n",
              "      <td>2019</td>\n",
              "    </tr>\n",
              "  </tbody>\n",
              "</table>\n",
              "</div>\n",
              "      <button class=\"colab-df-convert\" onclick=\"convertToInteractive('df-490991ff-b051-4142-8ec7-02ae63c49c66')\"\n",
              "              title=\"Convert this dataframe to an interactive table.\"\n",
              "              style=\"display:none;\">\n",
              "        \n",
              "  <svg xmlns=\"http://www.w3.org/2000/svg\" height=\"24px\"viewBox=\"0 0 24 24\"\n",
              "       width=\"24px\">\n",
              "    <path d=\"M0 0h24v24H0V0z\" fill=\"none\"/>\n",
              "    <path d=\"M18.56 5.44l.94 2.06.94-2.06 2.06-.94-2.06-.94-.94-2.06-.94 2.06-2.06.94zm-11 1L8.5 8.5l.94-2.06 2.06-.94-2.06-.94L8.5 2.5l-.94 2.06-2.06.94zm10 10l.94 2.06.94-2.06 2.06-.94-2.06-.94-.94-2.06-.94 2.06-2.06.94z\"/><path d=\"M17.41 7.96l-1.37-1.37c-.4-.4-.92-.59-1.43-.59-.52 0-1.04.2-1.43.59L10.3 9.45l-7.72 7.72c-.78.78-.78 2.05 0 2.83L4 21.41c.39.39.9.59 1.41.59.51 0 1.02-.2 1.41-.59l7.78-7.78 2.81-2.81c.8-.78.8-2.07 0-2.86zM5.41 20L4 18.59l7.72-7.72 1.47 1.35L5.41 20z\"/>\n",
              "  </svg>\n",
              "      </button>\n",
              "      \n",
              "  <style>\n",
              "    .colab-df-container {\n",
              "      display:flex;\n",
              "      flex-wrap:wrap;\n",
              "      gap: 12px;\n",
              "    }\n",
              "\n",
              "    .colab-df-convert {\n",
              "      background-color: #E8F0FE;\n",
              "      border: none;\n",
              "      border-radius: 50%;\n",
              "      cursor: pointer;\n",
              "      display: none;\n",
              "      fill: #1967D2;\n",
              "      height: 32px;\n",
              "      padding: 0 0 0 0;\n",
              "      width: 32px;\n",
              "    }\n",
              "\n",
              "    .colab-df-convert:hover {\n",
              "      background-color: #E2EBFA;\n",
              "      box-shadow: 0px 1px 2px rgba(60, 64, 67, 0.3), 0px 1px 3px 1px rgba(60, 64, 67, 0.15);\n",
              "      fill: #174EA6;\n",
              "    }\n",
              "\n",
              "    [theme=dark] .colab-df-convert {\n",
              "      background-color: #3B4455;\n",
              "      fill: #D2E3FC;\n",
              "    }\n",
              "\n",
              "    [theme=dark] .colab-df-convert:hover {\n",
              "      background-color: #434B5C;\n",
              "      box-shadow: 0px 1px 3px 1px rgba(0, 0, 0, 0.15);\n",
              "      filter: drop-shadow(0px 1px 2px rgba(0, 0, 0, 0.3));\n",
              "      fill: #FFFFFF;\n",
              "    }\n",
              "  </style>\n",
              "\n",
              "      <script>\n",
              "        const buttonEl =\n",
              "          document.querySelector('#df-490991ff-b051-4142-8ec7-02ae63c49c66 button.colab-df-convert');\n",
              "        buttonEl.style.display =\n",
              "          google.colab.kernel.accessAllowed ? 'block' : 'none';\n",
              "\n",
              "        async function convertToInteractive(key) {\n",
              "          const element = document.querySelector('#df-490991ff-b051-4142-8ec7-02ae63c49c66');\n",
              "          const dataTable =\n",
              "            await google.colab.kernel.invokeFunction('convertToInteractive',\n",
              "                                                     [key], {});\n",
              "          if (!dataTable) return;\n",
              "\n",
              "          const docLinkHtml = 'Like what you see? Visit the ' +\n",
              "            '<a target=\"_blank\" href=https://colab.research.google.com/notebooks/data_table.ipynb>data table notebook</a>'\n",
              "            + ' to learn more about interactive tables.';\n",
              "          element.innerHTML = '';\n",
              "          dataTable['output_type'] = 'display_data';\n",
              "          await google.colab.output.renderOutput(dataTable, element);\n",
              "          const docLink = document.createElement('div');\n",
              "          docLink.innerHTML = docLinkHtml;\n",
              "          element.appendChild(docLink);\n",
              "        }\n",
              "      </script>\n",
              "    </div>\n",
              "  </div>\n",
              "  "
            ]
          },
          "metadata": {},
          "execution_count": 283
        }
      ]
    },
    {
      "cell_type": "markdown",
      "source": [
        "Dapat disimpulkan saham perbankan seperti MASB, BANK, BBSI, BHAT, dan AMAR merupakan saham yang paling baru listing di Bursa Efek Indonesia sejak tahun 2022\n",
        "\n",
        "* Bank Multiarta Sentosa (MASB)\n",
        "* PT Bank Aladin Syariah Tbk (BANK)\n",
        "* PT Krom Bank Indonesia Tbk (BBSI)\n",
        "* PT Bhakti Multi Artha Tbk (BHAT)\n",
        "* Bank Amar Indonesia (AMAR)"
      ],
      "metadata": {
        "id": "cjtZc_CpuwTf"
      }
    },
    {
      "cell_type": "markdown",
      "source": [
        "Dikarenakan pada tabel dataset saham_lama dan saham_baru tidak terdapat jenis saham dengan 4 kapitalisasi pasar terbesar. maka kita akan cari tau umur dari 4 saham dengan kapitalisasi terbesar."
      ],
      "metadata": {
        "id": "q_ozTVpLTqJ2"
      }
    },
    {
      "cell_type": "code",
      "source": [
        "# Tanggal Listing saham BBCA\n",
        "\n",
        "sektorfinance.loc[sektorfinance[\"Code\"] == \"BBCA\", \"ListingDate\"].value_counts()"
      ],
      "metadata": {
        "colab": {
          "base_uri": "https://localhost:8080/"
        },
        "id": "R19nWO5WSlQD",
        "outputId": "f3ebedf6-7028-47a4-a97b-cdab81dc09cd"
      },
      "execution_count": 284,
      "outputs": [
        {
          "output_type": "execute_result",
          "data": {
            "text/plain": [
              "2000-05-31    1\n",
              "Name: ListingDate, dtype: int64"
            ]
          },
          "metadata": {},
          "execution_count": 284
        }
      ]
    },
    {
      "cell_type": "code",
      "source": [
        "# Tanggal Listing saham BBRI\n",
        "\n",
        "sektorfinance.loc[sektorfinance[\"Code\"] == \"BBRI\", \"ListingDate\"].value_counts()"
      ],
      "metadata": {
        "colab": {
          "base_uri": "https://localhost:8080/"
        },
        "id": "-aPG7w4zTYmL",
        "outputId": "98f64075-66f3-4b4c-e678-307b739aa629"
      },
      "execution_count": 285,
      "outputs": [
        {
          "output_type": "execute_result",
          "data": {
            "text/plain": [
              "2003-11-10    1\n",
              "Name: ListingDate, dtype: int64"
            ]
          },
          "metadata": {},
          "execution_count": 285
        }
      ]
    },
    {
      "cell_type": "code",
      "source": [
        "# Tanggal Listing saham BMRI\n",
        "\n",
        "sektorfinance.loc[sektorfinance[\"Code\"] == \"BMRI\", \"ListingDate\"].value_counts()"
      ],
      "metadata": {
        "colab": {
          "base_uri": "https://localhost:8080/"
        },
        "id": "7qcLiQ_bXq65",
        "outputId": "061a5993-5ba6-41e7-9393-518a654b1858"
      },
      "execution_count": 286,
      "outputs": [
        {
          "output_type": "execute_result",
          "data": {
            "text/plain": [
              "2003-07-14    1\n",
              "Name: ListingDate, dtype: int64"
            ]
          },
          "metadata": {},
          "execution_count": 286
        }
      ]
    },
    {
      "cell_type": "code",
      "source": [
        "# Tanggal Listing saham BBNI\n",
        "\n",
        "sektorfinance.loc[sektorfinance[\"Code\"] == \"BBNI\", \"ListingDate\"].value_counts()"
      ],
      "metadata": {
        "colab": {
          "base_uri": "https://localhost:8080/"
        },
        "id": "crU2-dzFX1q_",
        "outputId": "4b8556d0-4b2e-4cba-f575-3aa96db90e09"
      },
      "execution_count": 287,
      "outputs": [
        {
          "output_type": "execute_result",
          "data": {
            "text/plain": [
              "1996-11-25    1\n",
              "Name: ListingDate, dtype: int64"
            ]
          },
          "metadata": {},
          "execution_count": 287
        }
      ]
    },
    {
      "cell_type": "markdown",
      "source": [
        "## Pergerakan harga saham kapitalisasi pasar terbesar"
      ],
      "metadata": {
        "id": "1o5UNyb-y65o"
      }
    },
    {
      "cell_type": "markdown",
      "source": [
        "Saham dengan kapitalisasi pasar terbesar adalah saham Bank BCA (BBCA)"
      ],
      "metadata": {
        "id": "2m15W6jHzhhR"
      }
    },
    {
      "cell_type": "code",
      "source": [
        "# Load data pergerakan harga saham BBCA harian\n",
        "\n",
        "BBCA_daily = pd.read_csv('/content/drive/MyDrive/ihsgstockdata/daily/BBCA.csv')\n",
        "BBCA_daily"
      ],
      "metadata": {
        "colab": {
          "base_uri": "https://localhost:8080/",
          "height": 0
        },
        "id": "80KxjAtCzrJN",
        "outputId": "6c101810-896b-4920-8113-9d0643ac03c3"
      },
      "execution_count": 288,
      "outputs": [
        {
          "output_type": "execute_result",
          "data": {
            "text/plain": [
              "       timestamp  open   low  high  close     volume\n",
              "0     2001-04-16   175   175   180    177          0\n",
              "1     2001-04-17   175   175   180    177          0\n",
              "2     2001-04-18   175   175   180    177          0\n",
              "3     2001-04-19   175   175   180    177          0\n",
              "4     2001-04-20   175   175   180    177          0\n",
              "...          ...   ...   ...   ...    ...        ...\n",
              "5665  2023-01-02  8575  8500  8600   8550   10653900\n",
              "5666  2023-01-03  8550  8525  8600   8550   27399100\n",
              "5667  2023-01-04  8525  8350  8575   8350   90918800\n",
              "5668  2023-01-05  8350  8150  8375   8250  128838500\n",
              "5669  2023-01-06  8100  8100  8325   8300   69286600\n",
              "\n",
              "[5670 rows x 6 columns]"
            ],
            "text/html": [
              "\n",
              "  <div id=\"df-ae7ce2d8-b555-4b42-9894-888395a347df\">\n",
              "    <div class=\"colab-df-container\">\n",
              "      <div>\n",
              "<style scoped>\n",
              "    .dataframe tbody tr th:only-of-type {\n",
              "        vertical-align: middle;\n",
              "    }\n",
              "\n",
              "    .dataframe tbody tr th {\n",
              "        vertical-align: top;\n",
              "    }\n",
              "\n",
              "    .dataframe thead th {\n",
              "        text-align: right;\n",
              "    }\n",
              "</style>\n",
              "<table border=\"1\" class=\"dataframe\">\n",
              "  <thead>\n",
              "    <tr style=\"text-align: right;\">\n",
              "      <th></th>\n",
              "      <th>timestamp</th>\n",
              "      <th>open</th>\n",
              "      <th>low</th>\n",
              "      <th>high</th>\n",
              "      <th>close</th>\n",
              "      <th>volume</th>\n",
              "    </tr>\n",
              "  </thead>\n",
              "  <tbody>\n",
              "    <tr>\n",
              "      <th>0</th>\n",
              "      <td>2001-04-16</td>\n",
              "      <td>175</td>\n",
              "      <td>175</td>\n",
              "      <td>180</td>\n",
              "      <td>177</td>\n",
              "      <td>0</td>\n",
              "    </tr>\n",
              "    <tr>\n",
              "      <th>1</th>\n",
              "      <td>2001-04-17</td>\n",
              "      <td>175</td>\n",
              "      <td>175</td>\n",
              "      <td>180</td>\n",
              "      <td>177</td>\n",
              "      <td>0</td>\n",
              "    </tr>\n",
              "    <tr>\n",
              "      <th>2</th>\n",
              "      <td>2001-04-18</td>\n",
              "      <td>175</td>\n",
              "      <td>175</td>\n",
              "      <td>180</td>\n",
              "      <td>177</td>\n",
              "      <td>0</td>\n",
              "    </tr>\n",
              "    <tr>\n",
              "      <th>3</th>\n",
              "      <td>2001-04-19</td>\n",
              "      <td>175</td>\n",
              "      <td>175</td>\n",
              "      <td>180</td>\n",
              "      <td>177</td>\n",
              "      <td>0</td>\n",
              "    </tr>\n",
              "    <tr>\n",
              "      <th>4</th>\n",
              "      <td>2001-04-20</td>\n",
              "      <td>175</td>\n",
              "      <td>175</td>\n",
              "      <td>180</td>\n",
              "      <td>177</td>\n",
              "      <td>0</td>\n",
              "    </tr>\n",
              "    <tr>\n",
              "      <th>...</th>\n",
              "      <td>...</td>\n",
              "      <td>...</td>\n",
              "      <td>...</td>\n",
              "      <td>...</td>\n",
              "      <td>...</td>\n",
              "      <td>...</td>\n",
              "    </tr>\n",
              "    <tr>\n",
              "      <th>5665</th>\n",
              "      <td>2023-01-02</td>\n",
              "      <td>8575</td>\n",
              "      <td>8500</td>\n",
              "      <td>8600</td>\n",
              "      <td>8550</td>\n",
              "      <td>10653900</td>\n",
              "    </tr>\n",
              "    <tr>\n",
              "      <th>5666</th>\n",
              "      <td>2023-01-03</td>\n",
              "      <td>8550</td>\n",
              "      <td>8525</td>\n",
              "      <td>8600</td>\n",
              "      <td>8550</td>\n",
              "      <td>27399100</td>\n",
              "    </tr>\n",
              "    <tr>\n",
              "      <th>5667</th>\n",
              "      <td>2023-01-04</td>\n",
              "      <td>8525</td>\n",
              "      <td>8350</td>\n",
              "      <td>8575</td>\n",
              "      <td>8350</td>\n",
              "      <td>90918800</td>\n",
              "    </tr>\n",
              "    <tr>\n",
              "      <th>5668</th>\n",
              "      <td>2023-01-05</td>\n",
              "      <td>8350</td>\n",
              "      <td>8150</td>\n",
              "      <td>8375</td>\n",
              "      <td>8250</td>\n",
              "      <td>128838500</td>\n",
              "    </tr>\n",
              "    <tr>\n",
              "      <th>5669</th>\n",
              "      <td>2023-01-06</td>\n",
              "      <td>8100</td>\n",
              "      <td>8100</td>\n",
              "      <td>8325</td>\n",
              "      <td>8300</td>\n",
              "      <td>69286600</td>\n",
              "    </tr>\n",
              "  </tbody>\n",
              "</table>\n",
              "<p>5670 rows × 6 columns</p>\n",
              "</div>\n",
              "      <button class=\"colab-df-convert\" onclick=\"convertToInteractive('df-ae7ce2d8-b555-4b42-9894-888395a347df')\"\n",
              "              title=\"Convert this dataframe to an interactive table.\"\n",
              "              style=\"display:none;\">\n",
              "        \n",
              "  <svg xmlns=\"http://www.w3.org/2000/svg\" height=\"24px\"viewBox=\"0 0 24 24\"\n",
              "       width=\"24px\">\n",
              "    <path d=\"M0 0h24v24H0V0z\" fill=\"none\"/>\n",
              "    <path d=\"M18.56 5.44l.94 2.06.94-2.06 2.06-.94-2.06-.94-.94-2.06-.94 2.06-2.06.94zm-11 1L8.5 8.5l.94-2.06 2.06-.94-2.06-.94L8.5 2.5l-.94 2.06-2.06.94zm10 10l.94 2.06.94-2.06 2.06-.94-2.06-.94-.94-2.06-.94 2.06-2.06.94z\"/><path d=\"M17.41 7.96l-1.37-1.37c-.4-.4-.92-.59-1.43-.59-.52 0-1.04.2-1.43.59L10.3 9.45l-7.72 7.72c-.78.78-.78 2.05 0 2.83L4 21.41c.39.39.9.59 1.41.59.51 0 1.02-.2 1.41-.59l7.78-7.78 2.81-2.81c.8-.78.8-2.07 0-2.86zM5.41 20L4 18.59l7.72-7.72 1.47 1.35L5.41 20z\"/>\n",
              "  </svg>\n",
              "      </button>\n",
              "      \n",
              "  <style>\n",
              "    .colab-df-container {\n",
              "      display:flex;\n",
              "      flex-wrap:wrap;\n",
              "      gap: 12px;\n",
              "    }\n",
              "\n",
              "    .colab-df-convert {\n",
              "      background-color: #E8F0FE;\n",
              "      border: none;\n",
              "      border-radius: 50%;\n",
              "      cursor: pointer;\n",
              "      display: none;\n",
              "      fill: #1967D2;\n",
              "      height: 32px;\n",
              "      padding: 0 0 0 0;\n",
              "      width: 32px;\n",
              "    }\n",
              "\n",
              "    .colab-df-convert:hover {\n",
              "      background-color: #E2EBFA;\n",
              "      box-shadow: 0px 1px 2px rgba(60, 64, 67, 0.3), 0px 1px 3px 1px rgba(60, 64, 67, 0.15);\n",
              "      fill: #174EA6;\n",
              "    }\n",
              "\n",
              "    [theme=dark] .colab-df-convert {\n",
              "      background-color: #3B4455;\n",
              "      fill: #D2E3FC;\n",
              "    }\n",
              "\n",
              "    [theme=dark] .colab-df-convert:hover {\n",
              "      background-color: #434B5C;\n",
              "      box-shadow: 0px 1px 3px 1px rgba(0, 0, 0, 0.15);\n",
              "      filter: drop-shadow(0px 1px 2px rgba(0, 0, 0, 0.3));\n",
              "      fill: #FFFFFF;\n",
              "    }\n",
              "  </style>\n",
              "\n",
              "      <script>\n",
              "        const buttonEl =\n",
              "          document.querySelector('#df-ae7ce2d8-b555-4b42-9894-888395a347df button.colab-df-convert');\n",
              "        buttonEl.style.display =\n",
              "          google.colab.kernel.accessAllowed ? 'block' : 'none';\n",
              "\n",
              "        async function convertToInteractive(key) {\n",
              "          const element = document.querySelector('#df-ae7ce2d8-b555-4b42-9894-888395a347df');\n",
              "          const dataTable =\n",
              "            await google.colab.kernel.invokeFunction('convertToInteractive',\n",
              "                                                     [key], {});\n",
              "          if (!dataTable) return;\n",
              "\n",
              "          const docLinkHtml = 'Like what you see? Visit the ' +\n",
              "            '<a target=\"_blank\" href=https://colab.research.google.com/notebooks/data_table.ipynb>data table notebook</a>'\n",
              "            + ' to learn more about interactive tables.';\n",
              "          element.innerHTML = '';\n",
              "          dataTable['output_type'] = 'display_data';\n",
              "          await google.colab.output.renderOutput(dataTable, element);\n",
              "          const docLink = document.createElement('div');\n",
              "          docLink.innerHTML = docLinkHtml;\n",
              "          element.appendChild(docLink);\n",
              "        }\n",
              "      </script>\n",
              "    </div>\n",
              "  </div>\n",
              "  "
            ]
          },
          "metadata": {},
          "execution_count": 288
        }
      ]
    },
    {
      "cell_type": "markdown",
      "source": [
        "Penjelasan dari dataset:\n",
        "\n",
        "1. Timestamp = waktu periode perdagangan saham\n",
        "2. Open  = harga pembukaan\n",
        "3. low   = harga terendah\n",
        "4. high  = harga tertinggi\n",
        "5. close = harga penutupan"
      ],
      "metadata": {
        "id": "1SHDCevBidpd"
      }
    },
    {
      "cell_type": "code",
      "source": [
        "# cek tipe datanya\n",
        "\n",
        "BBCA_daily.info()"
      ],
      "metadata": {
        "colab": {
          "base_uri": "https://localhost:8080/"
        },
        "id": "GbDt0gdd0HIs",
        "outputId": "d8aa00d5-5575-4a86-9fcb-8713502bfab3"
      },
      "execution_count": 289,
      "outputs": [
        {
          "output_type": "stream",
          "name": "stdout",
          "text": [
            "<class 'pandas.core.frame.DataFrame'>\n",
            "RangeIndex: 5670 entries, 0 to 5669\n",
            "Data columns (total 6 columns):\n",
            " #   Column     Non-Null Count  Dtype \n",
            "---  ------     --------------  ----- \n",
            " 0   timestamp  5670 non-null   object\n",
            " 1   open       5670 non-null   int64 \n",
            " 2   low        5670 non-null   int64 \n",
            " 3   high       5670 non-null   int64 \n",
            " 4   close      5670 non-null   int64 \n",
            " 5   volume     5670 non-null   int64 \n",
            "dtypes: int64(5), object(1)\n",
            "memory usage: 265.9+ KB\n"
          ]
        }
      ]
    },
    {
      "cell_type": "code",
      "source": [
        "# kita rubah tipe data timestamp jadi tipe data datetime\n",
        "\n",
        "BBCA_daily['timestamp'] = pd.to_datetime(BBCA_daily['timestamp'])\n",
        "BBCA_daily.info()"
      ],
      "metadata": {
        "colab": {
          "base_uri": "https://localhost:8080/"
        },
        "id": "y0YUuzS32y2W",
        "outputId": "55d9f4bf-fffb-489e-b40a-423b11331370"
      },
      "execution_count": 290,
      "outputs": [
        {
          "output_type": "stream",
          "name": "stdout",
          "text": [
            "<class 'pandas.core.frame.DataFrame'>\n",
            "RangeIndex: 5670 entries, 0 to 5669\n",
            "Data columns (total 6 columns):\n",
            " #   Column     Non-Null Count  Dtype         \n",
            "---  ------     --------------  -----         \n",
            " 0   timestamp  5670 non-null   datetime64[ns]\n",
            " 1   open       5670 non-null   int64         \n",
            " 2   low        5670 non-null   int64         \n",
            " 3   high       5670 non-null   int64         \n",
            " 4   close      5670 non-null   int64         \n",
            " 5   volume     5670 non-null   int64         \n",
            "dtypes: datetime64[ns](1), int64(5)\n",
            "memory usage: 265.9 KB\n"
          ]
        }
      ]
    },
    {
      "cell_type": "code",
      "source": [
        "# kita cek missing valuenya menggunakan isnull\n",
        "\n",
        "BBCA_daily.isnull().sum()"
      ],
      "metadata": {
        "colab": {
          "base_uri": "https://localhost:8080/"
        },
        "id": "l59iJZAM3QJZ",
        "outputId": "e10d0566-d1b4-4aeb-86fa-97eb18aa88df"
      },
      "execution_count": 291,
      "outputs": [
        {
          "output_type": "execute_result",
          "data": {
            "text/plain": [
              "timestamp    0\n",
              "open         0\n",
              "low          0\n",
              "high         0\n",
              "close        0\n",
              "volume       0\n",
              "dtype: int64"
            ]
          },
          "metadata": {},
          "execution_count": 291
        }
      ]
    },
    {
      "cell_type": "markdown",
      "source": [
        "dan ternyata tidak terdapat missing value pada data tersebut"
      ],
      "metadata": {
        "id": "F9wIZgTMh-n7"
      }
    },
    {
      "cell_type": "code",
      "source": [
        "# kita akan mengecek distribusi datanya simetris atau tidak\n",
        "\n",
        "BBCA_daily.skew()"
      ],
      "metadata": {
        "colab": {
          "base_uri": "https://localhost:8080/"
        },
        "id": "TwSHFzgNiKSJ",
        "outputId": "ed9ee33c-e2b8-4801-b895-ad38a8bdd9af"
      },
      "execution_count": 292,
      "outputs": [
        {
          "output_type": "stream",
          "name": "stderr",
          "text": [
            "<ipython-input-292-264bcbff63bd>:3: FutureWarning: The default value of numeric_only in DataFrame.skew is deprecated. In a future version, it will default to False. In addition, specifying 'numeric_only=None' is deprecated. Select only valid columns or specify the value of numeric_only to silence this warning.\n",
            "  BBCA_daily.skew()\n"
          ]
        },
        {
          "output_type": "execute_result",
          "data": {
            "text/plain": [
              "open      0.999620\n",
              "low       1.001040\n",
              "high      1.000966\n",
              "close     1.001465\n",
              "volume    5.422159\n",
              "dtype: float64"
            ]
          },
          "metadata": {},
          "execution_count": 292
        }
      ]
    },
    {
      "cell_type": "markdown",
      "source": [
        "Ternyata nilainya lebih dari 0 hal ini menggambarkan distribusi data yang tidak simetris atau cenderung positif memiliki ekor panjang kekanan dan memiliki outliar\n",
        "\n",
        "\n",
        "---\n",
        "\n",
        "\n",
        "Maka dari itu kita akan cek distribusi datanya berdasarkan central tendencynya (mean, median, mode) dan standar deviasinya dengan menggunakan data 'close' atau penutupan harga saham.\n",
        "\n",
        "\n",
        "---\n",
        "\n",
        "\n",
        "Pemilihan close atau penutupan harga saham dirasa relevan karane harga pada close adalah harga final dari waktu suatu saham diperdagangkan."
      ],
      "metadata": {
        "id": "ffdIqTx_j5R9"
      }
    },
    {
      "cell_type": "code",
      "source": [
        "# karena terdapat waktu pada kolom date frame maka kita akan menghilangkannya dan merubahnya hanya menjadi tahun\n",
        "\n",
        "BBCA_daily['timestamp'] = BBCA_daily['timestamp'].dt.year"
      ],
      "metadata": {
        "id": "HZL68EeJENOu"
      },
      "execution_count": 293,
      "outputs": []
    },
    {
      "cell_type": "code",
      "source": [
        "BBCA_daily.to_csv('data_edit2.csv', index=False)"
      ],
      "metadata": {
        "id": "f-8tfdDcZLlR"
      },
      "execution_count": 294,
      "outputs": []
    },
    {
      "cell_type": "code",
      "source": [
        "BCA=BBCA_daily['close']"
      ],
      "metadata": {
        "id": "Qg9UuAjvkwAN"
      },
      "execution_count": 295,
      "outputs": []
    },
    {
      "cell_type": "code",
      "source": [
        "# Central tendency grafik\n",
        "\n",
        "BCA.plot.hist(title='close', color='blue', bins=25);\n",
        "plt.axvline(BCA.mean(), color='red', linestyle='dashed', linewidth=2);\n",
        "plt.axvline(BCA.median(), color='orange', linestyle='dashed', linewidth=2);\n",
        "plt.axvline(BCA.mode()[0], color='green', linestyle='dashed', linewidth=2);"
      ],
      "metadata": {
        "colab": {
          "base_uri": "https://localhost:8080/",
          "height": 0
        },
        "id": "mK65NAvSl1hu",
        "outputId": "4aa4c6ac-b9d3-4cf6-a03e-4d357266934d"
      },
      "execution_count": 296,
      "outputs": [
        {
          "output_type": "display_data",
          "data": {
            "text/plain": [
              "<Figure size 640x480 with 1 Axes>"
            ],
            "image/png": "[encoded data removed]"
          },
          "metadata": {}
        }
      ]
    },
    {
      "cell_type": "markdown",
      "source": [
        "dapat dilihat dari data tersebut Distribusi tidak normal atau cenderung kemiringannya positif (miring ke kanan)"
      ],
      "metadata": {
        "id": "fO6mhbOdmP-d"
      }
    },
    {
      "cell_type": "markdown",
      "source": [
        "lalu bagaimana dengan volume perdagangan sahamnya?"
      ],
      "metadata": {
        "id": "aYiMXEFenAN6"
      }
    },
    {
      "cell_type": "code",
      "source": [
        "volbca = BBCA_daily['volume']"
      ],
      "metadata": {
        "id": "t6fbU5VsnGHL"
      },
      "execution_count": 297,
      "outputs": []
    },
    {
      "cell_type": "code",
      "source": [
        "# Central tendency grafik\n",
        "\n",
        "volbca.plot.hist(title='volume', color='blue', bins=25);\n",
        "plt.axvline(volbca.mean(), color='red', linestyle='dashed', linewidth=2);\n",
        "plt.axvline(volbca.median(), color='orange', linestyle='dashed', linewidth=2);\n",
        "plt.axvline(volbca.mode()[0], color='green', linestyle='dashed', linewidth=2);"
      ],
      "metadata": {
        "colab": {
          "base_uri": "https://localhost:8080/",
          "height": 0
        },
        "id": "12FQu5aenN9k",
        "outputId": "93989d85-0902-4ceb-b2f3-9591d313d494"
      },
      "execution_count": 298,
      "outputs": [
        {
          "output_type": "display_data",
          "data": {
            "text/plain": [
              "<Figure size 640x480 with 1 Axes>"
            ],
            "image/png": "[encoded data removed]"
          },
          "metadata": {}
        }
      ]
    },
    {
      "cell_type": "markdown",
      "source": [
        "distribusi datanya juga tidak normal \n",
        "\n",
        "mari kita cek Outliar dari kedua data tersebut"
      ],
      "metadata": {
        "id": "8m2lPC_FneM7"
      }
    },
    {
      "cell_type": "markdown",
      "source": [
        "### Outliar"
      ],
      "metadata": {
        "id": "-ZyQsZHKnvCT"
      }
    },
    {
      "cell_type": "code",
      "source": [
        "# data 'close'\n",
        "\n",
        "BBCA_daily['close'].plot(kind='box', title='close');"
      ],
      "metadata": {
        "colab": {
          "base_uri": "https://localhost:8080/",
          "height": 0
        },
        "id": "fppgd-IGnzgg",
        "outputId": "51b2f108-eca5-4f6f-8293-53f117fcd86e"
      },
      "execution_count": 299,
      "outputs": [
        {
          "output_type": "display_data",
          "data": {
            "text/plain": [
              "<Figure size 640x480 with 1 Axes>"
            ],
            "image/png": "[encoded data removed]"
          },
          "metadata": {}
        }
      ]
    },
    {
      "cell_type": "markdown",
      "source": [
        "Pada data 'close' titik-titik pada grafik yang ditampilkan cenderung berdempetan dan sedikit. dapat kita simpulkan outliarnya tidak signifikan pada data tersebut.\n",
        "\n",
        "\n",
        "---\n",
        "\n",
        "\n",
        "Hal ini dapat terjadi karena harga perdagangan saham dipengaruhi oleh faktor-faktor yang stabil dan umumnya tidak terlalu fluktuatif. seperti kinerja keuangan perusahaan, tingkat persaingan dalam industri, kondisi ekonomi makro, dan kebijakan pemerintah. Faktor-faktor ini tidak terjadi secara tiba-tiba atau acak, dan umumnya memberikan dampak yang stabil pada harga saham.\n",
        "\n",
        "\n",
        "---\n",
        "\n",
        "\n",
        "Selain itu, harga saham juga cenderung tidak fluktuatif karena ada banyak investor yang memperhatikan harga saham untuk membuat keputusan investasi mereka. Dalam pasar yang efisien, harga saham akan cenderung mencerminkan semua informasi yang tersedia tentang perusahaan, dan nilai saham akan mencerminkan nilai intrinsik perusahaan.\n",
        "\n",
        "---\n",
        "marik kita lihat grafik pergerakan harganya apakah sesuai dengan kesimpulan outliar yang ditampilkan?\n"
      ],
      "metadata": {
        "id": "8BPSV59ApHGD"
      }
    },
    {
      "cell_type": "code",
      "source": [
        "# grafik pergerakan harga saham BBCA dari awal terbit hingga tahun 2022 melalui dataset 'close'\n",
        "\n",
        "plt.plot(BBCA_daily['timestamp'], BBCA_daily['close'])\n",
        "plt.xlabel('timestamp')\n",
        "plt.ylabel('close')\n",
        "plt.show()"
      ],
      "metadata": {
        "colab": {
          "base_uri": "https://localhost:8080/",
          "height": 0
        },
        "id": "KmY6bSlWUD1W",
        "outputId": "b9003e6f-86d1-44e0-e9c1-2c46b9aa7ff8"
      },
      "execution_count": 300,
      "outputs": [
        {
          "output_type": "display_data",
          "data": {
            "text/plain": [
              "<Figure size 640x480 with 1 Axes>"
            ],
            "image/png": "[encoded data removed]"
          },
          "metadata": {}
        }
      ]
    },
    {
      "cell_type": "markdown",
      "source": [
        "Berdasarkan grafik tersebut harga saham BBCA terus meningkat dari tahun ke tahun"
      ],
      "metadata": {
        "id": "2rJBXjYdUQ8c"
      }
    },
    {
      "cell_type": "code",
      "source": [
        "# data 'volume'\n",
        "\n",
        "BBCA_daily['volume'].plot(kind='box', title='close');"
      ],
      "metadata": {
        "colab": {
          "base_uri": "https://localhost:8080/",
          "height": 0
        },
        "id": "n2YBUwzAo4YF",
        "outputId": "6389605c-f0fd-4c33-ace0-b47506768459"
      },
      "execution_count": 301,
      "outputs": [
        {
          "output_type": "display_data",
          "data": {
            "text/plain": [
              "<Figure size 640x480 with 1 Axes>"
            ],
            "image/png": "[encoded data removed]"
          },
          "metadata": {}
        }
      ]
    },
    {
      "cell_type": "markdown",
      "source": [
        "Sementara pada data 'volume' dapat terlihat banyak titik-titiknya dan dapat dipastikan memiliki outliar pada data tersebut.\n",
        "\n",
        "---\n",
        "Hal ini dapat disebabkan oleh beberapa faktor:\n",
        "1. Peristiwa yang tidak terduga: Volume perdagangan saham dapat meningkat secara drastis saat terjadi peristiwa yang tidak terduga seperti pengumuman kebijakan baru, kejadian politik, atau bencana alam. Hal ini dapat menyebabkan adanya nilai-nilai outlier pada data volume perdagangan.\n",
        "2. Aktivitas spekulatif: Aktivitas spekulatif atau transaksi yang dilakukan oleh investor dengan tujuan mendapatkan keuntungan cepat dalam jangka pendek juga dapat menyebabkan adanya nilai-nilai outlier pada data volume perdagangan.\n",
        "3. Ketersediaan informasi: Informasi yang tersedia pada suatu saham, termasuk informasi yang belum tersedia untuk publik, dapat mempengaruhi volume perdagangan saham. Jika informasi yang tersedia sangat penting, dapat menyebabkan adanya perubahan volume perdagangan yang signifikan dan nilai-nilai outlier pada data volume perdagangan.\n",
        "4. Karakteristik saham: Karakteristik saham seperti volatilitas harga, kapitalisasi pasar, sektor industri, dan likuiditas dapat mempengaruhi volume perdagangan saham dan menyebabkan adanya nilai-nilai outlier pada data volume perdagangan.\n",
        "\n",
        "---\n",
        "Mari kita lihat grafik pergerakan volume perdagangan sahamnya apakah sesuai dengan kesimpulan outliar yang ditampilkan?\n",
        "\n"
      ],
      "metadata": {
        "id": "7RIFPVv9sRPf"
      }
    },
    {
      "cell_type": "code",
      "source": [
        "# grafik pergerakan volume perdagangan saham BBCA dari awal terbit hingga tahun 2022 melalui dataset 'close'\n",
        "\n",
        "plt.plot(BBCA_daily['timestamp'], BBCA_daily['volume'])\n",
        "plt.xlabel('timestamp')\n",
        "plt.ylabel('volume')\n",
        "plt.show()"
      ],
      "metadata": {
        "colab": {
          "base_uri": "https://localhost:8080/",
          "height": 0
        },
        "id": "DAHTzfY6Ugs9",
        "outputId": "e608d441-bd0b-4351-9899-3a57a6b232e3"
      },
      "execution_count": 302,
      "outputs": [
        {
          "output_type": "display_data",
          "data": {
            "text/plain": [
              "<Figure size 640x480 with 1 Axes>"
            ],
            "image/png": "[encoded data removed]"
          },
          "metadata": {}
        }
      ]
    },
    {
      "cell_type": "markdown",
      "source": [
        "Berdasarkan data tersebut volume perdagangan cenderung fluktuaktif pergerakannya dari tahun ke tahun"
      ],
      "metadata": {
        "id": "oLrYhdROUyk8"
      }
    },
    {
      "cell_type": "markdown",
      "source": [
        "Kesimpulan\n",
        "1. pada data haraga saham 'close' karena distribusi ouliarnya normal maka kita akan cek std dan zscorenya\n",
        "2. pada data volume perdagan distribusi outliarnya tidak normal maka kita akan cek IQR (turkey rule)"
      ],
      "metadata": {
        "id": "7FnM8bCrtTdT"
      }
    },
    {
      "cell_type": "markdown",
      "source": [
        "### STD"
      ],
      "metadata": {
        "id": "piG4-tPdt26J"
      }
    },
    {
      "cell_type": "code",
      "source": [
        "upper_limit=BBCA_daily['close'].mean() + 3*BBCA_daily['close'].std()\n",
        "lower_limit=BBCA_daily['close'].mean() - 3*BBCA_daily['close'].std()\n",
        "\n",
        "print(upper_limit)\n",
        "print(lower_limit)"
      ],
      "metadata": {
        "colab": {
          "base_uri": "https://localhost:8080/"
        },
        "id": "1G9HuoUouC0p",
        "outputId": "ff181a89-4375-4729-832d-3cfd7aeff563"
      },
      "execution_count": 303,
      "outputs": [
        {
          "output_type": "stream",
          "name": "stdout",
          "text": [
            "9554.997625471568\n",
            "-4717.7912762652195\n"
          ]
        }
      ]
    },
    {
      "cell_type": "code",
      "source": [
        "BBCA_daily.shape[0]"
      ],
      "metadata": {
        "colab": {
          "base_uri": "https://localhost:8080/"
        },
        "id": "n-Ddjd3wuZTb",
        "outputId": "d4aa68fe-d394-4dd8-e67d-bc2ce20cffba"
      },
      "execution_count": 304,
      "outputs": [
        {
          "output_type": "execute_result",
          "data": {
            "text/plain": [
              "5670"
            ]
          },
          "metadata": {},
          "execution_count": 304
        }
      ]
    },
    {
      "cell_type": "code",
      "source": [
        "BBCA_daily[BBCA_daily['close'] > upper_limit].shape"
      ],
      "metadata": {
        "colab": {
          "base_uri": "https://localhost:8080/"
        },
        "id": "NGwa9nI8uiR3",
        "outputId": "2fbc0d7a-5ca5-4600-f122-99df0cd63d80"
      },
      "execution_count": 305,
      "outputs": [
        {
          "output_type": "execute_result",
          "data": {
            "text/plain": [
              "(0, 6)"
            ]
          },
          "metadata": {},
          "execution_count": 305
        }
      ]
    },
    {
      "cell_type": "markdown",
      "source": [
        "nilai outliarnya adalah 0 baris"
      ],
      "metadata": {
        "id": "zOTxSoe0urmz"
      }
    },
    {
      "cell_type": "code",
      "source": [
        "# outliar\n",
        "\n",
        "data_outlier_BCA= BBCA_daily[(BBCA_daily['close'] > upper_limit) | (BBCA_daily['close'] < lower_limit)]\n",
        "data_outlier_BCA.shape[0]"
      ],
      "metadata": {
        "colab": {
          "base_uri": "https://localhost:8080/"
        },
        "id": "0zjH6gwNuwtL",
        "outputId": "7f474c1e-05c3-4f13-8d0d-0f268f47daab"
      },
      "execution_count": 306,
      "outputs": [
        {
          "output_type": "execute_result",
          "data": {
            "text/plain": [
              "0"
            ]
          },
          "metadata": {},
          "execution_count": 306
        }
      ]
    },
    {
      "cell_type": "code",
      "source": [
        "# bukan outliar\n",
        "\n",
        "no_outlier_BCA= BBCA_daily[~((BBCA_daily['close'] > upper_limit) | (BBCA_daily['close'] < lower_limit))]\n",
        "no_outlier_BCA.shape[0]"
      ],
      "metadata": {
        "colab": {
          "base_uri": "https://localhost:8080/"
        },
        "id": "gc0A1bMwvDjl",
        "outputId": "2b3c8639-865d-4ce5-f67c-ba7869cacb0d"
      },
      "execution_count": 307,
      "outputs": [
        {
          "output_type": "execute_result",
          "data": {
            "text/plain": [
              "5670"
            ]
          },
          "metadata": {},
          "execution_count": 307
        }
      ]
    },
    {
      "cell_type": "code",
      "source": [
        "BBCA_daily.shape[0]"
      ],
      "metadata": {
        "colab": {
          "base_uri": "https://localhost:8080/"
        },
        "id": "KUWGtGL7vakJ",
        "outputId": "fd996cd4-5048-4302-8cda-3509273909f0"
      },
      "execution_count": 308,
      "outputs": [
        {
          "output_type": "execute_result",
          "data": {
            "text/plain": [
              "5670"
            ]
          },
          "metadata": {},
          "execution_count": 308
        }
      ]
    },
    {
      "cell_type": "markdown",
      "source": [
        "### Z-Score"
      ],
      "metadata": {
        "id": "w0zkNpp-vv3m"
      }
    },
    {
      "cell_type": "code",
      "source": [
        "BCAnew = BBCA_daily.copy()"
      ],
      "metadata": {
        "id": "apMPZ4Z8vzCb"
      },
      "execution_count": 309,
      "outputs": []
    },
    {
      "cell_type": "code",
      "source": [
        "BCAnew['zscore']= (BBCA_daily.close - BBCA_daily['close'].mean())/ BBCA_daily['close'].std()\n",
        "BCAnew[['close','zscore']]"
      ],
      "metadata": {
        "colab": {
          "base_uri": "https://localhost:8080/",
          "height": 0
        },
        "id": "wzDGa_uxwB7P",
        "outputId": "3b976f49-7027-4967-b4f7-cd876837560e"
      },
      "execution_count": 310,
      "outputs": [
        {
          "output_type": "execute_result",
          "data": {
            "text/plain": [
              "      close    zscore\n",
              "0       177 -0.942326\n",
              "1       177 -0.942326\n",
              "2       177 -0.942326\n",
              "3       177 -0.942326\n",
              "4       177 -0.942326\n",
              "...     ...       ...\n",
              "5665   8550  2.577519\n",
              "5666   8550  2.577519\n",
              "5667   8350  2.493443\n",
              "5668   8250  2.451405\n",
              "5669   8300  2.472424\n",
              "\n",
              "[5670 rows x 2 columns]"
            ],
            "text/html": [
              "\n",
              "  <div id=\"df-e4ec6df0-87dd-48a5-93ac-f018090decaa\">\n",
              "    <div class=\"colab-df-container\">\n",
              "      <div>\n",
              "<style scoped>\n",
              "    .dataframe tbody tr th:only-of-type {\n",
              "        vertical-align: middle;\n",
              "    }\n",
              "\n",
              "    .dataframe tbody tr th {\n",
              "        vertical-align: top;\n",
              "    }\n",
              "\n",
              "    .dataframe thead th {\n",
              "        text-align: right;\n",
              "    }\n",
              "</style>\n",
              "<table border=\"1\" class=\"dataframe\">\n",
              "  <thead>\n",
              "    <tr style=\"text-align: right;\">\n",
              "      <th></th>\n",
              "      <th>close</th>\n",
              "      <th>zscore</th>\n",
              "    </tr>\n",
              "  </thead>\n",
              "  <tbody>\n",
              "    <tr>\n",
              "      <th>0</th>\n",
              "      <td>177</td>\n",
              "      <td>-0.942326</td>\n",
              "    </tr>\n",
              "    <tr>\n",
              "      <th>1</th>\n",
              "      <td>177</td>\n",
              "      <td>-0.942326</td>\n",
              "    </tr>\n",
              "    <tr>\n",
              "      <th>2</th>\n",
              "      <td>177</td>\n",
              "      <td>-0.942326</td>\n",
              "    </tr>\n",
              "    <tr>\n",
              "      <th>3</th>\n",
              "      <td>177</td>\n",
              "      <td>-0.942326</td>\n",
              "    </tr>\n",
              "    <tr>\n",
              "      <th>4</th>\n",
              "      <td>177</td>\n",
              "      <td>-0.942326</td>\n",
              "    </tr>\n",
              "    <tr>\n",
              "      <th>...</th>\n",
              "      <td>...</td>\n",
              "      <td>...</td>\n",
              "    </tr>\n",
              "    <tr>\n",
              "      <th>5665</th>\n",
              "      <td>8550</td>\n",
              "      <td>2.577519</td>\n",
              "    </tr>\n",
              "    <tr>\n",
              "      <th>5666</th>\n",
              "      <td>8550</td>\n",
              "      <td>2.577519</td>\n",
              "    </tr>\n",
              "    <tr>\n",
              "      <th>5667</th>\n",
              "      <td>8350</td>\n",
              "      <td>2.493443</td>\n",
              "    </tr>\n",
              "    <tr>\n",
              "      <th>5668</th>\n",
              "      <td>8250</td>\n",
              "      <td>2.451405</td>\n",
              "    </tr>\n",
              "    <tr>\n",
              "      <th>5669</th>\n",
              "      <td>8300</td>\n",
              "      <td>2.472424</td>\n",
              "    </tr>\n",
              "  </tbody>\n",
              "</table>\n",
              "<p>5670 rows × 2 columns</p>\n",
              "</div>\n",
              "      <button class=\"colab-df-convert\" onclick=\"convertToInteractive('df-e4ec6df0-87dd-48a5-93ac-f018090decaa')\"\n",
              "              title=\"Convert this dataframe to an interactive table.\"\n",
              "              style=\"display:none;\">\n",
              "        \n",
              "  <svg xmlns=\"http://www.w3.org/2000/svg\" height=\"24px\"viewBox=\"0 0 24 24\"\n",
              "       width=\"24px\">\n",
              "    <path d=\"M0 0h24v24H0V0z\" fill=\"none\"/>\n",
              "    <path d=\"M18.56 5.44l.94 2.06.94-2.06 2.06-.94-2.06-.94-.94-2.06-.94 2.06-2.06.94zm-11 1L8.5 8.5l.94-2.06 2.06-.94-2.06-.94L8.5 2.5l-.94 2.06-2.06.94zm10 10l.94 2.06.94-2.06 2.06-.94-2.06-.94-.94-2.06-.94 2.06-2.06.94z\"/><path d=\"M17.41 7.96l-1.37-1.37c-.4-.4-.92-.59-1.43-.59-.52 0-1.04.2-1.43.59L10.3 9.45l-7.72 7.72c-.78.78-.78 2.05 0 2.83L4 21.41c.39.39.9.59 1.41.59.51 0 1.02-.2 1.41-.59l7.78-7.78 2.81-2.81c.8-.78.8-2.07 0-2.86zM5.41 20L4 18.59l7.72-7.72 1.47 1.35L5.41 20z\"/>\n",
              "  </svg>\n",
              "      </button>\n",
              "      \n",
              "  <style>\n",
              "    .colab-df-container {\n",
              "      display:flex;\n",
              "      flex-wrap:wrap;\n",
              "      gap: 12px;\n",
              "    }\n",
              "\n",
              "    .colab-df-convert {\n",
              "      background-color: #E8F0FE;\n",
              "      border: none;\n",
              "      border-radius: 50%;\n",
              "      cursor: pointer;\n",
              "      display: none;\n",
              "      fill: #1967D2;\n",
              "      height: 32px;\n",
              "      padding: 0 0 0 0;\n",
              "      width: 32px;\n",
              "    }\n",
              "\n",
              "    .colab-df-convert:hover {\n",
              "      background-color: #E2EBFA;\n",
              "      box-shadow: 0px 1px 2px rgba(60, 64, 67, 0.3), 0px 1px 3px 1px rgba(60, 64, 67, 0.15);\n",
              "      fill: #174EA6;\n",
              "    }\n",
              "\n",
              "    [theme=dark] .colab-df-convert {\n",
              "      background-color: #3B4455;\n",
              "      fill: #D2E3FC;\n",
              "    }\n",
              "\n",
              "    [theme=dark] .colab-df-convert:hover {\n",
              "      background-color: #434B5C;\n",
              "      box-shadow: 0px 1px 3px 1px rgba(0, 0, 0, 0.15);\n",
              "      filter: drop-shadow(0px 1px 2px rgba(0, 0, 0, 0.3));\n",
              "      fill: #FFFFFF;\n",
              "    }\n",
              "  </style>\n",
              "\n",
              "      <script>\n",
              "        const buttonEl =\n",
              "          document.querySelector('#df-e4ec6df0-87dd-48a5-93ac-f018090decaa button.colab-df-convert');\n",
              "        buttonEl.style.display =\n",
              "          google.colab.kernel.accessAllowed ? 'block' : 'none';\n",
              "\n",
              "        async function convertToInteractive(key) {\n",
              "          const element = document.querySelector('#df-e4ec6df0-87dd-48a5-93ac-f018090decaa');\n",
              "          const dataTable =\n",
              "            await google.colab.kernel.invokeFunction('convertToInteractive',\n",
              "                                                     [key], {});\n",
              "          if (!dataTable) return;\n",
              "\n",
              "          const docLinkHtml = 'Like what you see? Visit the ' +\n",
              "            '<a target=\"_blank\" href=https://colab.research.google.com/notebooks/data_table.ipynb>data table notebook</a>'\n",
              "            + ' to learn more about interactive tables.';\n",
              "          element.innerHTML = '';\n",
              "          dataTable['output_type'] = 'display_data';\n",
              "          await google.colab.output.renderOutput(dataTable, element);\n",
              "          const docLink = document.createElement('div');\n",
              "          docLink.innerHTML = docLinkHtml;\n",
              "          element.appendChild(docLink);\n",
              "        }\n",
              "      </script>\n",
              "    </div>\n",
              "  </div>\n",
              "  "
            ]
          },
          "metadata": {},
          "execution_count": 310
        }
      ]
    },
    {
      "cell_type": "code",
      "source": [
        "BCAnew[(BCAnew['zscore'] < -3) | (BCAnew['zscore'] > 3)].shape[0] # outlier"
      ],
      "metadata": {
        "colab": {
          "base_uri": "https://localhost:8080/"
        },
        "id": "ohvaV05bwTqi",
        "outputId": "1f807a81-3f19-496e-9c2e-3545eb37274e"
      },
      "execution_count": 311,
      "outputs": [
        {
          "output_type": "execute_result",
          "data": {
            "text/plain": [
              "0"
            ]
          },
          "metadata": {},
          "execution_count": 311
        }
      ]
    },
    {
      "cell_type": "code",
      "source": [
        "BCAnew[(BCAnew['zscore'] >= -3) & (BCAnew['zscore'] <= 3)].shape[0] # bukan outlier"
      ],
      "metadata": {
        "colab": {
          "base_uri": "https://localhost:8080/"
        },
        "id": "zgQWE0s5we7K",
        "outputId": "97775aae-c754-4bbd-a4e9-145ee740d5e1"
      },
      "execution_count": 312,
      "outputs": [
        {
          "output_type": "execute_result",
          "data": {
            "text/plain": [
              "5670"
            ]
          },
          "metadata": {},
          "execution_count": 312
        }
      ]
    },
    {
      "cell_type": "markdown",
      "source": [
        "### IQR (Turkey Rule)"
      ],
      "metadata": {
        "id": "SOClmU5cw31I"
      }
    },
    {
      "cell_type": "code",
      "source": [
        "# kitacari quartile bawah dan atasnya\n",
        "\n",
        "q1= BBCA_daily['volume'].quantile(0.25)\n",
        "q3= BBCA_daily['volume'].quantile(0.75)\n",
        "q1,q3"
      ],
      "metadata": {
        "colab": {
          "base_uri": "https://localhost:8080/"
        },
        "id": "z0ZmB_Ptw7uD",
        "outputId": "3fa8cd05-f456-4b9e-bf73-853fca1b45d2"
      },
      "execution_count": 313,
      "outputs": [
        {
          "output_type": "execute_result",
          "data": {
            "text/plain": [
              "(27190000.0, 104548125.0)"
            ]
          },
          "metadata": {},
          "execution_count": 313
        }
      ]
    },
    {
      "cell_type": "code",
      "source": [
        "# hitung IQR nya\n",
        "\n",
        "IQR= q3-q1\n",
        "IQR"
      ],
      "metadata": {
        "colab": {
          "base_uri": "https://localhost:8080/"
        },
        "id": "dCimF1Z4xFsf",
        "outputId": "f887aaf7-ff24-4639-febe-1ad452021969"
      },
      "execution_count": 314,
      "outputs": [
        {
          "output_type": "execute_result",
          "data": {
            "text/plain": [
              "77358125.0"
            ]
          },
          "metadata": {},
          "execution_count": 314
        }
      ]
    },
    {
      "cell_type": "code",
      "source": [
        "# hitung batas bawah dan batas atasnya dikalikan 1.5\n",
        "\n",
        "upper_limit= q3 + 1.5*IQR\n",
        "lower_limit=q1 - 1.5*IQR\n",
        "\n",
        "print(upper_limit)\n",
        "print(lower_limit)"
      ],
      "metadata": {
        "colab": {
          "base_uri": "https://localhost:8080/"
        },
        "id": "ApUdLaKkxK1f",
        "outputId": "c025335d-0bbc-4d23-88cb-bdfbec477936"
      },
      "execution_count": 315,
      "outputs": [
        {
          "output_type": "stream",
          "name": "stdout",
          "text": [
            "220585312.5\n",
            "-88847187.5\n"
          ]
        }
      ]
    },
    {
      "cell_type": "code",
      "source": [
        "# nilai outliar\n",
        "\n",
        "data_outlier_BCA1= BBCA_daily[(BBCA_daily['volume'] > upper_limit) | (BBCA_daily['volume'] < lower_limit)]\n",
        "data_outlier_BCA1.shape[0]"
      ],
      "metadata": {
        "colab": {
          "base_uri": "https://localhost:8080/"
        },
        "id": "L4PH8F_cxMI_",
        "outputId": "c4843e19-32bf-4a25-d5c0-84f0c7deff72"
      },
      "execution_count": 316,
      "outputs": [
        {
          "output_type": "execute_result",
          "data": {
            "text/plain": [
              "429"
            ]
          },
          "metadata": {},
          "execution_count": 316
        }
      ]
    },
    {
      "cell_type": "code",
      "source": [
        "# hitung batas bawah dan batas atasnya dikalikan 3\n",
        "upper_limit= q3 + 3*IQR\n",
        "lower_limit=q1 - 3*IQR\n",
        "\n",
        "print(upper_limit)\n",
        "print(lower_limit)"
      ],
      "metadata": {
        "colab": {
          "base_uri": "https://localhost:8080/"
        },
        "id": "JzA80CiBxbhY",
        "outputId": "3b3e11d8-d6e0-480b-b326-355ce51869bf"
      },
      "execution_count": 317,
      "outputs": [
        {
          "output_type": "stream",
          "name": "stdout",
          "text": [
            "336622500.0\n",
            "-204884375.0\n"
          ]
        }
      ]
    },
    {
      "cell_type": "code",
      "source": [
        "# nilai outliar\n",
        "\n",
        "data_outlier_BCAvol= BBCA_daily[(BBCA_daily['volume'] > upper_limit) | (BBCA_daily['volume'] < lower_limit)]\n",
        "data_outlier_BCAvol.shape[0]"
      ],
      "metadata": {
        "colab": {
          "base_uri": "https://localhost:8080/"
        },
        "id": "QU1uT-xqxfjY",
        "outputId": "b7a16163-3a8a-4171-e85f-7294db1d80cb"
      },
      "execution_count": 318,
      "outputs": [
        {
          "output_type": "execute_result",
          "data": {
            "text/plain": [
              "208"
            ]
          },
          "metadata": {},
          "execution_count": 318
        }
      ]
    },
    {
      "cell_type": "markdown",
      "source": [
        "Dapat disimpulkan bahwa pergerakan harga saham BBCA merupakan harga real yang merepresentasikan kinerja dan nilai intristik dari perusahaan, sehingga saham ini tepat untuk dipilih sebagai salah satu portofolio investasi. selain karena mencerminkan kinerja, pergerakan harga saham BBCA cenderung tidak fluktuatif, dikarenakan pergerakan harga yang fluktuatif dapat menyebabkan kerugian yang besar disamping ada kemungkinan keuntungan besar juga."
      ],
      "metadata": {
        "id": "0MSBenEGckJB"
      }
    },
    {
      "cell_type": "markdown",
      "source": [
        "## Preferensi Jumlah saham beredar dengan kapitalisasi pasar"
      ],
      "metadata": {
        "id": "1CHk2Jz_40A3"
      }
    },
    {
      "cell_type": "markdown",
      "source": [
        "### Korelasi Jumlah saham beredar dengan kapitalisai pasar"
      ],
      "metadata": {
        "id": "itUyeZFQ0MAl"
      }
    },
    {
      "cell_type": "markdown",
      "source": [
        "sebelum mengecek preferensinya,mari kita cek korelasi antara Jumlah saham beredar dengan kapitalisasi pasarnya"
      ],
      "metadata": {
        "id": "e81xXwa35WJz"
      }
    },
    {
      "cell_type": "code",
      "source": [
        "sns.lmplot(x='Shares', y='MarketCap', hue='Sector', data=Data_saham);"
      ],
      "metadata": {
        "colab": {
          "base_uri": "https://localhost:8080/",
          "height": 0
        },
        "id": "4B23MS-Y0Wjx",
        "outputId": "d4269032-87c6-43b6-bdfb-7aa4fca1dcef"
      },
      "execution_count": 319,
      "outputs": [
        {
          "output_type": "display_data",
          "data": {
            "text/plain": [
              "<Figure size 723x500 with 1 Axes>"
            ],
            "image/png": "[encoded data removed]"
          },
          "metadata": {}
        }
      ]
    },
    {
      "cell_type": "markdown",
      "source": [
        "Sektor Healthcare merupakan jenis sektor dengan jumlah saham beredar terbanyak di Bursa Efek Indonesia akan tetapi nilai kapitalisasi pasarnya rendah\n",
        "\n",
        "\n",
        "---\n",
        "\n",
        "Berbeda dengan sektor Financials yang memiliki jumlah saham beredar cenderung sedikit akan tetapi nilai kapitalisasi pasarnya adalah yang terbesar di Bursa Efek Indonesia.\n",
        "\n",
        "---\n",
        "Berdasarkan data korelasi tersebut kita dapat mengambil kesimpulan sementara bahwa jumlah saham beredar semakin banyak belum tentu akan mencerminkan nilai kapitalisasi pasarnya. untuk analisa lebih lanjut mari kita cek apakah Jumlah saham beredar memiliki preperensi dengan kapitalisasi pasarnya?"
      ],
      "metadata": {
        "id": "BhXiLrvp2XUF"
      }
    },
    {
      "cell_type": "markdown",
      "source": [
        "### Cek preferensi menggunakan single hipotesis testing"
      ],
      "metadata": {
        "id": "b9DOOj8m2zzG"
      }
    },
    {
      "cell_type": "code",
      "source": [
        "# Membuat kolom baru berisi tahun pada data\n",
        "Data_saham['DailyLastUpdated'] = pd.DatetimeIndex(Data_saham['DailyLastUpdated']).year"
      ],
      "metadata": {
        "id": "bpMFCjN24_Vn"
      },
      "execution_count": 320,
      "outputs": []
    },
    {
      "cell_type": "code",
      "source": [
        "# Filter data hanya untuk tahun 2022\n",
        "\n",
        "saham_2022 = Data_saham[Data_saham['DailyLastUpdated'] == 2022]"
      ],
      "metadata": {
        "id": "wf9tf8wh7cIU"
      },
      "execution_count": 321,
      "outputs": []
    },
    {
      "cell_type": "code",
      "source": [
        "# Menghitung rata-rata kapitalisasi pasar saham untuk tahun 2021\n",
        "avg_marketcap_2022 = saham_2022['MarketCap'].mean()"
      ],
      "metadata": {
        "id": "dJWXtVV47eMs"
      },
      "execution_count": 322,
      "outputs": []
    },
    {
      "cell_type": "code",
      "source": [
        "# Menampilkan hasil\n",
        "print(\"Rata-rata kapitalisasi pasar saham tahun 2022 adalah: \", avg_marketcap_2022)"
      ],
      "metadata": {
        "colab": {
          "base_uri": "https://localhost:8080/"
        },
        "id": "MzONdhcy7gJN",
        "outputId": "7419a70c-d86d-4474-dd58-2533e0c93a4e"
      },
      "execution_count": 323,
      "outputs": [
        {
          "output_type": "stream",
          "name": "stdout",
          "text": [
            "Rata-rata kapitalisasi pasar saham tahun 2022 adalah:  1516958350000.0\n"
          ]
        }
      ]
    },
    {
      "cell_type": "markdown",
      "source": [
        "Untuk memeriksa apakah Kapitalisasi Pasar saham di Bursa Efek Indonesia meningkat secara signifikan atau tidak, kami akan melakukan sampel tunggal satu sisi dan menetapkan tingkat signifikansi 0,05. Kami menggunakan metode ini karena kami hanya menguji variabel dan membandingkan kapitalisasi pasar (data tahun terakhir) dan jumlah saham beredar.\n",
        "\n",
        "Hipotesis kami tentang kasus ini:\n",
        "\n",
        "H0: μ <= 1,5 Triliun Rupiah\n",
        "\n",
        "H1: μ > 1,5 Triliun Rupiah"
      ],
      "metadata": {
        "id": "p6AH9Qhn856q"
      }
    },
    {
      "cell_type": "code",
      "source": [
        "kapitalisasi_pasar = Data_saham[['Shares','MarketCap']].groupby('Shares').sum()"
      ],
      "metadata": {
        "id": "P2Tke0Al9oAt"
      },
      "execution_count": 324,
      "outputs": []
    },
    {
      "cell_type": "code",
      "source": [
        "kapitalisasi_pasar"
      ],
      "metadata": {
        "colab": {
          "base_uri": "https://localhost:8080/",
          "height": 0
        },
        "id": "7WLilcoI9TWn",
        "outputId": "0eefad67-dab2-4c91-efb2-7721710c6f21"
      },
      "execution_count": 325,
      "outputs": [
        {
          "output_type": "execute_result",
          "data": {
            "text/plain": [
              "                 MarketCap\n",
              "Shares                    \n",
              "3.600000e+06  1.044000e+11\n",
              "7.000000e+07  1.484000e+10\n",
              "7.542220e+07  2.383342e+10\n",
              "9.600000e+07  5.952000e+10\n",
              "1.015380e+08  1.472301e+12\n",
              "...                    ...\n",
              "1.220423e+11  1.012951e+15\n",
              "1.417840e+11  2.155117e+13\n",
              "1.500434e+11  6.932006e+14\n",
              "3.081068e+11  2.033505e+13\n",
              "1.184364e+12  1.125146e+14\n",
              "\n",
              "[779 rows x 1 columns]"
            ],
            "text/html": [
              "\n",
              "  <div id=\"df-79d0b073-efc9-4727-906f-d6687523f1d9\">\n",
              "    <div class=\"colab-df-container\">\n",
              "      <div>\n",
              "<style scoped>\n",
              "    .dataframe tbody tr th:only-of-type {\n",
              "        vertical-align: middle;\n",
              "    }\n",
              "\n",
              "    .dataframe tbody tr th {\n",
              "        vertical-align: top;\n",
              "    }\n",
              "\n",
              "    .dataframe thead th {\n",
              "        text-align: right;\n",
              "    }\n",
              "</style>\n",
              "<table border=\"1\" class=\"dataframe\">\n",
              "  <thead>\n",
              "    <tr style=\"text-align: right;\">\n",
              "      <th></th>\n",
              "      <th>MarketCap</th>\n",
              "    </tr>\n",
              "    <tr>\n",
              "      <th>Shares</th>\n",
              "      <th></th>\n",
              "    </tr>\n",
              "  </thead>\n",
              "  <tbody>\n",
              "    <tr>\n",
              "      <th>3.600000e+06</th>\n",
              "      <td>1.044000e+11</td>\n",
              "    </tr>\n",
              "    <tr>\n",
              "      <th>7.000000e+07</th>\n",
              "      <td>1.484000e+10</td>\n",
              "    </tr>\n",
              "    <tr>\n",
              "      <th>7.542220e+07</th>\n",
              "      <td>2.383342e+10</td>\n",
              "    </tr>\n",
              "    <tr>\n",
              "      <th>9.600000e+07</th>\n",
              "      <td>5.952000e+10</td>\n",
              "    </tr>\n",
              "    <tr>\n",
              "      <th>1.015380e+08</th>\n",
              "      <td>1.472301e+12</td>\n",
              "    </tr>\n",
              "    <tr>\n",
              "      <th>...</th>\n",
              "      <td>...</td>\n",
              "    </tr>\n",
              "    <tr>\n",
              "      <th>1.220423e+11</th>\n",
              "      <td>1.012951e+15</td>\n",
              "    </tr>\n",
              "    <tr>\n",
              "      <th>1.417840e+11</th>\n",
              "      <td>2.155117e+13</td>\n",
              "    </tr>\n",
              "    <tr>\n",
              "      <th>1.500434e+11</th>\n",
              "      <td>6.932006e+14</td>\n",
              "    </tr>\n",
              "    <tr>\n",
              "      <th>3.081068e+11</th>\n",
              "      <td>2.033505e+13</td>\n",
              "    </tr>\n",
              "    <tr>\n",
              "      <th>1.184364e+12</th>\n",
              "      <td>1.125146e+14</td>\n",
              "    </tr>\n",
              "  </tbody>\n",
              "</table>\n",
              "<p>779 rows × 1 columns</p>\n",
              "</div>\n",
              "      <button class=\"colab-df-convert\" onclick=\"convertToInteractive('df-79d0b073-efc9-4727-906f-d6687523f1d9')\"\n",
              "              title=\"Convert this dataframe to an interactive table.\"\n",
              "              style=\"display:none;\">\n",
              "        \n",
              "  <svg xmlns=\"http://www.w3.org/2000/svg\" height=\"24px\"viewBox=\"0 0 24 24\"\n",
              "       width=\"24px\">\n",
              "    <path d=\"M0 0h24v24H0V0z\" fill=\"none\"/>\n",
              "    <path d=\"M18.56 5.44l.94 2.06.94-2.06 2.06-.94-2.06-.94-.94-2.06-.94 2.06-2.06.94zm-11 1L8.5 8.5l.94-2.06 2.06-.94-2.06-.94L8.5 2.5l-.94 2.06-2.06.94zm10 10l.94 2.06.94-2.06 2.06-.94-2.06-.94-.94-2.06-.94 2.06-2.06.94z\"/><path d=\"M17.41 7.96l-1.37-1.37c-.4-.4-.92-.59-1.43-.59-.52 0-1.04.2-1.43.59L10.3 9.45l-7.72 7.72c-.78.78-.78 2.05 0 2.83L4 21.41c.39.39.9.59 1.41.59.51 0 1.02-.2 1.41-.59l7.78-7.78 2.81-2.81c.8-.78.8-2.07 0-2.86zM5.41 20L4 18.59l7.72-7.72 1.47 1.35L5.41 20z\"/>\n",
              "  </svg>\n",
              "      </button>\n",
              "      \n",
              "  <style>\n",
              "    .colab-df-container {\n",
              "      display:flex;\n",
              "      flex-wrap:wrap;\n",
              "      gap: 12px;\n",
              "    }\n",
              "\n",
              "    .colab-df-convert {\n",
              "      background-color: #E8F0FE;\n",
              "      border: none;\n",
              "      border-radius: 50%;\n",
              "      cursor: pointer;\n",
              "      display: none;\n",
              "      fill: #1967D2;\n",
              "      height: 32px;\n",
              "      padding: 0 0 0 0;\n",
              "      width: 32px;\n",
              "    }\n",
              "\n",
              "    .colab-df-convert:hover {\n",
              "      background-color: #E2EBFA;\n",
              "      box-shadow: 0px 1px 2px rgba(60, 64, 67, 0.3), 0px 1px 3px 1px rgba(60, 64, 67, 0.15);\n",
              "      fill: #174EA6;\n",
              "    }\n",
              "\n",
              "    [theme=dark] .colab-df-convert {\n",
              "      background-color: #3B4455;\n",
              "      fill: #D2E3FC;\n",
              "    }\n",
              "\n",
              "    [theme=dark] .colab-df-convert:hover {\n",
              "      background-color: #434B5C;\n",
              "      box-shadow: 0px 1px 3px 1px rgba(0, 0, 0, 0.15);\n",
              "      filter: drop-shadow(0px 1px 2px rgba(0, 0, 0, 0.3));\n",
              "      fill: #FFFFFF;\n",
              "    }\n",
              "  </style>\n",
              "\n",
              "      <script>\n",
              "        const buttonEl =\n",
              "          document.querySelector('#df-79d0b073-efc9-4727-906f-d6687523f1d9 button.colab-df-convert');\n",
              "        buttonEl.style.display =\n",
              "          google.colab.kernel.accessAllowed ? 'block' : 'none';\n",
              "\n",
              "        async function convertToInteractive(key) {\n",
              "          const element = document.querySelector('#df-79d0b073-efc9-4727-906f-d6687523f1d9');\n",
              "          const dataTable =\n",
              "            await google.colab.kernel.invokeFunction('convertToInteractive',\n",
              "                                                     [key], {});\n",
              "          if (!dataTable) return;\n",
              "\n",
              "          const docLinkHtml = 'Like what you see? Visit the ' +\n",
              "            '<a target=\"_blank\" href=https://colab.research.google.com/notebooks/data_table.ipynb>data table notebook</a>'\n",
              "            + ' to learn more about interactive tables.';\n",
              "          element.innerHTML = '';\n",
              "          dataTable['output_type'] = 'display_data';\n",
              "          await google.colab.output.renderOutput(dataTable, element);\n",
              "          const docLink = document.createElement('div');\n",
              "          docLink.innerHTML = docLinkHtml;\n",
              "          element.appendChild(docLink);\n",
              "        }\n",
              "      </script>\n",
              "    </div>\n",
              "  </div>\n",
              "  "
            ]
          },
          "metadata": {},
          "execution_count": 325
        }
      ]
    },
    {
      "cell_type": "code",
      "source": [
        "t_stat,p_val = stats.ttest_1samp(kapitalisasi_pasar.MarketCap, 1500000000000)\n",
        "print('P-value:',p_val/2)\n",
        "print('t-statistics:',t_stat)"
      ],
      "metadata": {
        "colab": {
          "base_uri": "https://localhost:8080/"
        },
        "id": "880gociI-OMC",
        "outputId": "0d61964e-edbb-454d-a4ac-d5bb678bf8d3"
      },
      "execution_count": 326,
      "outputs": [
        {
          "output_type": "stream",
          "name": "stdout",
          "text": [
            "P-value: 5.194264059003604e-07\n",
            "t-statistics: 4.923413562126822\n"
          ]
        }
      ]
    },
    {
      "cell_type": "markdown",
      "source": [
        "Nilai dari P-Value diatas dari 0,05 maka dapat diambil kesimpulan tidak tolah H 0. P-value tidak signifikan (lebih besar dari 0,05), maka kita tidak dapat menolak hipotesis nol dan tidak ada bukti yang cukup untuk menunjukkan adanya hubungan atau perbedaan yang signifikan secara statistik antara Kapitalisasi pasar dengan jumlah saham beredar"
      ],
      "metadata": {
        "id": "LeR3rtYy6jd2"
      }
    },
    {
      "cell_type": "markdown",
      "source": [
        "# Kesimpulan "
      ],
      "metadata": {
        "id": "XfjWWFv86s0i"
      }
    },
    {
      "cell_type": "markdown",
      "source": [
        "Pemilihan sektor Financials yang didalamnya memiliki saham-saham perbankan dirasa cukup tepat mengingat porsi kapitalisasi nilai pasarnya adalah yang terbesar di Bursa Efek Indonesia hal ini dapat kita lihat melalui data korelasi Jumlah saham beredar dengan kapitalisasi pasar berdasrkan sektor industrinya.\n",
        "\n",
        "\n",
        "---\n",
        "\n",
        "Faktor kapitalisasi pasar amat penting dalam berinvestasi karena nilai tersebut akan mencerminkan seberapa liquid saham tersebut, yang artinya jika semakin besar nilai kapitalisasinya maka terdapat orang yang berinvesasi pada harga tersebut dan hal ini akan menimalisir adanya pergerakan harga yang bergerak secara fluktuatif karena adanya aktifitas spekulasi.\n",
        "\n",
        "---\n",
        "Di Bursa Efek Indonesia saham dengan kapitalisasi pasar terbesar adalah Bank BCA (BBCA). sebagai seorang data analyst saya memberikan rekomendasi untuk saham BBCA dijadikan salah satu pertimbangan investasi dari portofolio Candy Crush Sekuritas dengan alasan sebagai berikut:\n",
        "1. Kapitalisasi Pasar : hampir 1000 Triliun rupiah dan terbesar di Bursa Efek Indonesia\n",
        "2. Jumlah saham beredar : persebaran saham BCA yang diterbitkan kepublik berada di urutan nomer 2 sebesar 1.2 Triliun lembar saham di bawah Bank BRI. akan tetapi dengan jumlah saham beredar sebanyak 1.2 Triliun lembar saham, saham BBCA memiliki kapitalisasi pasar terbesar dibandingakan saham BBRI yang kapitalisasi pasarnya berada di urutan kedua setelah saham BBCA\n",
        "3. Harga Saham : Berdasarkan analisis pergerakan harga saham BBCA sejak awal terbit di Bursa efek Indonesia hingga sekarang. pergerakan harganya tidak fluktuatif sehingga nilai risiko penurunan harga drastis cukup kecil.\n",
        "\n"
      ],
      "metadata": {
        "id": "cZsFCBzG6xBk"
      }
    }
  ]
}